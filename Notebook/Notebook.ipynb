{
 "cells": [
  {
   "cell_type": "markdown",
   "metadata": {},
   "source": [
    "# Cleaning and clustering car ads"
   ]
  },
  {
   "cell_type": "markdown",
   "metadata": {},
   "source": [
    "The goal of this project is to analyze and clean a dataset of ads, which are related to the sale of used cars. I will de-duplicate the data, analyze and clean it, select only the relvant features and create some clusters in order to find interesting prices trends."
   ]
  },
  {
   "cell_type": "markdown",
   "metadata": {},
   "source": [
    "## Initialization\n"
   ]
  },
  {
   "cell_type": "markdown",
   "metadata": {},
   "source": [
    "### Setting everythin up"
   ]
  },
  {
   "cell_type": "code",
   "execution_count": 2,
   "metadata": {},
   "outputs": [],
   "source": [
    "# %pip install seaborn \n",
    "# %pip install matplotlib \n",
    "# %pip install plotly \n",
    "# %pip install pandas\n",
    "# %pip install numpy\n",
    "# %pip install dython \n",
    "# %pip install kmodes\n",
    "# %pip install tqdm\n"
   ]
  },
  {
   "cell_type": "code",
   "execution_count": 3,
   "metadata": {},
   "outputs": [],
   "source": [
    "import seaborn as sns\n",
    "import matplotlib as mpl\n",
    "import matplotlib.pyplot as plt\n",
    "import pandas as pd\n",
    "import numpy as np\n",
    "import os\n",
    "import plotly.express as px\n",
    "from datetime import datetime\n",
    "from dython import nominal\n",
    "from kmodes.kmodes import KModes\n",
    "import tqdm\n"
   ]
  },
  {
   "cell_type": "markdown",
   "metadata": {},
   "source": [
    "### Import data"
   ]
  },
  {
   "cell_type": "code",
   "execution_count": 4,
   "metadata": {},
   "outputs": [
    {
     "name": "stderr",
     "output_type": "stream",
     "text": [
      "/tmp/ipykernel_23404/2181185685.py:4: DtypeWarning: Columns (8,20,21) have mixed types. Specify dtype option on import or set low_memory=False.\n",
      "  df = pd.read_csv(\"../Dataset/ads.csv\")\n"
     ]
    }
   ],
   "source": [
    "pd.set_option(\"display.max_columns\", None)  \n",
    "# pd.reset_option(\"max_columns\")\n",
    "\n",
    "df = pd.read_csv(\"../Dataset/ads.csv\")"
   ]
  },
  {
   "cell_type": "markdown",
   "metadata": {},
   "source": [
    "## A first look at the data"
   ]
  },
  {
   "cell_type": "code",
   "execution_count": 5,
   "metadata": {},
   "outputs": [
    {
     "data": {
      "text/html": [
       "<div>\n",
       "<style scoped>\n",
       "    .dataframe tbody tr th:only-of-type {\n",
       "        vertical-align: middle;\n",
       "    }\n",
       "\n",
       "    .dataframe tbody tr th {\n",
       "        vertical-align: top;\n",
       "    }\n",
       "\n",
       "    .dataframe thead th {\n",
       "        text-align: right;\n",
       "    }\n",
       "</style>\n",
       "<table border=\"1\" class=\"dataframe\">\n",
       "  <thead>\n",
       "    <tr style=\"text-align: right;\">\n",
       "      <th></th>\n",
       "      <th>Unnamed: 0</th>\n",
       "      <th>ecoClass</th>\n",
       "      <th>weight</th>\n",
       "      <th>location</th>\n",
       "      <th>seller</th>\n",
       "      <th>updatedAt</th>\n",
       "      <th>sellerType</th>\n",
       "      <th>source</th>\n",
       "      <th>color</th>\n",
       "      <th>cylinders</th>\n",
       "      <th>gears</th>\n",
       "      <th>description</th>\n",
       "      <th>makeId</th>\n",
       "      <th>doors</th>\n",
       "      <th>gmapsAddress</th>\n",
       "      <th>bodyType</th>\n",
       "      <th>kw</th>\n",
       "      <th>title</th>\n",
       "      <th>co2Emissions</th>\n",
       "      <th>urn</th>\n",
       "      <th>consumption</th>\n",
       "      <th>forNoviceDrivers</th>\n",
       "      <th>year</th>\n",
       "      <th>price</th>\n",
       "      <th>km</th>\n",
       "      <th>engineSize</th>\n",
       "      <th>createdAt</th>\n",
       "      <th>status</th>\n",
       "      <th>seats</th>\n",
       "      <th>supply</th>\n",
       "      <th>gearType</th>\n",
       "      <th>doc_id</th>\n",
       "      <th>modelId</th>\n",
       "      <th>created_dt</th>\n",
       "    </tr>\n",
       "  </thead>\n",
       "  <tbody>\n",
       "    <tr>\n",
       "      <th>0</th>\n",
       "      <td>0</td>\n",
       "      <td>Euro 6d-TEMP</td>\n",
       "      <td>1385.0</td>\n",
       "      <td>NaN</td>\n",
       "      <td>Autohero Italia srl - Palermo</td>\n",
       "      <td>2021-09-07T14:25:58Z</td>\n",
       "      <td>NaN</td>\n",
       "      <td>b24</td>\n",
       "      <td>Grigio</td>\n",
       "      <td>4.0</td>\n",
       "      <td>6.0</td>\n",
       "      <td>Offerta n. TM25231\\nhttps://www.autohero.com/i...</td>\n",
       "      <td>b24-6</td>\n",
       "      <td>5</td>\n",
       "      <td>90146 Palermo - PA, Viale Strasburgo, 188, Italia</td>\n",
       "      <td>Berlina</td>\n",
       "      <td>88.0</td>\n",
       "      <td>Alfa Romeo Giulietta 1.6 JTDm 120 CV Super - C...</td>\n",
       "      <td>123.0</td>\n",
       "      <td>NaN</td>\n",
       "      <td>4,7 l/100 km (comb.)\\n4,1 l/100 km (urbano)\\n5...</td>\n",
       "      <td>NaN</td>\n",
       "      <td>2019.0</td>\n",
       "      <td>16699</td>\n",
       "      <td>22305.0</td>\n",
       "      <td>1598.0</td>\n",
       "      <td>2021-08-31T10:55:00Z</td>\n",
       "      <td>OFFLINE</td>\n",
       "      <td>5.0</td>\n",
       "      <td>Diesel</td>\n",
       "      <td>Manuale</td>\n",
       "      <td>443127349f6368308a9a15635c226fe17780a77495a186...</td>\n",
       "      <td>b24-1611</td>\n",
       "      <td>2021-08-31 10:55:00+00:00</td>\n",
       "    </tr>\n",
       "    <tr>\n",
       "      <th>1</th>\n",
       "      <td>1</td>\n",
       "      <td>Euro 6d-TEMP</td>\n",
       "      <td>1385.0</td>\n",
       "      <td>NaN</td>\n",
       "      <td>Autohero Italia srl</td>\n",
       "      <td>2021-09-07T14:25:56Z</td>\n",
       "      <td>NaN</td>\n",
       "      <td>b24</td>\n",
       "      <td>Grigio</td>\n",
       "      <td>4.0</td>\n",
       "      <td>6.0</td>\n",
       "      <td>Offerta n. TM25231\\nhttps://www.autohero.com/i...</td>\n",
       "      <td>b24-6</td>\n",
       "      <td>5</td>\n",
       "      <td>00148 Roma, Via del Ponte Pisano, 98, Italia</td>\n",
       "      <td>Berlina</td>\n",
       "      <td>88.0</td>\n",
       "      <td>Alfa Romeo Giulietta 1.6 JTDm 120 CV Super - C...</td>\n",
       "      <td>123.0</td>\n",
       "      <td>NaN</td>\n",
       "      <td>4,7 l/100 km (comb.)\\n4,1 l/100 km (urbano)\\n5...</td>\n",
       "      <td>NaN</td>\n",
       "      <td>2019.0</td>\n",
       "      <td>16699</td>\n",
       "      <td>22305.0</td>\n",
       "      <td>1598.0</td>\n",
       "      <td>2021-08-31T10:54:58Z</td>\n",
       "      <td>OFFLINE</td>\n",
       "      <td>5.0</td>\n",
       "      <td>Diesel</td>\n",
       "      <td>Manuale</td>\n",
       "      <td>ecb14705ee1425337546a3eb6f6b129a1e8288db1d56a1...</td>\n",
       "      <td>b24-1611</td>\n",
       "      <td>2021-08-31 10:54:58+00:00</td>\n",
       "    </tr>\n",
       "    <tr>\n",
       "      <th>2</th>\n",
       "      <td>2</td>\n",
       "      <td>Euro 6d</td>\n",
       "      <td>1475.0</td>\n",
       "      <td>{'lat': 43.2895808, 'lon': 13.7342527}</td>\n",
       "      <td>NaN</td>\n",
       "      <td>2021-08-31T10:54:29Z</td>\n",
       "      <td>NaN</td>\n",
       "      <td>b24</td>\n",
       "      <td>Grigio</td>\n",
       "      <td>4.0</td>\n",
       "      <td>6.0</td>\n",
       "      <td>L'auto ha ancora 12 mesi di garanzia Alfa Rome...</td>\n",
       "      <td>b24-6</td>\n",
       "      <td>5</td>\n",
       "      <td>63018 Porto Sant'Elpidio, Italia</td>\n",
       "      <td>Berlina</td>\n",
       "      <td>88.0</td>\n",
       "      <td>Alfa Romeo Giulietta Giulietta 1.6 jtdm Busine...</td>\n",
       "      <td>118.0</td>\n",
       "      <td>NaN</td>\n",
       "      <td>4,5 l/100 km (comb.)\\n5,1 l/100 km (urbano)\\n4...</td>\n",
       "      <td>NaN</td>\n",
       "      <td>2019.0</td>\n",
       "      <td>13500</td>\n",
       "      <td>42000.0</td>\n",
       "      <td>1598.0</td>\n",
       "      <td>2021-08-31T10:54:29Z</td>\n",
       "      <td>OFFLINE</td>\n",
       "      <td>5.0</td>\n",
       "      <td>Diesel</td>\n",
       "      <td>Semiautomatico</td>\n",
       "      <td>2f38eecdb13480163c56fba13c2a417dfd8927a5121895...</td>\n",
       "      <td>b24-1611</td>\n",
       "      <td>2021-08-31 10:54:29+00:00</td>\n",
       "    </tr>\n",
       "    <tr>\n",
       "      <th>3</th>\n",
       "      <td>3</td>\n",
       "      <td>Euro 6</td>\n",
       "      <td>NaN</td>\n",
       "      <td>NaN</td>\n",
       "      <td>Gruppo Bossoni Spa</td>\n",
       "      <td>2021-08-31T10:54:19Z</td>\n",
       "      <td>NaN</td>\n",
       "      <td>b24</td>\n",
       "      <td>Grigio</td>\n",
       "      <td>4.0</td>\n",
       "      <td>6.0</td>\n",
       "      <td>DEK:[5184052]\\nCod. U639898\\nPREZZO EFFETTIVO,...</td>\n",
       "      <td>b24-6</td>\n",
       "      <td>5</td>\n",
       "      <td>25123 Brescia - Brescia - BS, Via Triumplina 9...</td>\n",
       "      <td>Berlina</td>\n",
       "      <td>88.0</td>\n",
       "      <td>Alfa Romeo Giulietta 1.6 jtdm Super 120cv tct</td>\n",
       "      <td>125.0</td>\n",
       "      <td>NaN</td>\n",
       "      <td>4,7 l/100 km (comb.)\\n5,1 l/100 km (urbano)\\n4...</td>\n",
       "      <td>NaN</td>\n",
       "      <td>2019.0</td>\n",
       "      <td>15650</td>\n",
       "      <td>24818.0</td>\n",
       "      <td>1598.0</td>\n",
       "      <td>2021-08-31T10:54:19Z</td>\n",
       "      <td>OFFLINE</td>\n",
       "      <td>5.0</td>\n",
       "      <td>Diesel</td>\n",
       "      <td>Automatico</td>\n",
       "      <td>37d18003e981873650f5b2ba90767e3dfa6271fd47e7c8...</td>\n",
       "      <td>b24-1611</td>\n",
       "      <td>2021-08-31 10:54:19+00:00</td>\n",
       "    </tr>\n",
       "    <tr>\n",
       "      <th>4</th>\n",
       "      <td>4</td>\n",
       "      <td>Euro 6</td>\n",
       "      <td>1365.0</td>\n",
       "      <td>{'lat': 45.89309129065672, 'lon': 13.499571852...</td>\n",
       "      <td>NaN</td>\n",
       "      <td>2021-09-07T14:24:57Z</td>\n",
       "      <td>NaN</td>\n",
       "      <td>b24</td>\n",
       "      <td>Bianco</td>\n",
       "      <td>4.0</td>\n",
       "      <td>6.0</td>\n",
       "      <td>Vendo alfa romeo giulietta 1.4 150cv super\\nAl...</td>\n",
       "      <td>b24-6</td>\n",
       "      <td>5</td>\n",
       "      <td>34072 gradisca d' isonzo, Italia</td>\n",
       "      <td>Berlina</td>\n",
       "      <td>110.0</td>\n",
       "      <td>Alfa Romeo Giulietta 1.4 Turbo MultiAir 150 CV...</td>\n",
       "      <td>127.0</td>\n",
       "      <td>NaN</td>\n",
       "      <td>5,5 l/100 km (comb.)\\n7,4 l/100 km (urbano)\\n4...</td>\n",
       "      <td>NaN</td>\n",
       "      <td>2016.0</td>\n",
       "      <td>16500</td>\n",
       "      <td>61500.0</td>\n",
       "      <td>1368.0</td>\n",
       "      <td>2021-08-31T10:53:49Z</td>\n",
       "      <td>OFFLINE</td>\n",
       "      <td>5.0</td>\n",
       "      <td>Benzina</td>\n",
       "      <td>Manuale</td>\n",
       "      <td>b8e802e6ae9660b646727967f55fd761496e0b314d86f6...</td>\n",
       "      <td>b24-1611</td>\n",
       "      <td>2021-08-31 10:53:49+00:00</td>\n",
       "    </tr>\n",
       "  </tbody>\n",
       "</table>\n",
       "</div>"
      ],
      "text/plain": [
       "   Unnamed: 0      ecoClass  weight  \\\n",
       "0           0  Euro 6d-TEMP  1385.0   \n",
       "1           1  Euro 6d-TEMP  1385.0   \n",
       "2           2       Euro 6d  1475.0   \n",
       "3           3        Euro 6     NaN   \n",
       "4           4        Euro 6  1365.0   \n",
       "\n",
       "                                            location  \\\n",
       "0                                                NaN   \n",
       "1                                                NaN   \n",
       "2             {'lat': 43.2895808, 'lon': 13.7342527}   \n",
       "3                                                NaN   \n",
       "4  {'lat': 45.89309129065672, 'lon': 13.499571852...   \n",
       "\n",
       "                          seller             updatedAt sellerType source  \\\n",
       "0  Autohero Italia srl - Palermo  2021-09-07T14:25:58Z        NaN    b24   \n",
       "1            Autohero Italia srl  2021-09-07T14:25:56Z        NaN    b24   \n",
       "2                            NaN  2021-08-31T10:54:29Z        NaN    b24   \n",
       "3             Gruppo Bossoni Spa  2021-08-31T10:54:19Z        NaN    b24   \n",
       "4                            NaN  2021-09-07T14:24:57Z        NaN    b24   \n",
       "\n",
       "    color  cylinders  gears  \\\n",
       "0  Grigio        4.0    6.0   \n",
       "1  Grigio        4.0    6.0   \n",
       "2  Grigio        4.0    6.0   \n",
       "3  Grigio        4.0    6.0   \n",
       "4  Bianco        4.0    6.0   \n",
       "\n",
       "                                         description makeId doors  \\\n",
       "0  Offerta n. TM25231\\nhttps://www.autohero.com/i...  b24-6     5   \n",
       "1  Offerta n. TM25231\\nhttps://www.autohero.com/i...  b24-6     5   \n",
       "2  L'auto ha ancora 12 mesi di garanzia Alfa Rome...  b24-6     5   \n",
       "3  DEK:[5184052]\\nCod. U639898\\nPREZZO EFFETTIVO,...  b24-6     5   \n",
       "4  Vendo alfa romeo giulietta 1.4 150cv super\\nAl...  b24-6     5   \n",
       "\n",
       "                                        gmapsAddress bodyType     kw  \\\n",
       "0  90146 Palermo - PA, Viale Strasburgo, 188, Italia  Berlina   88.0   \n",
       "1       00148 Roma, Via del Ponte Pisano, 98, Italia  Berlina   88.0   \n",
       "2                   63018 Porto Sant'Elpidio, Italia  Berlina   88.0   \n",
       "3  25123 Brescia - Brescia - BS, Via Triumplina 9...  Berlina   88.0   \n",
       "4                   34072 gradisca d' isonzo, Italia  Berlina  110.0   \n",
       "\n",
       "                                               title  co2Emissions  urn  \\\n",
       "0  Alfa Romeo Giulietta 1.6 JTDm 120 CV Super - C...         123.0  NaN   \n",
       "1  Alfa Romeo Giulietta 1.6 JTDm 120 CV Super - C...         123.0  NaN   \n",
       "2  Alfa Romeo Giulietta Giulietta 1.6 jtdm Busine...         118.0  NaN   \n",
       "3      Alfa Romeo Giulietta 1.6 jtdm Super 120cv tct         125.0  NaN   \n",
       "4  Alfa Romeo Giulietta 1.4 Turbo MultiAir 150 CV...         127.0  NaN   \n",
       "\n",
       "                                         consumption forNoviceDrivers    year  \\\n",
       "0  4,7 l/100 km (comb.)\\n4,1 l/100 km (urbano)\\n5...              NaN  2019.0   \n",
       "1  4,7 l/100 km (comb.)\\n4,1 l/100 km (urbano)\\n5...              NaN  2019.0   \n",
       "2  4,5 l/100 km (comb.)\\n5,1 l/100 km (urbano)\\n4...              NaN  2019.0   \n",
       "3  4,7 l/100 km (comb.)\\n5,1 l/100 km (urbano)\\n4...              NaN  2019.0   \n",
       "4  5,5 l/100 km (comb.)\\n7,4 l/100 km (urbano)\\n4...              NaN  2016.0   \n",
       "\n",
       "   price       km  engineSize             createdAt   status  seats   supply  \\\n",
       "0  16699  22305.0      1598.0  2021-08-31T10:55:00Z  OFFLINE    5.0   Diesel   \n",
       "1  16699  22305.0      1598.0  2021-08-31T10:54:58Z  OFFLINE    5.0   Diesel   \n",
       "2  13500  42000.0      1598.0  2021-08-31T10:54:29Z  OFFLINE    5.0   Diesel   \n",
       "3  15650  24818.0      1598.0  2021-08-31T10:54:19Z  OFFLINE    5.0   Diesel   \n",
       "4  16500  61500.0      1368.0  2021-08-31T10:53:49Z  OFFLINE    5.0  Benzina   \n",
       "\n",
       "         gearType                                             doc_id  \\\n",
       "0         Manuale  443127349f6368308a9a15635c226fe17780a77495a186...   \n",
       "1         Manuale  ecb14705ee1425337546a3eb6f6b129a1e8288db1d56a1...   \n",
       "2  Semiautomatico  2f38eecdb13480163c56fba13c2a417dfd8927a5121895...   \n",
       "3      Automatico  37d18003e981873650f5b2ba90767e3dfa6271fd47e7c8...   \n",
       "4         Manuale  b8e802e6ae9660b646727967f55fd761496e0b314d86f6...   \n",
       "\n",
       "    modelId                 created_dt  \n",
       "0  b24-1611  2021-08-31 10:55:00+00:00  \n",
       "1  b24-1611  2021-08-31 10:54:58+00:00  \n",
       "2  b24-1611  2021-08-31 10:54:29+00:00  \n",
       "3  b24-1611  2021-08-31 10:54:19+00:00  \n",
       "4  b24-1611  2021-08-31 10:53:49+00:00  "
      ]
     },
     "execution_count": 5,
     "metadata": {},
     "output_type": "execute_result"
    }
   ],
   "source": [
    "df.head()\n"
   ]
  },
  {
   "cell_type": "code",
   "execution_count": 6,
   "metadata": {},
   "outputs": [
    {
     "data": {
      "text/html": [
       "<div>\n",
       "<style scoped>\n",
       "    .dataframe tbody tr th:only-of-type {\n",
       "        vertical-align: middle;\n",
       "    }\n",
       "\n",
       "    .dataframe tbody tr th {\n",
       "        vertical-align: top;\n",
       "    }\n",
       "\n",
       "    .dataframe thead th {\n",
       "        text-align: right;\n",
       "    }\n",
       "</style>\n",
       "<table border=\"1\" class=\"dataframe\">\n",
       "  <thead>\n",
       "    <tr style=\"text-align: right;\">\n",
       "      <th></th>\n",
       "      <th>Unnamed: 0</th>\n",
       "      <th>ecoClass</th>\n",
       "      <th>weight</th>\n",
       "      <th>location</th>\n",
       "      <th>seller</th>\n",
       "      <th>updatedAt</th>\n",
       "      <th>sellerType</th>\n",
       "      <th>source</th>\n",
       "      <th>color</th>\n",
       "      <th>cylinders</th>\n",
       "      <th>gears</th>\n",
       "      <th>description</th>\n",
       "      <th>makeId</th>\n",
       "      <th>doors</th>\n",
       "      <th>gmapsAddress</th>\n",
       "      <th>bodyType</th>\n",
       "      <th>kw</th>\n",
       "      <th>title</th>\n",
       "      <th>co2Emissions</th>\n",
       "      <th>urn</th>\n",
       "      <th>consumption</th>\n",
       "      <th>forNoviceDrivers</th>\n",
       "      <th>year</th>\n",
       "      <th>price</th>\n",
       "      <th>km</th>\n",
       "      <th>engineSize</th>\n",
       "      <th>createdAt</th>\n",
       "      <th>status</th>\n",
       "      <th>seats</th>\n",
       "      <th>supply</th>\n",
       "      <th>gearType</th>\n",
       "      <th>doc_id</th>\n",
       "      <th>modelId</th>\n",
       "      <th>created_dt</th>\n",
       "    </tr>\n",
       "  </thead>\n",
       "  <tbody>\n",
       "    <tr>\n",
       "      <th>27786</th>\n",
       "      <td>30850</td>\n",
       "      <td>Pre-Euro</td>\n",
       "      <td>NaN</td>\n",
       "      <td>{'lat': 45.65335, 'lon': 12.2960979}</td>\n",
       "      <td>LIVIO OLIVOTTO</td>\n",
       "      <td>2022-02-15T18:45:16Z</td>\n",
       "      <td>Azienda</td>\n",
       "      <td>a</td>\n",
       "      <td>NaN</td>\n",
       "      <td>NaN</td>\n",
       "      <td>NaN</td>\n",
       "      <td>Chilometraggio: 150000\\nCondizioni: usato\\nImm...</td>\n",
       "      <td>a-000083</td>\n",
       "      <td>[2, 3]</td>\n",
       "      <td>Silea, Treviso</td>\n",
       "      <td>Utilitaria</td>\n",
       "      <td>59.0</td>\n",
       "      <td>ALFA ROMEO Giulietta  Sprint Seconda Serie</td>\n",
       "      <td>NaN</td>\n",
       "      <td>id:ad:419631219:list:377138302</td>\n",
       "      <td>NaN</td>\n",
       "      <td>NaN</td>\n",
       "      <td>1960.0</td>\n",
       "      <td>38000</td>\n",
       "      <td>150000.0</td>\n",
       "      <td>NaN</td>\n",
       "      <td>2021-12-22T00:32:45Z</td>\n",
       "      <td>OFFLINE</td>\n",
       "      <td>4.0</td>\n",
       "      <td>Benzina</td>\n",
       "      <td>Manuale</td>\n",
       "      <td>bca3c66f9c2b6c3e77a55898094afab7d631d422d25873...</td>\n",
       "      <td>a-000313</td>\n",
       "      <td>2021-12-22 00:32:45+00:00</td>\n",
       "    </tr>\n",
       "    <tr>\n",
       "      <th>27787</th>\n",
       "      <td>30851</td>\n",
       "      <td>Euro 5</td>\n",
       "      <td>NaN</td>\n",
       "      <td>{'lat': 40.8939029, 'lon': 9.4864775}</td>\n",
       "      <td>MotorGest | Roma - Sardegna</td>\n",
       "      <td>2022-02-15T18:45:29Z</td>\n",
       "      <td>Azienda</td>\n",
       "      <td>a</td>\n",
       "      <td>NaN</td>\n",
       "      <td>NaN</td>\n",
       "      <td>NaN</td>\n",
       "      <td>- VISIBILE SOLO SU APPUNTAMENTO -\\n\\nGuarda l'...</td>\n",
       "      <td>a-000083</td>\n",
       "      <td>[4, 5]</td>\n",
       "      <td>Olbia, Sassari</td>\n",
       "      <td>Berlina</td>\n",
       "      <td>NaN</td>\n",
       "      <td>ALFA ROMEO Giulietta (2010) - 2015</td>\n",
       "      <td>NaN</td>\n",
       "      <td>id:ad:460380398:list:415457676</td>\n",
       "      <td>NaN</td>\n",
       "      <td>NaN</td>\n",
       "      <td>2015.0</td>\n",
       "      <td>11800</td>\n",
       "      <td>117000.0</td>\n",
       "      <td>NaN</td>\n",
       "      <td>2021-12-20T11:20:07Z</td>\n",
       "      <td>OFFLINE</td>\n",
       "      <td>5.0</td>\n",
       "      <td>Diesel</td>\n",
       "      <td>Manuale</td>\n",
       "      <td>9cae769070b2bb0c3a2ec16f6ccc0af8cb3f4d932a7eae...</td>\n",
       "      <td>a-000313</td>\n",
       "      <td>2021-12-20 11:20:07+00:00</td>\n",
       "    </tr>\n",
       "    <tr>\n",
       "      <th>27788</th>\n",
       "      <td>30852</td>\n",
       "      <td>Euro 5</td>\n",
       "      <td>NaN</td>\n",
       "      <td>{'lat': 41.8933203, 'lon': 12.4829321}</td>\n",
       "      <td>S_P_ Policar 2009</td>\n",
       "      <td>2022-02-15T18:45:30Z</td>\n",
       "      <td>Azienda</td>\n",
       "      <td>a</td>\n",
       "      <td>NaN</td>\n",
       "      <td>NaN</td>\n",
       "      <td>NaN</td>\n",
       "      <td>clima autoradio cd alzacristalli elettrici com...</td>\n",
       "      <td>a-000083</td>\n",
       "      <td>[4, 5]</td>\n",
       "      <td>Roma, Roma</td>\n",
       "      <td>Berlina</td>\n",
       "      <td>NaN</td>\n",
       "      <td>ALFA ROMEO Giulietta (2010) - 2012</td>\n",
       "      <td>NaN</td>\n",
       "      <td>id:ad:460377061:list:415454398</td>\n",
       "      <td>NaN</td>\n",
       "      <td>NaN</td>\n",
       "      <td>2012.0</td>\n",
       "      <td>7500</td>\n",
       "      <td>190000.0</td>\n",
       "      <td>NaN</td>\n",
       "      <td>2021-12-20T11:01:50Z</td>\n",
       "      <td>OFFLINE</td>\n",
       "      <td>5.0</td>\n",
       "      <td>Diesel</td>\n",
       "      <td>Manuale</td>\n",
       "      <td>b38ed6f049eb021dca2ded895430cefc660712db63e563...</td>\n",
       "      <td>a-000313</td>\n",
       "      <td>2021-12-20 11:01:50+00:00</td>\n",
       "    </tr>\n",
       "    <tr>\n",
       "      <th>27789</th>\n",
       "      <td>30853</td>\n",
       "      <td>Euro 5</td>\n",
       "      <td>NaN</td>\n",
       "      <td>{'lat': 37.1016361, 'lon': 13.9376147}</td>\n",
       "      <td>generoso motors</td>\n",
       "      <td>2022-02-15T18:45:34Z</td>\n",
       "      <td>Azienda</td>\n",
       "      <td>a</td>\n",
       "      <td>NaN</td>\n",
       "      <td>NaN</td>\n",
       "      <td>NaN</td>\n",
       "      <td>GENEROSO MOTORS, azienda leader nella compra-v...</td>\n",
       "      <td>a-000083</td>\n",
       "      <td>[4, 5]</td>\n",
       "      <td>Licata, Agrigento</td>\n",
       "      <td>Berlina</td>\n",
       "      <td>77.0</td>\n",
       "      <td>Alfa Romeo Giulietta 1.6 JTDm-2 105 CV Progres...</td>\n",
       "      <td>NaN</td>\n",
       "      <td>id:ad:429917690:list:386763200</td>\n",
       "      <td>NaN</td>\n",
       "      <td>NaN</td>\n",
       "      <td>2011.0</td>\n",
       "      <td>8500</td>\n",
       "      <td>152000.0</td>\n",
       "      <td>1598.0</td>\n",
       "      <td>2021-12-19T19:00:08Z</td>\n",
       "      <td>OFFLINE</td>\n",
       "      <td>5.0</td>\n",
       "      <td>Diesel</td>\n",
       "      <td>Manuale</td>\n",
       "      <td>572bf1b1c3ae8271268483162da95d74fe744f571f0faf...</td>\n",
       "      <td>a-000313</td>\n",
       "      <td>2021-12-19 19:00:08+00:00</td>\n",
       "    </tr>\n",
       "    <tr>\n",
       "      <th>27790</th>\n",
       "      <td>30854</td>\n",
       "      <td>Euro 6</td>\n",
       "      <td>NaN</td>\n",
       "      <td>{'lat': 46.2738173, 'lon': 10.940221602671102}</td>\n",
       "      <td>Daniel</td>\n",
       "      <td>2022-02-15T18:45:41Z</td>\n",
       "      <td>Privato</td>\n",
       "      <td>a</td>\n",
       "      <td>NaN</td>\n",
       "      <td>NaN</td>\n",
       "      <td>NaN</td>\n",
       "      <td>Vendo splendida alfa romeo giulietta quadrifog...</td>\n",
       "      <td>a-000083</td>\n",
       "      <td>[4, 5]</td>\n",
       "      <td>Ville d'Anaunia, Trento</td>\n",
       "      <td>Berlina</td>\n",
       "      <td>NaN</td>\n",
       "      <td>Alfa giulietta quadrifoglio verde</td>\n",
       "      <td>NaN</td>\n",
       "      <td>id:ad:450983753:list:406642783</td>\n",
       "      <td>NaN</td>\n",
       "      <td>NaN</td>\n",
       "      <td>2014.0</td>\n",
       "      <td>16500</td>\n",
       "      <td>99000.0</td>\n",
       "      <td>NaN</td>\n",
       "      <td>2021-12-19T09:43:21Z</td>\n",
       "      <td>OFFLINE</td>\n",
       "      <td>5.0</td>\n",
       "      <td>Benzina</td>\n",
       "      <td>Automatico</td>\n",
       "      <td>079ff066f249754723d586cf398100ea3dd756d0937e24...</td>\n",
       "      <td>a-000313</td>\n",
       "      <td>2021-12-19 09:43:21+00:00</td>\n",
       "    </tr>\n",
       "  </tbody>\n",
       "</table>\n",
       "</div>"
      ],
      "text/plain": [
       "       Unnamed: 0  ecoClass  weight  \\\n",
       "27786       30850  Pre-Euro     NaN   \n",
       "27787       30851    Euro 5     NaN   \n",
       "27788       30852    Euro 5     NaN   \n",
       "27789       30853    Euro 5     NaN   \n",
       "27790       30854    Euro 6     NaN   \n",
       "\n",
       "                                             location  \\\n",
       "27786            {'lat': 45.65335, 'lon': 12.2960979}   \n",
       "27787           {'lat': 40.8939029, 'lon': 9.4864775}   \n",
       "27788          {'lat': 41.8933203, 'lon': 12.4829321}   \n",
       "27789          {'lat': 37.1016361, 'lon': 13.9376147}   \n",
       "27790  {'lat': 46.2738173, 'lon': 10.940221602671102}   \n",
       "\n",
       "                            seller             updatedAt sellerType source  \\\n",
       "27786               LIVIO OLIVOTTO  2022-02-15T18:45:16Z    Azienda      a   \n",
       "27787  MotorGest | Roma - Sardegna  2022-02-15T18:45:29Z    Azienda      a   \n",
       "27788            S_P_ Policar 2009  2022-02-15T18:45:30Z    Azienda      a   \n",
       "27789              generoso motors  2022-02-15T18:45:34Z    Azienda      a   \n",
       "27790                       Daniel  2022-02-15T18:45:41Z    Privato      a   \n",
       "\n",
       "      color  cylinders  gears  \\\n",
       "27786   NaN        NaN    NaN   \n",
       "27787   NaN        NaN    NaN   \n",
       "27788   NaN        NaN    NaN   \n",
       "27789   NaN        NaN    NaN   \n",
       "27790   NaN        NaN    NaN   \n",
       "\n",
       "                                             description    makeId   doors  \\\n",
       "27786  Chilometraggio: 150000\\nCondizioni: usato\\nImm...  a-000083  [2, 3]   \n",
       "27787  - VISIBILE SOLO SU APPUNTAMENTO -\\n\\nGuarda l'...  a-000083  [4, 5]   \n",
       "27788  clima autoradio cd alzacristalli elettrici com...  a-000083  [4, 5]   \n",
       "27789  GENEROSO MOTORS, azienda leader nella compra-v...  a-000083  [4, 5]   \n",
       "27790  Vendo splendida alfa romeo giulietta quadrifog...  a-000083  [4, 5]   \n",
       "\n",
       "                  gmapsAddress    bodyType    kw  \\\n",
       "27786           Silea, Treviso  Utilitaria  59.0   \n",
       "27787           Olbia, Sassari     Berlina   NaN   \n",
       "27788               Roma, Roma     Berlina   NaN   \n",
       "27789        Licata, Agrigento     Berlina  77.0   \n",
       "27790  Ville d'Anaunia, Trento     Berlina   NaN   \n",
       "\n",
       "                                                   title  co2Emissions  \\\n",
       "27786         ALFA ROMEO Giulietta  Sprint Seconda Serie           NaN   \n",
       "27787                 ALFA ROMEO Giulietta (2010) - 2015           NaN   \n",
       "27788                 ALFA ROMEO Giulietta (2010) - 2012           NaN   \n",
       "27789  Alfa Romeo Giulietta 1.6 JTDm-2 105 CV Progres...           NaN   \n",
       "27790                  Alfa giulietta quadrifoglio verde           NaN   \n",
       "\n",
       "                                  urn consumption forNoviceDrivers    year  \\\n",
       "27786  id:ad:419631219:list:377138302         NaN              NaN  1960.0   \n",
       "27787  id:ad:460380398:list:415457676         NaN              NaN  2015.0   \n",
       "27788  id:ad:460377061:list:415454398         NaN              NaN  2012.0   \n",
       "27789  id:ad:429917690:list:386763200         NaN              NaN  2011.0   \n",
       "27790  id:ad:450983753:list:406642783         NaN              NaN  2014.0   \n",
       "\n",
       "       price        km  engineSize             createdAt   status  seats  \\\n",
       "27786  38000  150000.0         NaN  2021-12-22T00:32:45Z  OFFLINE    4.0   \n",
       "27787  11800  117000.0         NaN  2021-12-20T11:20:07Z  OFFLINE    5.0   \n",
       "27788   7500  190000.0         NaN  2021-12-20T11:01:50Z  OFFLINE    5.0   \n",
       "27789   8500  152000.0      1598.0  2021-12-19T19:00:08Z  OFFLINE    5.0   \n",
       "27790  16500   99000.0         NaN  2021-12-19T09:43:21Z  OFFLINE    5.0   \n",
       "\n",
       "        supply    gearType                                             doc_id  \\\n",
       "27786  Benzina     Manuale  bca3c66f9c2b6c3e77a55898094afab7d631d422d25873...   \n",
       "27787   Diesel     Manuale  9cae769070b2bb0c3a2ec16f6ccc0af8cb3f4d932a7eae...   \n",
       "27788   Diesel     Manuale  b38ed6f049eb021dca2ded895430cefc660712db63e563...   \n",
       "27789   Diesel     Manuale  572bf1b1c3ae8271268483162da95d74fe744f571f0faf...   \n",
       "27790  Benzina  Automatico  079ff066f249754723d586cf398100ea3dd756d0937e24...   \n",
       "\n",
       "        modelId                 created_dt  \n",
       "27786  a-000313  2021-12-22 00:32:45+00:00  \n",
       "27787  a-000313  2021-12-20 11:20:07+00:00  \n",
       "27788  a-000313  2021-12-20 11:01:50+00:00  \n",
       "27789  a-000313  2021-12-19 19:00:08+00:00  \n",
       "27790  a-000313  2021-12-19 09:43:21+00:00  "
      ]
     },
     "execution_count": 6,
     "metadata": {},
     "output_type": "execute_result"
    }
   ],
   "source": [
    "df.tail()\n"
   ]
  },
  {
   "cell_type": "code",
   "execution_count": 7,
   "metadata": {},
   "outputs": [
    {
     "data": {
      "text/plain": [
       "Index(['Unnamed: 0', 'ecoClass', 'weight', 'location', 'seller', 'updatedAt',\n",
       "       'sellerType', 'source', 'color', 'cylinders', 'gears', 'description',\n",
       "       'makeId', 'doors', 'gmapsAddress', 'bodyType', 'kw', 'title',\n",
       "       'co2Emissions', 'urn', 'consumption', 'forNoviceDrivers', 'year',\n",
       "       'price', 'km', 'engineSize', 'createdAt', 'status', 'seats', 'supply',\n",
       "       'gearType', 'doc_id', 'modelId', 'created_dt'],\n",
       "      dtype='object')"
      ]
     },
     "execution_count": 7,
     "metadata": {},
     "output_type": "execute_result"
    }
   ],
   "source": [
    "df.columns\n"
   ]
  },
  {
   "cell_type": "code",
   "execution_count": 8,
   "metadata": {},
   "outputs": [
    {
     "name": "stdout",
     "output_type": "stream",
     "text": [
      "N rows: 27791\n"
     ]
    }
   ],
   "source": [
    "print(\"N rows:\", len(df))\n"
   ]
  },
  {
   "cell_type": "code",
   "execution_count": 9,
   "metadata": {},
   "outputs": [
    {
     "name": "stdout",
     "output_type": "stream",
     "text": [
      "N columns: 34\n"
     ]
    }
   ],
   "source": [
    "print(\"N columns:\", len(df.columns))\n"
   ]
  },
  {
   "cell_type": "markdown",
   "metadata": {},
   "source": [
    "Our columns\n",
    " \n",
    " * 0   Unnamed: 0        27791 non-null  int64  --> similar to an index\n",
    " * 1   ecoClass          20175 non-null  object  --> class of the vehicle\n",
    " * 2   weight            6319 non-null   float64 --> weight\n",
    " * 3   location          22583 non-null  object --> lat and long gmpasAddress\n",
    " * 4   seller            24705 non-null  object --> seller of the vehicle\n",
    " * 5   updatedAt         27791 non-null  object --> when was ad updated last\n",
    " * 6   sellerType        19607 non-null  object --> category of seller\n",
    " * 7   source            27791 non-null  object --> where was ad scraped from\n",
    " * 8   color             8011 non-null   object --> color\n",
    " * 9   cylinders         7294 non-null   float64 --> number of cylinders\n",
    " * 10  gears             7470 non-null   float64 --> number of gears\n",
    " * 11  description       27087 non-null  object --> description of ad\n",
    " * 12  makeId            27791 non-null  object --> similar to source\n",
    " * 13  doors             23270 non-null  object --> n doors\n",
    " * 14  gmapsAddress      27791 non-null  object --> address of the vehicle \n",
    " * 15  bodyType          23580 non-null  object  --> type of vehicle \n",
    " * 16  kw                14615 non-null  float64 --> power\n",
    " * 17  title             27791 non-null  object  --> title of ad\n",
    " * 18  co2Emissions      6992 non-null   float64 --> emissions of co2 of vehicle\n",
    " * 19  urn               1705 non-null   object --> very few values\n",
    " * 20  consumption       7225 non-null   object --> consumption\n",
    " * 21  forNoviceDrivers  2 non-null      object --> can novice drivers use the car?\n",
    " * 22  year              27741 non-null  float64 --> registration year \n",
    " * 23  price             27791 non-null  int64  --> vehicles price\n",
    " * 24  km                27718 non-null  float64 --> km of sold car\n",
    " * 25  engineSize        8969 non-null   float64 --> size of the engine\n",
    " * 26  createdAt         27791 non-null  object --> when was the ad created\n",
    " * 27  status            27791 non-null  object --> online/offline\n",
    " * 28  seats             22225 non-null  float64 --> number of seats\n",
    " * 29  supply            25781 non-null  object --> type of fuel\n",
    " * 30  gearType          25886 non-null  object --> type of gearbox\n",
    " * 31  doc_id            27791 non-null  object --> only unique values\n",
    " * 32  modelId           27791 non-null  object --> similar to source\n",
    " * 33  created_dt        27791 non-null  object --> datetime creation ad"
   ]
  },
  {
   "cell_type": "code",
   "execution_count": 10,
   "metadata": {},
   "outputs": [
    {
     "data": {
      "text/html": [
       "<div>\n",
       "<style scoped>\n",
       "    .dataframe tbody tr th:only-of-type {\n",
       "        vertical-align: middle;\n",
       "    }\n",
       "\n",
       "    .dataframe tbody tr th {\n",
       "        vertical-align: top;\n",
       "    }\n",
       "\n",
       "    .dataframe thead th {\n",
       "        text-align: right;\n",
       "    }\n",
       "</style>\n",
       "<table border=\"1\" class=\"dataframe\">\n",
       "  <thead>\n",
       "    <tr style=\"text-align: right;\">\n",
       "      <th></th>\n",
       "      <th>Unnamed: 0</th>\n",
       "      <th>weight</th>\n",
       "      <th>cylinders</th>\n",
       "      <th>gears</th>\n",
       "      <th>kw</th>\n",
       "      <th>co2Emissions</th>\n",
       "      <th>year</th>\n",
       "      <th>price</th>\n",
       "      <th>km</th>\n",
       "      <th>engineSize</th>\n",
       "      <th>seats</th>\n",
       "    </tr>\n",
       "  </thead>\n",
       "  <tbody>\n",
       "    <tr>\n",
       "      <th>count</th>\n",
       "      <td>27791.000000</td>\n",
       "      <td>6319.000000</td>\n",
       "      <td>7294.000000</td>\n",
       "      <td>7470.000000</td>\n",
       "      <td>14615.000000</td>\n",
       "      <td>6992.000000</td>\n",
       "      <td>27741.000000</td>\n",
       "      <td>27791.000000</td>\n",
       "      <td>2.771800e+04</td>\n",
       "      <td>8969.000000</td>\n",
       "      <td>22225.000000</td>\n",
       "    </tr>\n",
       "    <tr>\n",
       "      <th>mean</th>\n",
       "      <td>15730.045087</td>\n",
       "      <td>1377.389302</td>\n",
       "      <td>3.998766</td>\n",
       "      <td>5.988755</td>\n",
       "      <td>94.128166</td>\n",
       "      <td>120.928490</td>\n",
       "      <td>2013.424462</td>\n",
       "      <td>10826.466842</td>\n",
       "      <td>1.221084e+05</td>\n",
       "      <td>1604.578771</td>\n",
       "      <td>4.992756</td>\n",
       "    </tr>\n",
       "    <tr>\n",
       "      <th>std</th>\n",
       "      <td>8813.079236</td>\n",
       "      <td>37.443638</td>\n",
       "      <td>0.192050</td>\n",
       "      <td>0.168894</td>\n",
       "      <td>28.676456</td>\n",
       "      <td>18.030364</td>\n",
       "      <td>6.535315</td>\n",
       "      <td>4252.532376</td>\n",
       "      <td>8.720268e+05</td>\n",
       "      <td>215.784927</td>\n",
       "      <td>0.116539</td>\n",
       "    </tr>\n",
       "    <tr>\n",
       "      <th>min</th>\n",
       "      <td>0.000000</td>\n",
       "      <td>900.000000</td>\n",
       "      <td>0.000000</td>\n",
       "      <td>1.000000</td>\n",
       "      <td>0.000000</td>\n",
       "      <td>0.000000</td>\n",
       "      <td>1950.000000</td>\n",
       "      <td>1.000000</td>\n",
       "      <td>0.000000e+00</td>\n",
       "      <td>1.000000</td>\n",
       "      <td>2.000000</td>\n",
       "    </tr>\n",
       "    <tr>\n",
       "      <th>25%</th>\n",
       "      <td>8247.500000</td>\n",
       "      <td>1365.000000</td>\n",
       "      <td>4.000000</td>\n",
       "      <td>6.000000</td>\n",
       "      <td>88.000000</td>\n",
       "      <td>104.000000</td>\n",
       "      <td>2012.000000</td>\n",
       "      <td>7500.000000</td>\n",
       "      <td>7.000000e+04</td>\n",
       "      <td>1400.000000</td>\n",
       "      <td>5.000000</td>\n",
       "    </tr>\n",
       "    <tr>\n",
       "      <th>50%</th>\n",
       "      <td>15868.000000</td>\n",
       "      <td>1385.000000</td>\n",
       "      <td>4.000000</td>\n",
       "      <td>6.000000</td>\n",
       "      <td>88.000000</td>\n",
       "      <td>119.000000</td>\n",
       "      <td>2014.000000</td>\n",
       "      <td>9800.000000</td>\n",
       "      <td>1.117500e+05</td>\n",
       "      <td>1598.000000</td>\n",
       "      <td>5.000000</td>\n",
       "    </tr>\n",
       "    <tr>\n",
       "      <th>75%</th>\n",
       "      <td>23254.500000</td>\n",
       "      <td>1395.000000</td>\n",
       "      <td>4.000000</td>\n",
       "      <td>6.000000</td>\n",
       "      <td>102.970000</td>\n",
       "      <td>133.000000</td>\n",
       "      <td>2017.000000</td>\n",
       "      <td>13500.000000</td>\n",
       "      <td>1.520000e+05</td>\n",
       "      <td>1598.000000</td>\n",
       "      <td>5.000000</td>\n",
       "    </tr>\n",
       "    <tr>\n",
       "      <th>max</th>\n",
       "      <td>30854.000000</td>\n",
       "      <td>3095.000000</td>\n",
       "      <td>16.000000</td>\n",
       "      <td>7.000000</td>\n",
       "      <td>1600.000000</td>\n",
       "      <td>179.000000</td>\n",
       "      <td>2022.000000</td>\n",
       "      <td>39900.000000</td>\n",
       "      <td>1.000000e+08</td>\n",
       "      <td>2200.000000</td>\n",
       "      <td>6.000000</td>\n",
       "    </tr>\n",
       "  </tbody>\n",
       "</table>\n",
       "</div>"
      ],
      "text/plain": [
       "         Unnamed: 0       weight    cylinders        gears            kw  \\\n",
       "count  27791.000000  6319.000000  7294.000000  7470.000000  14615.000000   \n",
       "mean   15730.045087  1377.389302     3.998766     5.988755     94.128166   \n",
       "std     8813.079236    37.443638     0.192050     0.168894     28.676456   \n",
       "min        0.000000   900.000000     0.000000     1.000000      0.000000   \n",
       "25%     8247.500000  1365.000000     4.000000     6.000000     88.000000   \n",
       "50%    15868.000000  1385.000000     4.000000     6.000000     88.000000   \n",
       "75%    23254.500000  1395.000000     4.000000     6.000000    102.970000   \n",
       "max    30854.000000  3095.000000    16.000000     7.000000   1600.000000   \n",
       "\n",
       "       co2Emissions          year         price            km   engineSize  \\\n",
       "count   6992.000000  27741.000000  27791.000000  2.771800e+04  8969.000000   \n",
       "mean     120.928490   2013.424462  10826.466842  1.221084e+05  1604.578771   \n",
       "std       18.030364      6.535315   4252.532376  8.720268e+05   215.784927   \n",
       "min        0.000000   1950.000000      1.000000  0.000000e+00     1.000000   \n",
       "25%      104.000000   2012.000000   7500.000000  7.000000e+04  1400.000000   \n",
       "50%      119.000000   2014.000000   9800.000000  1.117500e+05  1598.000000   \n",
       "75%      133.000000   2017.000000  13500.000000  1.520000e+05  1598.000000   \n",
       "max      179.000000   2022.000000  39900.000000  1.000000e+08  2200.000000   \n",
       "\n",
       "              seats  \n",
       "count  22225.000000  \n",
       "mean       4.992756  \n",
       "std        0.116539  \n",
       "min        2.000000  \n",
       "25%        5.000000  \n",
       "50%        5.000000  \n",
       "75%        5.000000  \n",
       "max        6.000000  "
      ]
     },
     "execution_count": 10,
     "metadata": {},
     "output_type": "execute_result"
    }
   ],
   "source": [
    "df.describe()\n"
   ]
  },
  {
   "cell_type": "markdown",
   "metadata": {},
   "source": [
    "## Duplicates"
   ]
  },
  {
   "cell_type": "markdown",
   "metadata": {},
   "source": [
    "### How to identify a duplicate?\n",
    "There is no such thing as an \"Ad entity ID\", so we will have to use some columns as key.\n",
    "* Duplicates from different sources\n",
    "* Duplicates in different cities\n",
    "* Duplicatas because the ad was re-published\n",
    "Subest of keys: price, year, km.\n",
    "<br><br>\n",
    "What about the title? I found duplicates with different titles, as well as different ads with the same title. It is a trade-off, we can use the title as key, accepting that we will \"save\" some duplicates."
   ]
  },
  {
   "cell_type": "markdown",
   "metadata": {},
   "source": [
    "### Preparation"
   ]
  },
  {
   "cell_type": "markdown",
   "metadata": {},
   "source": [
    "#### Location"
   ]
  },
  {
   "cell_type": "code",
   "execution_count": 11,
   "metadata": {},
   "outputs": [
    {
     "data": {
      "image/png": "[encoded data removed]",
      "text/plain": [
       "<Figure size 1440x720 with 2 Axes>"
      ]
     },
     "metadata": {
      "needs_background": "light"
     },
     "output_type": "display_data"
    },
    {
     "data": {
      "text/plain": [
       "{'corr':               location  gmapsAddress\n",
       " location       1.00000       0.85453\n",
       " gmapsAddress   0.85453       1.00000,\n",
       " 'ax': <AxesSubplot:>}"
      ]
     },
     "execution_count": 11,
     "metadata": {},
     "output_type": "execute_result"
    }
   ],
   "source": [
    "df_step = df[[\"location\", \"gmapsAddress\"]]\n",
    "nominal.associations(df_step, figsize=(20, 10))"
   ]
  },
  {
   "cell_type": "code",
   "execution_count": 12,
   "metadata": {},
   "outputs": [
    {
     "data": {
      "text/plain": [
       "Roma, Roma                                               799\n",
       "Torino, Torino                                           609\n",
       "Palermo, Palermo                                         358\n",
       "Milano, Milano                                           280\n",
       "Catania, Catania                                         276\n",
       "                                                        ... \n",
       "63900 Fermo, Italia                                        1\n",
       "33030 Majano - Udine - Ud, Via S. Martino, 13, Italia      1\n",
       "73100 Maglie, Italia                                       1\n",
       "20017 Rho - Mi, Via Marconi,7, Italia                      1\n",
       "Torreglia, Padova                                          1\n",
       "Name: gmapsAddress, Length: 5861, dtype: int64"
      ]
     },
     "execution_count": 12,
     "metadata": {},
     "output_type": "execute_result"
    }
   ],
   "source": [
    "df[\"gmapsAddress\"].value_counts(dropna=False)\n"
   ]
  },
  {
   "cell_type": "code",
   "execution_count": 13,
   "metadata": {},
   "outputs": [
    {
     "name": "stderr",
     "output_type": "stream",
     "text": [
      "Getting cities: 100%|██████████| 5861/5861 [00:04<00:00, 1294.72it/s]\n"
     ]
    }
   ],
   "source": [
    "def clean_location(df: pd.DataFrame):\n",
    "    df_cities = pd.read_csv(\"../Dataset/comuni_italiani.csv\", delimiter=\",\")\n",
    "    df_cities[\"lunghezzaComune\"] = df_cities[\"comune\"].apply(lambda x: len(x))\n",
    "    df_cities.sort_values(\"lunghezzaComune\", ascending=False, inplace=True)\n",
    "    cities = df_cities[\"comune\"].tolist()\n",
    "    d = dict()\n",
    "    keys = df[\"gmapsAddress\"].unique()\n",
    "    for key in tqdm.tqdm(keys, desc=\"Getting cities\"):\n",
    "        for city in cities:\n",
    "            if str(city).lower() in str(key).lower():\n",
    "                value = str(city).lower()\n",
    "                d[key] = value\n",
    "                break\n",
    "    df_small = pd.DataFrame.from_dict(\n",
    "        d, orient=\"index\", columns=[\"citta\"]\n",
    "    ).reset_index()\n",
    "    df_small.rename(columns={\"index\": \"gmapsAddress\"}, inplace=True)\n",
    "    df = df.merge(df_small, how=\"left\", on=\"gmapsAddress\")\n",
    "    df.drop([\"location\", \"gmapsAddress\"], axis=1, inplace=True)\n",
    "    df[\"citta\"] = df[\"citta\"].fillna(\"\")\n",
    "    return df\n",
    "\n",
    "df = clean_location(df)"
   ]
  },
  {
   "cell_type": "code",
   "execution_count": 14,
   "metadata": {},
   "outputs": [
    {
     "data": {
      "text/plain": [
       "torino                1043\n",
       "roma                   799\n",
       "alia                   708\n",
       "milano                 603\n",
       "catania                475\n",
       "                      ... \n",
       "carmiano                 1\n",
       "monticello brianza       1\n",
       "siderno                  1\n",
       "pozzuolo martesana       1\n",
       "torreglia                1\n",
       "Name: citta, Length: 2248, dtype: int64"
      ]
     },
     "execution_count": 14,
     "metadata": {},
     "output_type": "execute_result"
    }
   ],
   "source": [
    "df[\"citta\"].value_counts(dropna=False)\n"
   ]
  },
  {
   "cell_type": "code",
   "execution_count": 15,
   "metadata": {},
   "outputs": [
    {
     "data": {
      "text/plain": [
       "0    torino\n",
       "Name: citta, dtype: object"
      ]
     },
     "execution_count": 15,
     "metadata": {},
     "output_type": "execute_result"
    }
   ],
   "source": [
    "df[\"citta\"].mode()\n"
   ]
  },
  {
   "cell_type": "code",
   "execution_count": 16,
   "metadata": {},
   "outputs": [],
   "source": [
    "# fillna with mode\n",
    "df.loc[df[\"citta\"].isnull(), \"citta\"] = \"torino\"\n"
   ]
  },
  {
   "cell_type": "markdown",
   "metadata": {},
   "source": [
    "#### Date"
   ]
  },
  {
   "cell_type": "code",
   "execution_count": 17,
   "metadata": {},
   "outputs": [
    {
     "data": {
      "text/html": [
       "<div>\n",
       "<style scoped>\n",
       "    .dataframe tbody tr th:only-of-type {\n",
       "        vertical-align: middle;\n",
       "    }\n",
       "\n",
       "    .dataframe tbody tr th {\n",
       "        vertical-align: top;\n",
       "    }\n",
       "\n",
       "    .dataframe thead th {\n",
       "        text-align: right;\n",
       "    }\n",
       "</style>\n",
       "<table border=\"1\" class=\"dataframe\">\n",
       "  <thead>\n",
       "    <tr style=\"text-align: right;\">\n",
       "      <th></th>\n",
       "      <th>updatedAt</th>\n",
       "      <th>createdAt</th>\n",
       "      <th>created_dt</th>\n",
       "    </tr>\n",
       "  </thead>\n",
       "  <tbody>\n",
       "    <tr>\n",
       "      <th>0</th>\n",
       "      <td>2021-09-07T14:25:58Z</td>\n",
       "      <td>2021-08-31T10:55:00Z</td>\n",
       "      <td>2021-08-31 10:55:00+00:00</td>\n",
       "    </tr>\n",
       "    <tr>\n",
       "      <th>1</th>\n",
       "      <td>2021-09-07T14:25:56Z</td>\n",
       "      <td>2021-08-31T10:54:58Z</td>\n",
       "      <td>2021-08-31 10:54:58+00:00</td>\n",
       "    </tr>\n",
       "    <tr>\n",
       "      <th>2</th>\n",
       "      <td>2021-08-31T10:54:29Z</td>\n",
       "      <td>2021-08-31T10:54:29Z</td>\n",
       "      <td>2021-08-31 10:54:29+00:00</td>\n",
       "    </tr>\n",
       "    <tr>\n",
       "      <th>3</th>\n",
       "      <td>2021-08-31T10:54:19Z</td>\n",
       "      <td>2021-08-31T10:54:19Z</td>\n",
       "      <td>2021-08-31 10:54:19+00:00</td>\n",
       "    </tr>\n",
       "    <tr>\n",
       "      <th>4</th>\n",
       "      <td>2021-09-07T14:24:57Z</td>\n",
       "      <td>2021-08-31T10:53:49Z</td>\n",
       "      <td>2021-08-31 10:53:49+00:00</td>\n",
       "    </tr>\n",
       "    <tr>\n",
       "      <th>...</th>\n",
       "      <td>...</td>\n",
       "      <td>...</td>\n",
       "      <td>...</td>\n",
       "    </tr>\n",
       "    <tr>\n",
       "      <th>27786</th>\n",
       "      <td>2022-02-15T18:45:16Z</td>\n",
       "      <td>2021-12-22T00:32:45Z</td>\n",
       "      <td>2021-12-22 00:32:45+00:00</td>\n",
       "    </tr>\n",
       "    <tr>\n",
       "      <th>27787</th>\n",
       "      <td>2022-02-15T18:45:29Z</td>\n",
       "      <td>2021-12-20T11:20:07Z</td>\n",
       "      <td>2021-12-20 11:20:07+00:00</td>\n",
       "    </tr>\n",
       "    <tr>\n",
       "      <th>27788</th>\n",
       "      <td>2022-02-15T18:45:30Z</td>\n",
       "      <td>2021-12-20T11:01:50Z</td>\n",
       "      <td>2021-12-20 11:01:50+00:00</td>\n",
       "    </tr>\n",
       "    <tr>\n",
       "      <th>27789</th>\n",
       "      <td>2022-02-15T18:45:34Z</td>\n",
       "      <td>2021-12-19T19:00:08Z</td>\n",
       "      <td>2021-12-19 19:00:08+00:00</td>\n",
       "    </tr>\n",
       "    <tr>\n",
       "      <th>27790</th>\n",
       "      <td>2022-02-15T18:45:41Z</td>\n",
       "      <td>2021-12-19T09:43:21Z</td>\n",
       "      <td>2021-12-19 09:43:21+00:00</td>\n",
       "    </tr>\n",
       "  </tbody>\n",
       "</table>\n",
       "<p>27791 rows × 3 columns</p>\n",
       "</div>"
      ],
      "text/plain": [
       "                  updatedAt             createdAt                 created_dt\n",
       "0      2021-09-07T14:25:58Z  2021-08-31T10:55:00Z  2021-08-31 10:55:00+00:00\n",
       "1      2021-09-07T14:25:56Z  2021-08-31T10:54:58Z  2021-08-31 10:54:58+00:00\n",
       "2      2021-08-31T10:54:29Z  2021-08-31T10:54:29Z  2021-08-31 10:54:29+00:00\n",
       "3      2021-08-31T10:54:19Z  2021-08-31T10:54:19Z  2021-08-31 10:54:19+00:00\n",
       "4      2021-09-07T14:24:57Z  2021-08-31T10:53:49Z  2021-08-31 10:53:49+00:00\n",
       "...                     ...                   ...                        ...\n",
       "27786  2022-02-15T18:45:16Z  2021-12-22T00:32:45Z  2021-12-22 00:32:45+00:00\n",
       "27787  2022-02-15T18:45:29Z  2021-12-20T11:20:07Z  2021-12-20 11:20:07+00:00\n",
       "27788  2022-02-15T18:45:30Z  2021-12-20T11:01:50Z  2021-12-20 11:01:50+00:00\n",
       "27789  2022-02-15T18:45:34Z  2021-12-19T19:00:08Z  2021-12-19 19:00:08+00:00\n",
       "27790  2022-02-15T18:45:41Z  2021-12-19T09:43:21Z  2021-12-19 09:43:21+00:00\n",
       "\n",
       "[27791 rows x 3 columns]"
      ]
     },
     "execution_count": 17,
     "metadata": {},
     "output_type": "execute_result"
    }
   ],
   "source": [
    "df[[\"updatedAt\", \"createdAt\", \"created_dt\"]]\n"
   ]
  },
  {
   "cell_type": "code",
   "execution_count": 18,
   "metadata": {},
   "outputs": [
    {
     "data": {
      "text/plain": [
       "0       2021-08-31\n",
       "1       2021-08-31\n",
       "2       2021-08-31\n",
       "3       2021-08-31\n",
       "4       2021-08-31\n",
       "           ...    \n",
       "27786   2021-12-22\n",
       "27787   2021-12-20\n",
       "27788   2021-12-20\n",
       "27789   2021-12-19\n",
       "27790   2021-12-19\n",
       "Name: createdAt, Length: 27791, dtype: datetime64[ns]"
      ]
     },
     "execution_count": 18,
     "metadata": {},
     "output_type": "execute_result"
    }
   ],
   "source": [
    "pd.to_datetime(df[\"createdAt\"].str[0:10], format=\"%Y-%m-%d\")"
   ]
  },
  {
   "cell_type": "code",
   "execution_count": 19,
   "metadata": {},
   "outputs": [
    {
     "data": {
      "text/html": [
       "<div>\n",
       "<style scoped>\n",
       "    .dataframe tbody tr th:only-of-type {\n",
       "        vertical-align: middle;\n",
       "    }\n",
       "\n",
       "    .dataframe tbody tr th {\n",
       "        vertical-align: top;\n",
       "    }\n",
       "\n",
       "    .dataframe thead th {\n",
       "        text-align: right;\n",
       "    }\n",
       "</style>\n",
       "<table border=\"1\" class=\"dataframe\">\n",
       "  <thead>\n",
       "    <tr style=\"text-align: right;\">\n",
       "      <th></th>\n",
       "      <th>updatedAt</th>\n",
       "      <th>createdAt</th>\n",
       "      <th>created_dt</th>\n",
       "      <th>dataCreazione</th>\n",
       "      <th>dataUpdate</th>\n",
       "    </tr>\n",
       "  </thead>\n",
       "  <tbody>\n",
       "    <tr>\n",
       "      <th>0</th>\n",
       "      <td>2021-09-07T14:25:58Z</td>\n",
       "      <td>2021-08-31T10:55:00Z</td>\n",
       "      <td>2021-08-31 10:55:00+00:00</td>\n",
       "      <td>2021-08-31</td>\n",
       "      <td>2021-09-07</td>\n",
       "    </tr>\n",
       "    <tr>\n",
       "      <th>1</th>\n",
       "      <td>2021-09-07T14:25:56Z</td>\n",
       "      <td>2021-08-31T10:54:58Z</td>\n",
       "      <td>2021-08-31 10:54:58+00:00</td>\n",
       "      <td>2021-08-31</td>\n",
       "      <td>2021-09-07</td>\n",
       "    </tr>\n",
       "    <tr>\n",
       "      <th>2</th>\n",
       "      <td>2021-08-31T10:54:29Z</td>\n",
       "      <td>2021-08-31T10:54:29Z</td>\n",
       "      <td>2021-08-31 10:54:29+00:00</td>\n",
       "      <td>2021-08-31</td>\n",
       "      <td>2021-08-31</td>\n",
       "    </tr>\n",
       "    <tr>\n",
       "      <th>3</th>\n",
       "      <td>2021-08-31T10:54:19Z</td>\n",
       "      <td>2021-08-31T10:54:19Z</td>\n",
       "      <td>2021-08-31 10:54:19+00:00</td>\n",
       "      <td>2021-08-31</td>\n",
       "      <td>2021-08-31</td>\n",
       "    </tr>\n",
       "    <tr>\n",
       "      <th>4</th>\n",
       "      <td>2021-09-07T14:24:57Z</td>\n",
       "      <td>2021-08-31T10:53:49Z</td>\n",
       "      <td>2021-08-31 10:53:49+00:00</td>\n",
       "      <td>2021-08-31</td>\n",
       "      <td>2021-09-07</td>\n",
       "    </tr>\n",
       "    <tr>\n",
       "      <th>...</th>\n",
       "      <td>...</td>\n",
       "      <td>...</td>\n",
       "      <td>...</td>\n",
       "      <td>...</td>\n",
       "      <td>...</td>\n",
       "    </tr>\n",
       "    <tr>\n",
       "      <th>27786</th>\n",
       "      <td>2022-02-15T18:45:16Z</td>\n",
       "      <td>2021-12-22T00:32:45Z</td>\n",
       "      <td>2021-12-22 00:32:45+00:00</td>\n",
       "      <td>2021-12-22</td>\n",
       "      <td>2022-02-15</td>\n",
       "    </tr>\n",
       "    <tr>\n",
       "      <th>27787</th>\n",
       "      <td>2022-02-15T18:45:29Z</td>\n",
       "      <td>2021-12-20T11:20:07Z</td>\n",
       "      <td>2021-12-20 11:20:07+00:00</td>\n",
       "      <td>2021-12-20</td>\n",
       "      <td>2022-02-15</td>\n",
       "    </tr>\n",
       "    <tr>\n",
       "      <th>27788</th>\n",
       "      <td>2022-02-15T18:45:30Z</td>\n",
       "      <td>2021-12-20T11:01:50Z</td>\n",
       "      <td>2021-12-20 11:01:50+00:00</td>\n",
       "      <td>2021-12-20</td>\n",
       "      <td>2022-02-15</td>\n",
       "    </tr>\n",
       "    <tr>\n",
       "      <th>27789</th>\n",
       "      <td>2022-02-15T18:45:34Z</td>\n",
       "      <td>2021-12-19T19:00:08Z</td>\n",
       "      <td>2021-12-19 19:00:08+00:00</td>\n",
       "      <td>2021-12-19</td>\n",
       "      <td>2022-02-15</td>\n",
       "    </tr>\n",
       "    <tr>\n",
       "      <th>27790</th>\n",
       "      <td>2022-02-15T18:45:41Z</td>\n",
       "      <td>2021-12-19T09:43:21Z</td>\n",
       "      <td>2021-12-19 09:43:21+00:00</td>\n",
       "      <td>2021-12-19</td>\n",
       "      <td>2022-02-15</td>\n",
       "    </tr>\n",
       "  </tbody>\n",
       "</table>\n",
       "<p>27791 rows × 5 columns</p>\n",
       "</div>"
      ],
      "text/plain": [
       "                  updatedAt             createdAt                 created_dt  \\\n",
       "0      2021-09-07T14:25:58Z  2021-08-31T10:55:00Z  2021-08-31 10:55:00+00:00   \n",
       "1      2021-09-07T14:25:56Z  2021-08-31T10:54:58Z  2021-08-31 10:54:58+00:00   \n",
       "2      2021-08-31T10:54:29Z  2021-08-31T10:54:29Z  2021-08-31 10:54:29+00:00   \n",
       "3      2021-08-31T10:54:19Z  2021-08-31T10:54:19Z  2021-08-31 10:54:19+00:00   \n",
       "4      2021-09-07T14:24:57Z  2021-08-31T10:53:49Z  2021-08-31 10:53:49+00:00   \n",
       "...                     ...                   ...                        ...   \n",
       "27786  2022-02-15T18:45:16Z  2021-12-22T00:32:45Z  2021-12-22 00:32:45+00:00   \n",
       "27787  2022-02-15T18:45:29Z  2021-12-20T11:20:07Z  2021-12-20 11:20:07+00:00   \n",
       "27788  2022-02-15T18:45:30Z  2021-12-20T11:01:50Z  2021-12-20 11:01:50+00:00   \n",
       "27789  2022-02-15T18:45:34Z  2021-12-19T19:00:08Z  2021-12-19 19:00:08+00:00   \n",
       "27790  2022-02-15T18:45:41Z  2021-12-19T09:43:21Z  2021-12-19 09:43:21+00:00   \n",
       "\n",
       "      dataCreazione dataUpdate  \n",
       "0        2021-08-31 2021-09-07  \n",
       "1        2021-08-31 2021-09-07  \n",
       "2        2021-08-31 2021-08-31  \n",
       "3        2021-08-31 2021-08-31  \n",
       "4        2021-08-31 2021-09-07  \n",
       "...             ...        ...  \n",
       "27786    2021-12-22 2022-02-15  \n",
       "27787    2021-12-20 2022-02-15  \n",
       "27788    2021-12-20 2022-02-15  \n",
       "27789    2021-12-19 2022-02-15  \n",
       "27790    2021-12-19 2022-02-15  \n",
       "\n",
       "[27791 rows x 5 columns]"
      ]
     },
     "execution_count": 19,
     "metadata": {},
     "output_type": "execute_result"
    }
   ],
   "source": [
    "# Let's get a decent format\n",
    "df[\"dataCreazione\"] = pd.to_datetime(df[\"createdAt\"].str[0:10], format=\"%Y-%m-%d\")\n",
    "df[\"dataUpdate\"] = pd.to_datetime(df[\"updatedAt\"].str[0:10], format=\"%Y-%m-%d\")\n",
    "df[[\"updatedAt\", \"createdAt\", \"created_dt\", \"dataCreazione\", \"dataUpdate\"]]\n"
   ]
  },
  {
   "cell_type": "markdown",
   "metadata": {},
   "source": [
    "### Check point"
   ]
  },
  {
   "cell_type": "code",
   "execution_count": 20,
   "metadata": {},
   "outputs": [],
   "source": [
    "os.makedirs(\"../Dataframes\", exist_ok=True)\n",
    "df.to_csv(\"../Dataframes/df_data_citta.csv\", index=False)\n"
   ]
  },
  {
   "cell_type": "code",
   "execution_count": 21,
   "metadata": {},
   "outputs": [],
   "source": [
    "# df = pd.read_csv(\"../Dataframes/df_data_citta.csv\")\n"
   ]
  },
  {
   "cell_type": "markdown",
   "metadata": {},
   "source": [
    "### Duplicates: source"
   ]
  },
  {
   "cell_type": "code",
   "execution_count": 22,
   "metadata": {},
   "outputs": [],
   "source": [
    "to_group = [\"km\", \"price\", \"year\", \"title\", \"dataCreazione\", \"citta\"]\n",
    "df_agg = df.groupby(to_group)\n"
   ]
  },
  {
   "cell_type": "code",
   "execution_count": 23,
   "metadata": {},
   "outputs": [
    {
     "data": {
      "text/html": [
       "<div>\n",
       "<style scoped>\n",
       "    .dataframe tbody tr th:only-of-type {\n",
       "        vertical-align: middle;\n",
       "    }\n",
       "\n",
       "    .dataframe tbody tr th {\n",
       "        vertical-align: top;\n",
       "    }\n",
       "\n",
       "    .dataframe thead th {\n",
       "        text-align: right;\n",
       "    }\n",
       "</style>\n",
       "<table border=\"1\" class=\"dataframe\">\n",
       "  <thead>\n",
       "    <tr style=\"text-align: right;\">\n",
       "      <th></th>\n",
       "      <th>Unnamed: 0</th>\n",
       "      <th>ecoClass</th>\n",
       "      <th>weight</th>\n",
       "      <th>seller</th>\n",
       "      <th>updatedAt</th>\n",
       "      <th>sellerType</th>\n",
       "      <th>source</th>\n",
       "      <th>color</th>\n",
       "      <th>cylinders</th>\n",
       "      <th>gears</th>\n",
       "      <th>description</th>\n",
       "      <th>makeId</th>\n",
       "      <th>doors</th>\n",
       "      <th>bodyType</th>\n",
       "      <th>kw</th>\n",
       "      <th>title</th>\n",
       "      <th>co2Emissions</th>\n",
       "      <th>urn</th>\n",
       "      <th>consumption</th>\n",
       "      <th>forNoviceDrivers</th>\n",
       "      <th>year</th>\n",
       "      <th>price</th>\n",
       "      <th>km</th>\n",
       "      <th>engineSize</th>\n",
       "      <th>createdAt</th>\n",
       "      <th>status</th>\n",
       "      <th>seats</th>\n",
       "      <th>supply</th>\n",
       "      <th>gearType</th>\n",
       "      <th>doc_id</th>\n",
       "      <th>modelId</th>\n",
       "      <th>created_dt</th>\n",
       "      <th>citta</th>\n",
       "      <th>dataCreazione</th>\n",
       "      <th>dataUpdate</th>\n",
       "      <th>idDupli</th>\n",
       "    </tr>\n",
       "  </thead>\n",
       "  <tbody>\n",
       "    <tr>\n",
       "      <th>14525</th>\n",
       "      <td>16503</td>\n",
       "      <td>Euro 5</td>\n",
       "      <td>NaN</td>\n",
       "      <td>TM WAGEN OUTLET</td>\n",
       "      <td>2022-01-28T17:38:55Z</td>\n",
       "      <td>Azienda</td>\n",
       "      <td>a</td>\n",
       "      <td>NaN</td>\n",
       "      <td>NaN</td>\n",
       "      <td>NaN</td>\n",
       "      <td>Alfa Romeo Giulietta 1.4 t. Progression Gpl 12...</td>\n",
       "      <td>a-000083</td>\n",
       "      <td>[4, 5]</td>\n",
       "      <td>Berlina</td>\n",
       "      <td>88.000</td>\n",
       "      <td>Alfa Romeo Giulietta 1.4 t. Progression Gpl 120cv</td>\n",
       "      <td>NaN</td>\n",
       "      <td>id:ad:465636073:list:420530170</td>\n",
       "      <td>NaN</td>\n",
       "      <td>NaN</td>\n",
       "      <td>2012.0</td>\n",
       "      <td>4990</td>\n",
       "      <td>269000.0</td>\n",
       "      <td>1368.0</td>\n",
       "      <td>2022-01-27T18:51:22Z</td>\n",
       "      <td>OFFLINE</td>\n",
       "      <td>5.0</td>\n",
       "      <td>NaN</td>\n",
       "      <td>Manuale</td>\n",
       "      <td>257fded1f50cb390b5380b1f361fa598ca0be8b962f93a...</td>\n",
       "      <td>a-000313</td>\n",
       "      <td>2022-01-27 18:51:22+00:00</td>\n",
       "      <td>pistoia</td>\n",
       "      <td>2022-01-27</td>\n",
       "      <td>2022-01-28</td>\n",
       "      <td>27819</td>\n",
       "    </tr>\n",
       "    <tr>\n",
       "      <th>2697</th>\n",
       "      <td>3082</td>\n",
       "      <td>Euro 5</td>\n",
       "      <td>1317.0</td>\n",
       "      <td>TM Wagen Outlet</td>\n",
       "      <td>2022-01-27T10:43:48Z</td>\n",
       "      <td>NaN</td>\n",
       "      <td>b24</td>\n",
       "      <td>Grigio</td>\n",
       "      <td>4.0</td>\n",
       "      <td>6.0</td>\n",
       "      <td>Alfa Romeo Giulietta 1.4 t. Progression Gpl 12...</td>\n",
       "      <td>b24-6</td>\n",
       "      <td>5</td>\n",
       "      <td>Berlina</td>\n",
       "      <td>88.000</td>\n",
       "      <td>Alfa Romeo Giulietta 1.4 t. Progression Gpl 120cv</td>\n",
       "      <td>134.0</td>\n",
       "      <td>NaN</td>\n",
       "      <td>8,3 l/100 km (comb.)\\n10,9 l/100 km (urbano)\\n...</td>\n",
       "      <td>NaN</td>\n",
       "      <td>2012.0</td>\n",
       "      <td>4990</td>\n",
       "      <td>269000.0</td>\n",
       "      <td>1368.0</td>\n",
       "      <td>2022-01-27T10:43:48Z</td>\n",
       "      <td>OFFLINE</td>\n",
       "      <td>5.0</td>\n",
       "      <td>GPL</td>\n",
       "      <td>Manuale</td>\n",
       "      <td>ff1e5e17bbebb270d6589cf1bf046b2994a5796b249c4d...</td>\n",
       "      <td>b24-1611</td>\n",
       "      <td>2022-01-27 10:43:48+00:00</td>\n",
       "      <td>pistoia</td>\n",
       "      <td>2022-01-27</td>\n",
       "      <td>2022-01-27</td>\n",
       "      <td>27819</td>\n",
       "    </tr>\n",
       "    <tr>\n",
       "      <th>15096</th>\n",
       "      <td>17211</td>\n",
       "      <td>Euro 5</td>\n",
       "      <td>NaN</td>\n",
       "      <td>Classy Car di Vinciguerra Paolo</td>\n",
       "      <td>2021-06-20T08:53:04Z</td>\n",
       "      <td>Azienda</td>\n",
       "      <td>a</td>\n",
       "      <td>NaN</td>\n",
       "      <td>NaN</td>\n",
       "      <td>NaN</td>\n",
       "      <td>\\n\\nALFA ROMEO GIULIETTA \"QV\" 1750CC 235 CV \\n...</td>\n",
       "      <td>a-000083</td>\n",
       "      <td>[4, 5]</td>\n",
       "      <td>Berlina</td>\n",
       "      <td>172.000</td>\n",
       "      <td>Alfa Romeo Giulietta 1750 tbi Q.verde 235cv</td>\n",
       "      <td>NaN</td>\n",
       "      <td>NaN</td>\n",
       "      <td>NaN</td>\n",
       "      <td>NaN</td>\n",
       "      <td>2013.0</td>\n",
       "      <td>12990</td>\n",
       "      <td>132396.0</td>\n",
       "      <td>NaN</td>\n",
       "      <td>2021-06-18T07:56:52Z</td>\n",
       "      <td>OFFLINE</td>\n",
       "      <td>5.0</td>\n",
       "      <td>Benzina</td>\n",
       "      <td>Manuale</td>\n",
       "      <td>5990fad1cc30f348bd024e1fe08134469a6618c0fa86e8...</td>\n",
       "      <td>a-000313</td>\n",
       "      <td>2021-06-18 07:56:52+00:00</td>\n",
       "      <td>torino</td>\n",
       "      <td>2021-06-18</td>\n",
       "      <td>2021-06-20</td>\n",
       "      <td>27818</td>\n",
       "    </tr>\n",
       "    <tr>\n",
       "      <th>2253</th>\n",
       "      <td>2621</td>\n",
       "      <td>Euro 5</td>\n",
       "      <td>NaN</td>\n",
       "      <td>Classy Car di Vinciguerra Paolo</td>\n",
       "      <td>2021-06-18T06:19:52Z</td>\n",
       "      <td>NaN</td>\n",
       "      <td>b24</td>\n",
       "      <td>Nero</td>\n",
       "      <td>4.0</td>\n",
       "      <td>6.0</td>\n",
       "      <td>ALFA ROMEO GIULIETTA \"QV\" 1750CC 235 CV\\nAUTOV...</td>\n",
       "      <td>b24-6</td>\n",
       "      <td>5</td>\n",
       "      <td>Berlina</td>\n",
       "      <td>173.000</td>\n",
       "      <td>Alfa Romeo Giulietta 1750 tbi Q.verde 235cv</td>\n",
       "      <td>177.0</td>\n",
       "      <td>NaN</td>\n",
       "      <td>7,6 l/100 km (comb.)\\n10,8 l/100 km (urbano)\\n...</td>\n",
       "      <td>NaN</td>\n",
       "      <td>2013.0</td>\n",
       "      <td>12990</td>\n",
       "      <td>132396.0</td>\n",
       "      <td>1742.0</td>\n",
       "      <td>2021-06-18T06:19:52Z</td>\n",
       "      <td>OFFLINE</td>\n",
       "      <td>5.0</td>\n",
       "      <td>Benzina</td>\n",
       "      <td>Manuale</td>\n",
       "      <td>9dfb57c991822accb4732e495fb58dd050a96ca92812c1...</td>\n",
       "      <td>b24-1611</td>\n",
       "      <td>2021-06-18 06:19:52+00:00</td>\n",
       "      <td>torino</td>\n",
       "      <td>2021-06-18</td>\n",
       "      <td>2021-06-18</td>\n",
       "      <td>27818</td>\n",
       "    </tr>\n",
       "    <tr>\n",
       "      <th>26820</th>\n",
       "      <td>29721</td>\n",
       "      <td>Euro 6</td>\n",
       "      <td>NaN</td>\n",
       "      <td>auto mgv srl</td>\n",
       "      <td>2021-07-11T17:38:34Z</td>\n",
       "      <td>Azienda</td>\n",
       "      <td>a</td>\n",
       "      <td>NaN</td>\n",
       "      <td>NaN</td>\n",
       "      <td>NaN</td>\n",
       "      <td>Alfa Romeo Giulietta 2.0 JTDm 150 CV Business,...</td>\n",
       "      <td>a-000083</td>\n",
       "      <td>[4, 5]</td>\n",
       "      <td>Berlina</td>\n",
       "      <td>110.325</td>\n",
       "      <td>Alfa Romeo Giulietta 2.0 JTDm 150 CV Business</td>\n",
       "      <td>NaN</td>\n",
       "      <td>NaN</td>\n",
       "      <td>NaN</td>\n",
       "      <td>NaN</td>\n",
       "      <td>2018.0</td>\n",
       "      <td>11900</td>\n",
       "      <td>129000.0</td>\n",
       "      <td>NaN</td>\n",
       "      <td>2021-07-11T08:36:19Z</td>\n",
       "      <td>OFFLINE</td>\n",
       "      <td>5.0</td>\n",
       "      <td>Diesel</td>\n",
       "      <td>Manuale</td>\n",
       "      <td>03f1607d3386c63772fe73712d23db69670c8de7ad5762...</td>\n",
       "      <td>a-000313</td>\n",
       "      <td>2021-07-11 08:36:19+00:00</td>\n",
       "      <td>la loggia</td>\n",
       "      <td>2021-07-11</td>\n",
       "      <td>2021-07-11</td>\n",
       "      <td>27817</td>\n",
       "    </tr>\n",
       "  </tbody>\n",
       "</table>\n",
       "</div>"
      ],
      "text/plain": [
       "       Unnamed: 0 ecoClass  weight                           seller  \\\n",
       "14525       16503   Euro 5     NaN                  TM WAGEN OUTLET   \n",
       "2697         3082   Euro 5  1317.0                  TM Wagen Outlet   \n",
       "15096       17211   Euro 5     NaN  Classy Car di Vinciguerra Paolo   \n",
       "2253         2621   Euro 5     NaN  Classy Car di Vinciguerra Paolo   \n",
       "26820       29721   Euro 6     NaN                     auto mgv srl   \n",
       "\n",
       "                  updatedAt sellerType source   color  cylinders  gears  \\\n",
       "14525  2022-01-28T17:38:55Z    Azienda      a     NaN        NaN    NaN   \n",
       "2697   2022-01-27T10:43:48Z        NaN    b24  Grigio        4.0    6.0   \n",
       "15096  2021-06-20T08:53:04Z    Azienda      a     NaN        NaN    NaN   \n",
       "2253   2021-06-18T06:19:52Z        NaN    b24    Nero        4.0    6.0   \n",
       "26820  2021-07-11T17:38:34Z    Azienda      a     NaN        NaN    NaN   \n",
       "\n",
       "                                             description    makeId   doors  \\\n",
       "14525  Alfa Romeo Giulietta 1.4 t. Progression Gpl 12...  a-000083  [4, 5]   \n",
       "2697   Alfa Romeo Giulietta 1.4 t. Progression Gpl 12...     b24-6       5   \n",
       "15096  \\n\\nALFA ROMEO GIULIETTA \"QV\" 1750CC 235 CV \\n...  a-000083  [4, 5]   \n",
       "2253   ALFA ROMEO GIULIETTA \"QV\" 1750CC 235 CV\\nAUTOV...     b24-6       5   \n",
       "26820  Alfa Romeo Giulietta 2.0 JTDm 150 CV Business,...  a-000083  [4, 5]   \n",
       "\n",
       "      bodyType       kw                                              title  \\\n",
       "14525  Berlina   88.000  Alfa Romeo Giulietta 1.4 t. Progression Gpl 120cv   \n",
       "2697   Berlina   88.000  Alfa Romeo Giulietta 1.4 t. Progression Gpl 120cv   \n",
       "15096  Berlina  172.000        Alfa Romeo Giulietta 1750 tbi Q.verde 235cv   \n",
       "2253   Berlina  173.000        Alfa Romeo Giulietta 1750 tbi Q.verde 235cv   \n",
       "26820  Berlina  110.325      Alfa Romeo Giulietta 2.0 JTDm 150 CV Business   \n",
       "\n",
       "       co2Emissions                             urn  \\\n",
       "14525           NaN  id:ad:465636073:list:420530170   \n",
       "2697          134.0                             NaN   \n",
       "15096           NaN                             NaN   \n",
       "2253          177.0                             NaN   \n",
       "26820           NaN                             NaN   \n",
       "\n",
       "                                             consumption forNoviceDrivers  \\\n",
       "14525                                                NaN              NaN   \n",
       "2697   8,3 l/100 km (comb.)\\n10,9 l/100 km (urbano)\\n...              NaN   \n",
       "15096                                                NaN              NaN   \n",
       "2253   7,6 l/100 km (comb.)\\n10,8 l/100 km (urbano)\\n...              NaN   \n",
       "26820                                                NaN              NaN   \n",
       "\n",
       "         year  price        km  engineSize             createdAt   status  \\\n",
       "14525  2012.0   4990  269000.0      1368.0  2022-01-27T18:51:22Z  OFFLINE   \n",
       "2697   2012.0   4990  269000.0      1368.0  2022-01-27T10:43:48Z  OFFLINE   \n",
       "15096  2013.0  12990  132396.0         NaN  2021-06-18T07:56:52Z  OFFLINE   \n",
       "2253   2013.0  12990  132396.0      1742.0  2021-06-18T06:19:52Z  OFFLINE   \n",
       "26820  2018.0  11900  129000.0         NaN  2021-07-11T08:36:19Z  OFFLINE   \n",
       "\n",
       "       seats   supply gearType  \\\n",
       "14525    5.0      NaN  Manuale   \n",
       "2697     5.0      GPL  Manuale   \n",
       "15096    5.0  Benzina  Manuale   \n",
       "2253     5.0  Benzina  Manuale   \n",
       "26820    5.0   Diesel  Manuale   \n",
       "\n",
       "                                                  doc_id   modelId  \\\n",
       "14525  257fded1f50cb390b5380b1f361fa598ca0be8b962f93a...  a-000313   \n",
       "2697   ff1e5e17bbebb270d6589cf1bf046b2994a5796b249c4d...  b24-1611   \n",
       "15096  5990fad1cc30f348bd024e1fe08134469a6618c0fa86e8...  a-000313   \n",
       "2253   9dfb57c991822accb4732e495fb58dd050a96ca92812c1...  b24-1611   \n",
       "26820  03f1607d3386c63772fe73712d23db69670c8de7ad5762...  a-000313   \n",
       "\n",
       "                      created_dt      citta dataCreazione dataUpdate  idDupli  \n",
       "14525  2022-01-27 18:51:22+00:00    pistoia    2022-01-27 2022-01-28    27819  \n",
       "2697   2022-01-27 10:43:48+00:00    pistoia    2022-01-27 2022-01-27    27819  \n",
       "15096  2021-06-18 07:56:52+00:00     torino    2021-06-18 2021-06-20    27818  \n",
       "2253   2021-06-18 06:19:52+00:00     torino    2021-06-18 2021-06-18    27818  \n",
       "26820  2021-07-11 08:36:19+00:00  la loggia    2021-07-11 2021-07-11    27817  "
      ]
     },
     "execution_count": 23,
     "metadata": {},
     "output_type": "execute_result"
    }
   ],
   "source": [
    "df[\"idDupli\"] = df.index.copy()\n",
    "dupliId = np.max(df[\"idDupli\"]) + 1\n",
    "\n",
    "for name, single_group in df_agg:\n",
    "    if single_group[\"source\"].nunique() > 1:\n",
    "        df.loc[single_group.index, \"idDupli\"] = dupliId\n",
    "        dupliId += 1\n",
    "\n",
    "# Rows with same dupliId are duplicates!\n",
    "df.sort_values(\"idDupli\", ascending=False).head()\n"
   ]
  },
  {
   "cell_type": "code",
   "execution_count": 24,
   "metadata": {},
   "outputs": [
    {
     "data": {
      "text/html": [
       "<div>\n",
       "<style scoped>\n",
       "    .dataframe tbody tr th:only-of-type {\n",
       "        vertical-align: middle;\n",
       "    }\n",
       "\n",
       "    .dataframe tbody tr th {\n",
       "        vertical-align: top;\n",
       "    }\n",
       "\n",
       "    .dataframe thead th {\n",
       "        text-align: right;\n",
       "    }\n",
       "</style>\n",
       "<table border=\"1\" class=\"dataframe\">\n",
       "  <thead>\n",
       "    <tr style=\"text-align: right;\">\n",
       "      <th></th>\n",
       "      <th>Unnamed: 0</th>\n",
       "      <th>ecoClass</th>\n",
       "      <th>weight</th>\n",
       "      <th>seller</th>\n",
       "      <th>updatedAt</th>\n",
       "      <th>sellerType</th>\n",
       "      <th>source</th>\n",
       "      <th>color</th>\n",
       "      <th>cylinders</th>\n",
       "      <th>gears</th>\n",
       "      <th>description</th>\n",
       "      <th>makeId</th>\n",
       "      <th>doors</th>\n",
       "      <th>bodyType</th>\n",
       "      <th>kw</th>\n",
       "      <th>title</th>\n",
       "      <th>co2Emissions</th>\n",
       "      <th>urn</th>\n",
       "      <th>consumption</th>\n",
       "      <th>forNoviceDrivers</th>\n",
       "      <th>year</th>\n",
       "      <th>price</th>\n",
       "      <th>km</th>\n",
       "      <th>engineSize</th>\n",
       "      <th>createdAt</th>\n",
       "      <th>status</th>\n",
       "      <th>seats</th>\n",
       "      <th>supply</th>\n",
       "      <th>gearType</th>\n",
       "      <th>doc_id</th>\n",
       "      <th>modelId</th>\n",
       "      <th>created_dt</th>\n",
       "      <th>citta</th>\n",
       "      <th>dataCreazione</th>\n",
       "      <th>dataUpdate</th>\n",
       "      <th>idDupli</th>\n",
       "    </tr>\n",
       "  </thead>\n",
       "  <tbody>\n",
       "    <tr>\n",
       "      <th>14525</th>\n",
       "      <td>16503</td>\n",
       "      <td>Euro 5</td>\n",
       "      <td>NaN</td>\n",
       "      <td>TM WAGEN OUTLET</td>\n",
       "      <td>2022-01-28T17:38:55Z</td>\n",
       "      <td>Azienda</td>\n",
       "      <td>a</td>\n",
       "      <td>NaN</td>\n",
       "      <td>NaN</td>\n",
       "      <td>NaN</td>\n",
       "      <td>Alfa Romeo Giulietta 1.4 t. Progression Gpl 12...</td>\n",
       "      <td>a-000083</td>\n",
       "      <td>[4, 5]</td>\n",
       "      <td>Berlina</td>\n",
       "      <td>88.0</td>\n",
       "      <td>Alfa Romeo Giulietta 1.4 t. Progression Gpl 120cv</td>\n",
       "      <td>NaN</td>\n",
       "      <td>id:ad:465636073:list:420530170</td>\n",
       "      <td>NaN</td>\n",
       "      <td>NaN</td>\n",
       "      <td>2012.0</td>\n",
       "      <td>4990</td>\n",
       "      <td>269000.0</td>\n",
       "      <td>1368.0</td>\n",
       "      <td>2022-01-27T18:51:22Z</td>\n",
       "      <td>OFFLINE</td>\n",
       "      <td>5.0</td>\n",
       "      <td>NaN</td>\n",
       "      <td>Manuale</td>\n",
       "      <td>257fded1f50cb390b5380b1f361fa598ca0be8b962f93a...</td>\n",
       "      <td>a-000313</td>\n",
       "      <td>2022-01-27 18:51:22+00:00</td>\n",
       "      <td>pistoia</td>\n",
       "      <td>2022-01-27</td>\n",
       "      <td>2022-01-28</td>\n",
       "      <td>27819</td>\n",
       "    </tr>\n",
       "    <tr>\n",
       "      <th>15096</th>\n",
       "      <td>17211</td>\n",
       "      <td>Euro 5</td>\n",
       "      <td>NaN</td>\n",
       "      <td>Classy Car di Vinciguerra Paolo</td>\n",
       "      <td>2021-06-20T08:53:04Z</td>\n",
       "      <td>Azienda</td>\n",
       "      <td>a</td>\n",
       "      <td>NaN</td>\n",
       "      <td>NaN</td>\n",
       "      <td>NaN</td>\n",
       "      <td>\\n\\nALFA ROMEO GIULIETTA \"QV\" 1750CC 235 CV \\n...</td>\n",
       "      <td>a-000083</td>\n",
       "      <td>[4, 5]</td>\n",
       "      <td>Berlina</td>\n",
       "      <td>172.0</td>\n",
       "      <td>Alfa Romeo Giulietta 1750 tbi Q.verde 235cv</td>\n",
       "      <td>NaN</td>\n",
       "      <td>NaN</td>\n",
       "      <td>NaN</td>\n",
       "      <td>NaN</td>\n",
       "      <td>2013.0</td>\n",
       "      <td>12990</td>\n",
       "      <td>132396.0</td>\n",
       "      <td>NaN</td>\n",
       "      <td>2021-06-18T07:56:52Z</td>\n",
       "      <td>OFFLINE</td>\n",
       "      <td>5.0</td>\n",
       "      <td>Benzina</td>\n",
       "      <td>Manuale</td>\n",
       "      <td>5990fad1cc30f348bd024e1fe08134469a6618c0fa86e8...</td>\n",
       "      <td>a-000313</td>\n",
       "      <td>2021-06-18 07:56:52+00:00</td>\n",
       "      <td>torino</td>\n",
       "      <td>2021-06-18</td>\n",
       "      <td>2021-06-20</td>\n",
       "      <td>27818</td>\n",
       "    </tr>\n",
       "    <tr>\n",
       "      <th>7540</th>\n",
       "      <td>9032</td>\n",
       "      <td>Euro 6</td>\n",
       "      <td>1395.0</td>\n",
       "      <td>Auto MGV Srl</td>\n",
       "      <td>2021-07-27T08:06:39Z</td>\n",
       "      <td>NaN</td>\n",
       "      <td>b24</td>\n",
       "      <td>Blu/Azzurro</td>\n",
       "      <td>4.0</td>\n",
       "      <td>6.0</td>\n",
       "      <td>Alfa Romeo Giulietta 2.0 JTDm 150 CV Business,...</td>\n",
       "      <td>b24-6</td>\n",
       "      <td>5</td>\n",
       "      <td>Berlina</td>\n",
       "      <td>110.0</td>\n",
       "      <td>Alfa Romeo Giulietta 2.0 JTDm 150 CV Business</td>\n",
       "      <td>110.0</td>\n",
       "      <td>NaN</td>\n",
       "      <td>4,2 l/100 km (comb.)\\n5 l/100 km (urbano)\\n3,7...</td>\n",
       "      <td>NaN</td>\n",
       "      <td>2018.0</td>\n",
       "      <td>11900</td>\n",
       "      <td>129000.0</td>\n",
       "      <td>1956.0</td>\n",
       "      <td>2021-07-11T06:46:10Z</td>\n",
       "      <td>OFFLINE</td>\n",
       "      <td>5.0</td>\n",
       "      <td>Diesel</td>\n",
       "      <td>Manuale</td>\n",
       "      <td>18d157fc1ba17769fb6f37673f615b7d6d4a3487f352ee...</td>\n",
       "      <td>b24-1611</td>\n",
       "      <td>2021-07-11 06:46:10+00:00</td>\n",
       "      <td>la loggia</td>\n",
       "      <td>2021-07-11</td>\n",
       "      <td>2021-07-27</td>\n",
       "      <td>27817</td>\n",
       "    </tr>\n",
       "    <tr>\n",
       "      <th>11233</th>\n",
       "      <td>13056</td>\n",
       "      <td>Euro 6</td>\n",
       "      <td>NaN</td>\n",
       "      <td>Antonietti Leonello srl</td>\n",
       "      <td>2021-10-19T00:10:04Z</td>\n",
       "      <td>Azienda</td>\n",
       "      <td>a</td>\n",
       "      <td>NaN</td>\n",
       "      <td>NaN</td>\n",
       "      <td>NaN</td>\n",
       "      <td>Garanzia 12 MESI. Controllata, sanificata e ga...</td>\n",
       "      <td>a-000083</td>\n",
       "      <td>[4, 5]</td>\n",
       "      <td>Berlina</td>\n",
       "      <td>88.0</td>\n",
       "      <td>Alfa Romeo Giulietta 1.4 Turbo 120 CV GPL Sprint</td>\n",
       "      <td>NaN</td>\n",
       "      <td>NaN</td>\n",
       "      <td>NaN</td>\n",
       "      <td>NaN</td>\n",
       "      <td>2015.0</td>\n",
       "      <td>12500</td>\n",
       "      <td>118000.0</td>\n",
       "      <td>1368.0</td>\n",
       "      <td>2021-10-18T12:39:15Z</td>\n",
       "      <td>OFFLINE</td>\n",
       "      <td>5.0</td>\n",
       "      <td>NaN</td>\n",
       "      <td>Manuale</td>\n",
       "      <td>4789b755a0d32a2d58778db39ad0b6c7e46ac9a2898807...</td>\n",
       "      <td>a-000313</td>\n",
       "      <td>2021-10-18 12:39:15+00:00</td>\n",
       "      <td>fabriano</td>\n",
       "      <td>2021-10-18</td>\n",
       "      <td>2021-10-19</td>\n",
       "      <td>27816</td>\n",
       "    </tr>\n",
       "    <tr>\n",
       "      <th>18744</th>\n",
       "      <td>21017</td>\n",
       "      <td>Euro 5</td>\n",
       "      <td>NaN</td>\n",
       "      <td>LOCAUTO DUE</td>\n",
       "      <td>2022-01-25T11:01:07Z</td>\n",
       "      <td>Azienda</td>\n",
       "      <td>a</td>\n",
       "      <td>NaN</td>\n",
       "      <td>NaN</td>\n",
       "      <td>NaN</td>\n",
       "      <td>Scegli la tua nuova auto con un Click!\\nTi ver...</td>\n",
       "      <td>a-000083</td>\n",
       "      <td>[4, 5]</td>\n",
       "      <td>Berlina</td>\n",
       "      <td>NaN</td>\n",
       "      <td>Alfa Romeo Giulietta 1.6 JTDm-2 105 CV Distinc...</td>\n",
       "      <td>NaN</td>\n",
       "      <td>NaN</td>\n",
       "      <td>NaN</td>\n",
       "      <td>NaN</td>\n",
       "      <td>2016.0</td>\n",
       "      <td>10490</td>\n",
       "      <td>116456.0</td>\n",
       "      <td>1598.0</td>\n",
       "      <td>2022-01-18T16:01:36Z</td>\n",
       "      <td>OFFLINE</td>\n",
       "      <td>5.0</td>\n",
       "      <td>Diesel</td>\n",
       "      <td>Manuale</td>\n",
       "      <td>7591c9b3b9b959a1004902228212bb2bd38a02de49f019...</td>\n",
       "      <td>a-000313</td>\n",
       "      <td>2022-01-18 16:01:36+00:00</td>\n",
       "      <td>roletto</td>\n",
       "      <td>2022-01-18</td>\n",
       "      <td>2022-01-25</td>\n",
       "      <td>27815</td>\n",
       "    </tr>\n",
       "  </tbody>\n",
       "</table>\n",
       "</div>"
      ],
      "text/plain": [
       "       Unnamed: 0 ecoClass  weight                           seller  \\\n",
       "14525       16503   Euro 5     NaN                  TM WAGEN OUTLET   \n",
       "15096       17211   Euro 5     NaN  Classy Car di Vinciguerra Paolo   \n",
       "7540         9032   Euro 6  1395.0                     Auto MGV Srl   \n",
       "11233       13056   Euro 6     NaN          Antonietti Leonello srl   \n",
       "18744       21017   Euro 5     NaN                      LOCAUTO DUE   \n",
       "\n",
       "                  updatedAt sellerType source        color  cylinders  gears  \\\n",
       "14525  2022-01-28T17:38:55Z    Azienda      a          NaN        NaN    NaN   \n",
       "15096  2021-06-20T08:53:04Z    Azienda      a          NaN        NaN    NaN   \n",
       "7540   2021-07-27T08:06:39Z        NaN    b24  Blu/Azzurro        4.0    6.0   \n",
       "11233  2021-10-19T00:10:04Z    Azienda      a          NaN        NaN    NaN   \n",
       "18744  2022-01-25T11:01:07Z    Azienda      a          NaN        NaN    NaN   \n",
       "\n",
       "                                             description    makeId   doors  \\\n",
       "14525  Alfa Romeo Giulietta 1.4 t. Progression Gpl 12...  a-000083  [4, 5]   \n",
       "15096  \\n\\nALFA ROMEO GIULIETTA \"QV\" 1750CC 235 CV \\n...  a-000083  [4, 5]   \n",
       "7540   Alfa Romeo Giulietta 2.0 JTDm 150 CV Business,...     b24-6       5   \n",
       "11233  Garanzia 12 MESI. Controllata, sanificata e ga...  a-000083  [4, 5]   \n",
       "18744  Scegli la tua nuova auto con un Click!\\nTi ver...  a-000083  [4, 5]   \n",
       "\n",
       "      bodyType     kw                                              title  \\\n",
       "14525  Berlina   88.0  Alfa Romeo Giulietta 1.4 t. Progression Gpl 120cv   \n",
       "15096  Berlina  172.0        Alfa Romeo Giulietta 1750 tbi Q.verde 235cv   \n",
       "7540   Berlina  110.0      Alfa Romeo Giulietta 2.0 JTDm 150 CV Business   \n",
       "11233  Berlina   88.0   Alfa Romeo Giulietta 1.4 Turbo 120 CV GPL Sprint   \n",
       "18744  Berlina    NaN  Alfa Romeo Giulietta 1.6 JTDm-2 105 CV Distinc...   \n",
       "\n",
       "       co2Emissions                             urn  \\\n",
       "14525           NaN  id:ad:465636073:list:420530170   \n",
       "15096           NaN                             NaN   \n",
       "7540          110.0                             NaN   \n",
       "11233           NaN                             NaN   \n",
       "18744           NaN                             NaN   \n",
       "\n",
       "                                             consumption forNoviceDrivers  \\\n",
       "14525                                                NaN              NaN   \n",
       "15096                                                NaN              NaN   \n",
       "7540   4,2 l/100 km (comb.)\\n5 l/100 km (urbano)\\n3,7...              NaN   \n",
       "11233                                                NaN              NaN   \n",
       "18744                                                NaN              NaN   \n",
       "\n",
       "         year  price        km  engineSize             createdAt   status  \\\n",
       "14525  2012.0   4990  269000.0      1368.0  2022-01-27T18:51:22Z  OFFLINE   \n",
       "15096  2013.0  12990  132396.0         NaN  2021-06-18T07:56:52Z  OFFLINE   \n",
       "7540   2018.0  11900  129000.0      1956.0  2021-07-11T06:46:10Z  OFFLINE   \n",
       "11233  2015.0  12500  118000.0      1368.0  2021-10-18T12:39:15Z  OFFLINE   \n",
       "18744  2016.0  10490  116456.0      1598.0  2022-01-18T16:01:36Z  OFFLINE   \n",
       "\n",
       "       seats   supply gearType  \\\n",
       "14525    5.0      NaN  Manuale   \n",
       "15096    5.0  Benzina  Manuale   \n",
       "7540     5.0   Diesel  Manuale   \n",
       "11233    5.0      NaN  Manuale   \n",
       "18744    5.0   Diesel  Manuale   \n",
       "\n",
       "                                                  doc_id   modelId  \\\n",
       "14525  257fded1f50cb390b5380b1f361fa598ca0be8b962f93a...  a-000313   \n",
       "15096  5990fad1cc30f348bd024e1fe08134469a6618c0fa86e8...  a-000313   \n",
       "7540   18d157fc1ba17769fb6f37673f615b7d6d4a3487f352ee...  b24-1611   \n",
       "11233  4789b755a0d32a2d58778db39ad0b6c7e46ac9a2898807...  a-000313   \n",
       "18744  7591c9b3b9b959a1004902228212bb2bd38a02de49f019...  a-000313   \n",
       "\n",
       "                      created_dt      citta dataCreazione dataUpdate  idDupli  \n",
       "14525  2022-01-27 18:51:22+00:00    pistoia    2022-01-27 2022-01-28    27819  \n",
       "15096  2021-06-18 07:56:52+00:00     torino    2021-06-18 2021-06-20    27818  \n",
       "7540   2021-07-11 06:46:10+00:00  la loggia    2021-07-11 2021-07-27    27817  \n",
       "11233  2021-10-18 12:39:15+00:00   fabriano    2021-10-18 2021-10-19    27816  \n",
       "18744  2022-01-18 16:01:36+00:00    roletto    2022-01-18 2022-01-25    27815  "
      ]
     },
     "execution_count": 24,
     "metadata": {},
     "output_type": "execute_result"
    }
   ],
   "source": [
    "# Droppo i duplicati, tenendo come regola la riga con dataUpdate più recente\n",
    "df = df.sort_values(\"dataUpdate\", ascending=False).drop_duplicates(\n",
    "    \"idDupli\", keep=\"first\"\n",
    ")\n",
    "df.sort_values(\"idDupli\", ascending=False).head()\n"
   ]
  },
  {
   "cell_type": "markdown",
   "metadata": {},
   "source": [
    "### Duplicates: city"
   ]
  },
  {
   "cell_type": "code",
   "execution_count": 25,
   "metadata": {},
   "outputs": [],
   "source": [
    "to_group = [\"km\", \"price\", \"year\", \"title\", \"dataCreazione\", \"source\"]\n",
    "df_agg = df.groupby(to_group)\n"
   ]
  },
  {
   "cell_type": "code",
   "execution_count": 26,
   "metadata": {},
   "outputs": [
    {
     "data": {
      "text/html": [
       "<div>\n",
       "<style scoped>\n",
       "    .dataframe tbody tr th:only-of-type {\n",
       "        vertical-align: middle;\n",
       "    }\n",
       "\n",
       "    .dataframe tbody tr th {\n",
       "        vertical-align: top;\n",
       "    }\n",
       "\n",
       "    .dataframe thead th {\n",
       "        text-align: right;\n",
       "    }\n",
       "</style>\n",
       "<table border=\"1\" class=\"dataframe\">\n",
       "  <thead>\n",
       "    <tr style=\"text-align: right;\">\n",
       "      <th></th>\n",
       "      <th>Unnamed: 0</th>\n",
       "      <th>ecoClass</th>\n",
       "      <th>weight</th>\n",
       "      <th>seller</th>\n",
       "      <th>updatedAt</th>\n",
       "      <th>sellerType</th>\n",
       "      <th>source</th>\n",
       "      <th>color</th>\n",
       "      <th>cylinders</th>\n",
       "      <th>gears</th>\n",
       "      <th>description</th>\n",
       "      <th>makeId</th>\n",
       "      <th>doors</th>\n",
       "      <th>bodyType</th>\n",
       "      <th>kw</th>\n",
       "      <th>title</th>\n",
       "      <th>co2Emissions</th>\n",
       "      <th>urn</th>\n",
       "      <th>consumption</th>\n",
       "      <th>forNoviceDrivers</th>\n",
       "      <th>year</th>\n",
       "      <th>price</th>\n",
       "      <th>km</th>\n",
       "      <th>engineSize</th>\n",
       "      <th>createdAt</th>\n",
       "      <th>status</th>\n",
       "      <th>seats</th>\n",
       "      <th>supply</th>\n",
       "      <th>gearType</th>\n",
       "      <th>doc_id</th>\n",
       "      <th>modelId</th>\n",
       "      <th>created_dt</th>\n",
       "      <th>citta</th>\n",
       "      <th>dataCreazione</th>\n",
       "      <th>dataUpdate</th>\n",
       "      <th>idDupli</th>\n",
       "    </tr>\n",
       "  </thead>\n",
       "  <tbody>\n",
       "    <tr>\n",
       "      <th>14654</th>\n",
       "      <td>16749</td>\n",
       "      <td>Euro 5</td>\n",
       "      <td>NaN</td>\n",
       "      <td>Auto Casertano Group</td>\n",
       "      <td>2022-02-10T09:01:54Z</td>\n",
       "      <td>Azienda</td>\n",
       "      <td>a</td>\n",
       "      <td>NaN</td>\n",
       "      <td>NaN</td>\n",
       "      <td>NaN</td>\n",
       "      <td>Auto in perfetto stato di usura \\n\\n 12 mesi d...</td>\n",
       "      <td>a-000083</td>\n",
       "      <td>[4, 5]</td>\n",
       "      <td>Berlina</td>\n",
       "      <td>77.0</td>\n",
       "      <td>Alfa Romeo Giulietta 1.6 JTDm-2 105 CV Exclusi...</td>\n",
       "      <td>NaN</td>\n",
       "      <td>id:ad:465242610:list:420048591</td>\n",
       "      <td>NaN</td>\n",
       "      <td>NaN</td>\n",
       "      <td>2012.0</td>\n",
       "      <td>7500</td>\n",
       "      <td>212612.0</td>\n",
       "      <td>1598.0</td>\n",
       "      <td>2022-01-25T16:16:31Z</td>\n",
       "      <td>OFFLINE</td>\n",
       "      <td>5.0</td>\n",
       "      <td>Diesel</td>\n",
       "      <td>Manuale</td>\n",
       "      <td>098d51cc2b861f8b1df4feb2379aac11229a65a55335c9...</td>\n",
       "      <td>a-000313</td>\n",
       "      <td>2022-01-25 16:16:31+00:00</td>\n",
       "      <td>capodrise</td>\n",
       "      <td>2022-01-25</td>\n",
       "      <td>2022-02-10</td>\n",
       "      <td>28101</td>\n",
       "    </tr>\n",
       "    <tr>\n",
       "      <th>25567</th>\n",
       "      <td>28433</td>\n",
       "      <td>Euro 5</td>\n",
       "      <td>NaN</td>\n",
       "      <td>Auto Casertano Group</td>\n",
       "      <td>2022-02-15T18:36:01Z</td>\n",
       "      <td>Azienda</td>\n",
       "      <td>a</td>\n",
       "      <td>NaN</td>\n",
       "      <td>NaN</td>\n",
       "      <td>NaN</td>\n",
       "      <td>Auto in perfetto stato di usura \\n\\n 12 mesi d...</td>\n",
       "      <td>a-000083</td>\n",
       "      <td>[4, 5]</td>\n",
       "      <td>Berlina</td>\n",
       "      <td>77.0</td>\n",
       "      <td>Alfa Romeo Giulietta 1.6 JTDm-2 105 CV Exclusi...</td>\n",
       "      <td>NaN</td>\n",
       "      <td>id:ad:465242610:list:420048591</td>\n",
       "      <td>NaN</td>\n",
       "      <td>NaN</td>\n",
       "      <td>2012.0</td>\n",
       "      <td>7500</td>\n",
       "      <td>212612.0</td>\n",
       "      <td>1598.0</td>\n",
       "      <td>2022-01-25T16:16:31Z</td>\n",
       "      <td>ONLINE</td>\n",
       "      <td>5.0</td>\n",
       "      <td>Diesel</td>\n",
       "      <td>Manuale</td>\n",
       "      <td>6334c8fe422ac20091176a71324d7beb3a19fc9c8c3d94...</td>\n",
       "      <td>a-000313</td>\n",
       "      <td>2022-01-25 16:16:31+00:00</td>\n",
       "      <td>casapulla</td>\n",
       "      <td>2022-01-25</td>\n",
       "      <td>2022-02-15</td>\n",
       "      <td>28101</td>\n",
       "    </tr>\n",
       "    <tr>\n",
       "      <th>13788</th>\n",
       "      <td>15761</td>\n",
       "      <td>Euro 5</td>\n",
       "      <td>NaN</td>\n",
       "      <td>Ariel Srl</td>\n",
       "      <td>2021-08-03T21:26:45Z</td>\n",
       "      <td>Azienda</td>\n",
       "      <td>a</td>\n",
       "      <td>NaN</td>\n",
       "      <td>NaN</td>\n",
       "      <td>NaN</td>\n",
       "      <td>Per maggiori informazioni, accessori e foto su...</td>\n",
       "      <td>a-000083</td>\n",
       "      <td>[4, 5]</td>\n",
       "      <td>Berlina</td>\n",
       "      <td>77.0</td>\n",
       "      <td>ALFA ROMEO GIULIETTA 1.6 jtdm Distinctive</td>\n",
       "      <td>NaN</td>\n",
       "      <td>NaN</td>\n",
       "      <td>NaN</td>\n",
       "      <td>NaN</td>\n",
       "      <td>2010.0</td>\n",
       "      <td>4500</td>\n",
       "      <td>191744.0</td>\n",
       "      <td>1598.0</td>\n",
       "      <td>2021-08-03T14:22:36Z</td>\n",
       "      <td>OFFLINE</td>\n",
       "      <td>5.0</td>\n",
       "      <td>Diesel</td>\n",
       "      <td>Manuale</td>\n",
       "      <td>62aab6ef7011de67cd4f04c764bc6e6d275e1a37b44d14...</td>\n",
       "      <td>a-000313</td>\n",
       "      <td>2021-08-03 14:22:36+00:00</td>\n",
       "      <td>casei gerola</td>\n",
       "      <td>2021-08-03</td>\n",
       "      <td>2021-08-03</td>\n",
       "      <td>28100</td>\n",
       "    </tr>\n",
       "    <tr>\n",
       "      <th>23536</th>\n",
       "      <td>26275</td>\n",
       "      <td>Euro 5</td>\n",
       "      <td>NaN</td>\n",
       "      <td>Ariel Car Firenze</td>\n",
       "      <td>2021-08-03T21:26:43Z</td>\n",
       "      <td>Azienda</td>\n",
       "      <td>a</td>\n",
       "      <td>NaN</td>\n",
       "      <td>NaN</td>\n",
       "      <td>NaN</td>\n",
       "      <td>Per maggiori informazioni, accessori e foto su...</td>\n",
       "      <td>a-000083</td>\n",
       "      <td>[4, 5]</td>\n",
       "      <td>Berlina</td>\n",
       "      <td>77.0</td>\n",
       "      <td>ALFA ROMEO GIULIETTA 1.6 jtdm Distinctive</td>\n",
       "      <td>NaN</td>\n",
       "      <td>NaN</td>\n",
       "      <td>NaN</td>\n",
       "      <td>NaN</td>\n",
       "      <td>2010.0</td>\n",
       "      <td>4500</td>\n",
       "      <td>191744.0</td>\n",
       "      <td>1598.0</td>\n",
       "      <td>2021-08-03T14:22:58Z</td>\n",
       "      <td>OFFLINE</td>\n",
       "      <td>5.0</td>\n",
       "      <td>Diesel</td>\n",
       "      <td>Manuale</td>\n",
       "      <td>a49d49eccdfea0e2d0453f209c80d08c218d8102469226...</td>\n",
       "      <td>a-000313</td>\n",
       "      <td>2021-08-03 14:22:58+00:00</td>\n",
       "      <td>firenze</td>\n",
       "      <td>2021-08-03</td>\n",
       "      <td>2021-08-03</td>\n",
       "      <td>28100</td>\n",
       "    </tr>\n",
       "    <tr>\n",
       "      <th>21445</th>\n",
       "      <td>24014</td>\n",
       "      <td>Euro 5</td>\n",
       "      <td>NaN</td>\n",
       "      <td>Ariel Car Roma</td>\n",
       "      <td>2021-08-03T21:26:44Z</td>\n",
       "      <td>Azienda</td>\n",
       "      <td>a</td>\n",
       "      <td>NaN</td>\n",
       "      <td>NaN</td>\n",
       "      <td>NaN</td>\n",
       "      <td>Per maggiori informazioni, accessori e foto su...</td>\n",
       "      <td>a-000083</td>\n",
       "      <td>[4, 5]</td>\n",
       "      <td>Berlina</td>\n",
       "      <td>77.0</td>\n",
       "      <td>ALFA ROMEO GIULIETTA 1.6 jtdm Distinctive</td>\n",
       "      <td>NaN</td>\n",
       "      <td>NaN</td>\n",
       "      <td>NaN</td>\n",
       "      <td>NaN</td>\n",
       "      <td>2010.0</td>\n",
       "      <td>4500</td>\n",
       "      <td>191744.0</td>\n",
       "      <td>1598.0</td>\n",
       "      <td>2021-08-03T14:22:39Z</td>\n",
       "      <td>OFFLINE</td>\n",
       "      <td>5.0</td>\n",
       "      <td>Diesel</td>\n",
       "      <td>Manuale</td>\n",
       "      <td>77c71a99bc21131705611a0a687338b8f9b1cbd0283dcc...</td>\n",
       "      <td>a-000313</td>\n",
       "      <td>2021-08-03 14:22:39+00:00</td>\n",
       "      <td>roma</td>\n",
       "      <td>2021-08-03</td>\n",
       "      <td>2021-08-03</td>\n",
       "      <td>28100</td>\n",
       "    </tr>\n",
       "  </tbody>\n",
       "</table>\n",
       "</div>"
      ],
      "text/plain": [
       "       Unnamed: 0 ecoClass  weight                seller  \\\n",
       "14654       16749   Euro 5     NaN  Auto Casertano Group   \n",
       "25567       28433   Euro 5     NaN  Auto Casertano Group   \n",
       "13788       15761   Euro 5     NaN             Ariel Srl   \n",
       "23536       26275   Euro 5     NaN     Ariel Car Firenze   \n",
       "21445       24014   Euro 5     NaN        Ariel Car Roma   \n",
       "\n",
       "                  updatedAt sellerType source color  cylinders  gears  \\\n",
       "14654  2022-02-10T09:01:54Z    Azienda      a   NaN        NaN    NaN   \n",
       "25567  2022-02-15T18:36:01Z    Azienda      a   NaN        NaN    NaN   \n",
       "13788  2021-08-03T21:26:45Z    Azienda      a   NaN        NaN    NaN   \n",
       "23536  2021-08-03T21:26:43Z    Azienda      a   NaN        NaN    NaN   \n",
       "21445  2021-08-03T21:26:44Z    Azienda      a   NaN        NaN    NaN   \n",
       "\n",
       "                                             description    makeId   doors  \\\n",
       "14654  Auto in perfetto stato di usura \\n\\n 12 mesi d...  a-000083  [4, 5]   \n",
       "25567  Auto in perfetto stato di usura \\n\\n 12 mesi d...  a-000083  [4, 5]   \n",
       "13788  Per maggiori informazioni, accessori e foto su...  a-000083  [4, 5]   \n",
       "23536  Per maggiori informazioni, accessori e foto su...  a-000083  [4, 5]   \n",
       "21445  Per maggiori informazioni, accessori e foto su...  a-000083  [4, 5]   \n",
       "\n",
       "      bodyType    kw                                              title  \\\n",
       "14654  Berlina  77.0  Alfa Romeo Giulietta 1.6 JTDm-2 105 CV Exclusi...   \n",
       "25567  Berlina  77.0  Alfa Romeo Giulietta 1.6 JTDm-2 105 CV Exclusi...   \n",
       "13788  Berlina  77.0          ALFA ROMEO GIULIETTA 1.6 jtdm Distinctive   \n",
       "23536  Berlina  77.0          ALFA ROMEO GIULIETTA 1.6 jtdm Distinctive   \n",
       "21445  Berlina  77.0          ALFA ROMEO GIULIETTA 1.6 jtdm Distinctive   \n",
       "\n",
       "       co2Emissions                             urn consumption  \\\n",
       "14654           NaN  id:ad:465242610:list:420048591         NaN   \n",
       "25567           NaN  id:ad:465242610:list:420048591         NaN   \n",
       "13788           NaN                             NaN         NaN   \n",
       "23536           NaN                             NaN         NaN   \n",
       "21445           NaN                             NaN         NaN   \n",
       "\n",
       "      forNoviceDrivers    year  price        km  engineSize  \\\n",
       "14654              NaN  2012.0   7500  212612.0      1598.0   \n",
       "25567              NaN  2012.0   7500  212612.0      1598.0   \n",
       "13788              NaN  2010.0   4500  191744.0      1598.0   \n",
       "23536              NaN  2010.0   4500  191744.0      1598.0   \n",
       "21445              NaN  2010.0   4500  191744.0      1598.0   \n",
       "\n",
       "                  createdAt   status  seats  supply gearType  \\\n",
       "14654  2022-01-25T16:16:31Z  OFFLINE    5.0  Diesel  Manuale   \n",
       "25567  2022-01-25T16:16:31Z   ONLINE    5.0  Diesel  Manuale   \n",
       "13788  2021-08-03T14:22:36Z  OFFLINE    5.0  Diesel  Manuale   \n",
       "23536  2021-08-03T14:22:58Z  OFFLINE    5.0  Diesel  Manuale   \n",
       "21445  2021-08-03T14:22:39Z  OFFLINE    5.0  Diesel  Manuale   \n",
       "\n",
       "                                                  doc_id   modelId  \\\n",
       "14654  098d51cc2b861f8b1df4feb2379aac11229a65a55335c9...  a-000313   \n",
       "25567  6334c8fe422ac20091176a71324d7beb3a19fc9c8c3d94...  a-000313   \n",
       "13788  62aab6ef7011de67cd4f04c764bc6e6d275e1a37b44d14...  a-000313   \n",
       "23536  a49d49eccdfea0e2d0453f209c80d08c218d8102469226...  a-000313   \n",
       "21445  77c71a99bc21131705611a0a687338b8f9b1cbd0283dcc...  a-000313   \n",
       "\n",
       "                      created_dt         citta dataCreazione dataUpdate  \\\n",
       "14654  2022-01-25 16:16:31+00:00     capodrise    2022-01-25 2022-02-10   \n",
       "25567  2022-01-25 16:16:31+00:00     casapulla    2022-01-25 2022-02-15   \n",
       "13788  2021-08-03 14:22:36+00:00  casei gerola    2021-08-03 2021-08-03   \n",
       "23536  2021-08-03 14:22:58+00:00       firenze    2021-08-03 2021-08-03   \n",
       "21445  2021-08-03 14:22:39+00:00          roma    2021-08-03 2021-08-03   \n",
       "\n",
       "       idDupli  \n",
       "14654    28101  \n",
       "25567    28101  \n",
       "13788    28100  \n",
       "23536    28100  \n",
       "21445    28100  "
      ]
     },
     "execution_count": 26,
     "metadata": {},
     "output_type": "execute_result"
    }
   ],
   "source": [
    "df[\"idDupli\"] = df.index.copy()\n",
    "dupliId = np.max(df[\"idDupli\"]) + 1\n",
    "\n",
    "for name, single_group in df_agg:\n",
    "    if single_group[\"citta\"].nunique() > 1:\n",
    "        df.loc[single_group.index, \"idDupli\"] = dupliId\n",
    "        dupliId += 1\n",
    "\n",
    "df.sort_values(\"idDupli\", ascending=False).head()\n"
   ]
  },
  {
   "cell_type": "code",
   "execution_count": 27,
   "metadata": {},
   "outputs": [
    {
     "data": {
      "text/html": [
       "<div>\n",
       "<style scoped>\n",
       "    .dataframe tbody tr th:only-of-type {\n",
       "        vertical-align: middle;\n",
       "    }\n",
       "\n",
       "    .dataframe tbody tr th {\n",
       "        vertical-align: top;\n",
       "    }\n",
       "\n",
       "    .dataframe thead th {\n",
       "        text-align: right;\n",
       "    }\n",
       "</style>\n",
       "<table border=\"1\" class=\"dataframe\">\n",
       "  <thead>\n",
       "    <tr style=\"text-align: right;\">\n",
       "      <th></th>\n",
       "      <th>Unnamed: 0</th>\n",
       "      <th>ecoClass</th>\n",
       "      <th>weight</th>\n",
       "      <th>seller</th>\n",
       "      <th>updatedAt</th>\n",
       "      <th>sellerType</th>\n",
       "      <th>source</th>\n",
       "      <th>color</th>\n",
       "      <th>cylinders</th>\n",
       "      <th>gears</th>\n",
       "      <th>description</th>\n",
       "      <th>makeId</th>\n",
       "      <th>doors</th>\n",
       "      <th>bodyType</th>\n",
       "      <th>kw</th>\n",
       "      <th>title</th>\n",
       "      <th>co2Emissions</th>\n",
       "      <th>urn</th>\n",
       "      <th>consumption</th>\n",
       "      <th>forNoviceDrivers</th>\n",
       "      <th>year</th>\n",
       "      <th>price</th>\n",
       "      <th>km</th>\n",
       "      <th>engineSize</th>\n",
       "      <th>createdAt</th>\n",
       "      <th>status</th>\n",
       "      <th>seats</th>\n",
       "      <th>supply</th>\n",
       "      <th>gearType</th>\n",
       "      <th>doc_id</th>\n",
       "      <th>modelId</th>\n",
       "      <th>created_dt</th>\n",
       "      <th>citta</th>\n",
       "      <th>dataCreazione</th>\n",
       "      <th>dataUpdate</th>\n",
       "      <th>idDupli</th>\n",
       "    </tr>\n",
       "  </thead>\n",
       "  <tbody>\n",
       "    <tr>\n",
       "      <th>25567</th>\n",
       "      <td>28433</td>\n",
       "      <td>Euro 5</td>\n",
       "      <td>NaN</td>\n",
       "      <td>Auto Casertano Group</td>\n",
       "      <td>2022-02-15T18:36:01Z</td>\n",
       "      <td>Azienda</td>\n",
       "      <td>a</td>\n",
       "      <td>NaN</td>\n",
       "      <td>NaN</td>\n",
       "      <td>NaN</td>\n",
       "      <td>Auto in perfetto stato di usura \\n\\n 12 mesi d...</td>\n",
       "      <td>a-000083</td>\n",
       "      <td>[4, 5]</td>\n",
       "      <td>Berlina</td>\n",
       "      <td>77.0</td>\n",
       "      <td>Alfa Romeo Giulietta 1.6 JTDm-2 105 CV Exclusi...</td>\n",
       "      <td>NaN</td>\n",
       "      <td>id:ad:465242610:list:420048591</td>\n",
       "      <td>NaN</td>\n",
       "      <td>NaN</td>\n",
       "      <td>2012.0</td>\n",
       "      <td>7500</td>\n",
       "      <td>212612.0</td>\n",
       "      <td>1598.0</td>\n",
       "      <td>2022-01-25T16:16:31Z</td>\n",
       "      <td>ONLINE</td>\n",
       "      <td>5.0</td>\n",
       "      <td>Diesel</td>\n",
       "      <td>Manuale</td>\n",
       "      <td>6334c8fe422ac20091176a71324d7beb3a19fc9c8c3d94...</td>\n",
       "      <td>a-000313</td>\n",
       "      <td>2022-01-25 16:16:31+00:00</td>\n",
       "      <td>casapulla</td>\n",
       "      <td>2022-01-25</td>\n",
       "      <td>2022-02-15</td>\n",
       "      <td>28101</td>\n",
       "    </tr>\n",
       "    <tr>\n",
       "      <th>9083</th>\n",
       "      <td>10768</td>\n",
       "      <td>Euro 5</td>\n",
       "      <td>NaN</td>\n",
       "      <td>ARIEL BARI S.R.L.</td>\n",
       "      <td>2021-08-03T21:26:43Z</td>\n",
       "      <td>Azienda</td>\n",
       "      <td>a</td>\n",
       "      <td>NaN</td>\n",
       "      <td>NaN</td>\n",
       "      <td>NaN</td>\n",
       "      <td>Per maggiori informazioni, accessori e foto su...</td>\n",
       "      <td>a-000083</td>\n",
       "      <td>[4, 5]</td>\n",
       "      <td>Berlina</td>\n",
       "      <td>77.0</td>\n",
       "      <td>ALFA ROMEO GIULIETTA 1.6 jtdm Distinctive</td>\n",
       "      <td>NaN</td>\n",
       "      <td>NaN</td>\n",
       "      <td>NaN</td>\n",
       "      <td>NaN</td>\n",
       "      <td>2010.0</td>\n",
       "      <td>4500</td>\n",
       "      <td>191744.0</td>\n",
       "      <td>1598.0</td>\n",
       "      <td>2021-08-03T14:22:57Z</td>\n",
       "      <td>OFFLINE</td>\n",
       "      <td>5.0</td>\n",
       "      <td>Diesel</td>\n",
       "      <td>Manuale</td>\n",
       "      <td>c167eec311671c7c999fcefc6f8c2b2a909ee364721d18...</td>\n",
       "      <td>a-000313</td>\n",
       "      <td>2021-08-03 14:22:57+00:00</td>\n",
       "      <td>bari</td>\n",
       "      <td>2021-08-03</td>\n",
       "      <td>2021-08-03</td>\n",
       "      <td>28100</td>\n",
       "    </tr>\n",
       "    <tr>\n",
       "      <th>25899</th>\n",
       "      <td>28793</td>\n",
       "      <td>Euro 5</td>\n",
       "      <td>NaN</td>\n",
       "      <td>passione automobili srl</td>\n",
       "      <td>2021-08-18T01:42:38Z</td>\n",
       "      <td>Azienda</td>\n",
       "      <td>a</td>\n",
       "      <td>NaN</td>\n",
       "      <td>NaN</td>\n",
       "      <td>NaN</td>\n",
       "      <td>CONTATTI: TEL. UFFICIO 0 CELL. \\n\\nALFA ROMEO ...</td>\n",
       "      <td>a-000083</td>\n",
       "      <td>[4, 5]</td>\n",
       "      <td>Altro</td>\n",
       "      <td>NaN</td>\n",
       "      <td>ALFA ROMEO Giulietta - 2013</td>\n",
       "      <td>NaN</td>\n",
       "      <td>NaN</td>\n",
       "      <td>NaN</td>\n",
       "      <td>NaN</td>\n",
       "      <td>2013.0</td>\n",
       "      <td>7990</td>\n",
       "      <td>190000.0</td>\n",
       "      <td>NaN</td>\n",
       "      <td>2021-08-06T11:44:22Z</td>\n",
       "      <td>OFFLINE</td>\n",
       "      <td>5.0</td>\n",
       "      <td>Diesel</td>\n",
       "      <td>Manuale</td>\n",
       "      <td>6fd5f793854a3ebc54a32ba3cb19a2cbe5e5a84bdf38fd...</td>\n",
       "      <td>a-000313</td>\n",
       "      <td>2021-08-06 11:44:22+00:00</td>\n",
       "      <td>caravaggio</td>\n",
       "      <td>2021-08-06</td>\n",
       "      <td>2021-08-18</td>\n",
       "      <td>28099</td>\n",
       "    </tr>\n",
       "    <tr>\n",
       "      <th>1972</th>\n",
       "      <td>2339</td>\n",
       "      <td>Euro 6d-TEMP</td>\n",
       "      <td>1385.0</td>\n",
       "      <td>International G.c. Motors Cepagatti</td>\n",
       "      <td>2021-08-31T10:48:05Z</td>\n",
       "      <td>NaN</td>\n",
       "      <td>b24</td>\n",
       "      <td>Argento</td>\n",
       "      <td>4.0</td>\n",
       "      <td>6.0</td>\n",
       "      <td>N.B: La dotazione tecnica e gli accessori indi...</td>\n",
       "      <td>b24-6</td>\n",
       "      <td>5</td>\n",
       "      <td>Berlina</td>\n",
       "      <td>88.0</td>\n",
       "      <td>Alfa Romeo Giulietta 1.6 JTDm 120 CV Super</td>\n",
       "      <td>123.0</td>\n",
       "      <td>NaN</td>\n",
       "      <td>4,7 l/100 km (comb.)\\n5,7 l/100 km (urbano)\\n4...</td>\n",
       "      <td>NaN</td>\n",
       "      <td>2016.0</td>\n",
       "      <td>10000</td>\n",
       "      <td>181550.0</td>\n",
       "      <td>1598.0</td>\n",
       "      <td>2021-07-11T06:41:20Z</td>\n",
       "      <td>OFFLINE</td>\n",
       "      <td>5.0</td>\n",
       "      <td>Diesel</td>\n",
       "      <td>Manuale</td>\n",
       "      <td>b984533495b26687f7727e6e8c9d37200fdea5ad7c2362...</td>\n",
       "      <td>b24-1611</td>\n",
       "      <td>2021-07-11 06:41:20+00:00</td>\n",
       "      <td>cepagatti</td>\n",
       "      <td>2021-07-11</td>\n",
       "      <td>2021-08-31</td>\n",
       "      <td>28098</td>\n",
       "    </tr>\n",
       "    <tr>\n",
       "      <th>20375</th>\n",
       "      <td>22783</td>\n",
       "      <td>Euro 5</td>\n",
       "      <td>NaN</td>\n",
       "      <td>Car Center Srl</td>\n",
       "      <td>2021-11-30T18:08:04Z</td>\n",
       "      <td>Azienda</td>\n",
       "      <td>a</td>\n",
       "      <td>NaN</td>\n",
       "      <td>NaN</td>\n",
       "      <td>NaN</td>\n",
       "      <td>Promo Black Friday : Passaggio incluso nel pre...</td>\n",
       "      <td>a-000083</td>\n",
       "      <td>[4, 5]</td>\n",
       "      <td>Berlina</td>\n",
       "      <td>NaN</td>\n",
       "      <td>Alfa romeo giulietta-passaggio incluso nel prezzo</td>\n",
       "      <td>NaN</td>\n",
       "      <td>NaN</td>\n",
       "      <td>NaN</td>\n",
       "      <td>NaN</td>\n",
       "      <td>2012.0</td>\n",
       "      <td>8900</td>\n",
       "      <td>179000.0</td>\n",
       "      <td>NaN</td>\n",
       "      <td>2021-11-22T10:59:03Z</td>\n",
       "      <td>OFFLINE</td>\n",
       "      <td>5.0</td>\n",
       "      <td>Diesel</td>\n",
       "      <td>Manuale</td>\n",
       "      <td>536de9d0c807cf1e43d39e1c29106afcacf40dbf4d6e76...</td>\n",
       "      <td>a-000313</td>\n",
       "      <td>2021-11-22 10:59:03+00:00</td>\n",
       "      <td>avezzano</td>\n",
       "      <td>2021-11-22</td>\n",
       "      <td>2021-11-30</td>\n",
       "      <td>28097</td>\n",
       "    </tr>\n",
       "  </tbody>\n",
       "</table>\n",
       "</div>"
      ],
      "text/plain": [
       "       Unnamed: 0      ecoClass  weight                               seller  \\\n",
       "25567       28433        Euro 5     NaN                 Auto Casertano Group   \n",
       "9083        10768        Euro 5     NaN                    ARIEL BARI S.R.L.   \n",
       "25899       28793        Euro 5     NaN              passione automobili srl   \n",
       "1972         2339  Euro 6d-TEMP  1385.0  International G.c. Motors Cepagatti   \n",
       "20375       22783        Euro 5     NaN                       Car Center Srl   \n",
       "\n",
       "                  updatedAt sellerType source    color  cylinders  gears  \\\n",
       "25567  2022-02-15T18:36:01Z    Azienda      a      NaN        NaN    NaN   \n",
       "9083   2021-08-03T21:26:43Z    Azienda      a      NaN        NaN    NaN   \n",
       "25899  2021-08-18T01:42:38Z    Azienda      a      NaN        NaN    NaN   \n",
       "1972   2021-08-31T10:48:05Z        NaN    b24  Argento        4.0    6.0   \n",
       "20375  2021-11-30T18:08:04Z    Azienda      a      NaN        NaN    NaN   \n",
       "\n",
       "                                             description    makeId   doors  \\\n",
       "25567  Auto in perfetto stato di usura \\n\\n 12 mesi d...  a-000083  [4, 5]   \n",
       "9083   Per maggiori informazioni, accessori e foto su...  a-000083  [4, 5]   \n",
       "25899  CONTATTI: TEL. UFFICIO 0 CELL. \\n\\nALFA ROMEO ...  a-000083  [4, 5]   \n",
       "1972   N.B: La dotazione tecnica e gli accessori indi...     b24-6       5   \n",
       "20375  Promo Black Friday : Passaggio incluso nel pre...  a-000083  [4, 5]   \n",
       "\n",
       "      bodyType    kw                                              title  \\\n",
       "25567  Berlina  77.0  Alfa Romeo Giulietta 1.6 JTDm-2 105 CV Exclusi...   \n",
       "9083   Berlina  77.0          ALFA ROMEO GIULIETTA 1.6 jtdm Distinctive   \n",
       "25899    Altro   NaN                        ALFA ROMEO Giulietta - 2013   \n",
       "1972   Berlina  88.0         Alfa Romeo Giulietta 1.6 JTDm 120 CV Super   \n",
       "20375  Berlina   NaN  Alfa romeo giulietta-passaggio incluso nel prezzo   \n",
       "\n",
       "       co2Emissions                             urn  \\\n",
       "25567           NaN  id:ad:465242610:list:420048591   \n",
       "9083            NaN                             NaN   \n",
       "25899           NaN                             NaN   \n",
       "1972          123.0                             NaN   \n",
       "20375           NaN                             NaN   \n",
       "\n",
       "                                             consumption forNoviceDrivers  \\\n",
       "25567                                                NaN              NaN   \n",
       "9083                                                 NaN              NaN   \n",
       "25899                                                NaN              NaN   \n",
       "1972   4,7 l/100 km (comb.)\\n5,7 l/100 km (urbano)\\n4...              NaN   \n",
       "20375                                                NaN              NaN   \n",
       "\n",
       "         year  price        km  engineSize             createdAt   status  \\\n",
       "25567  2012.0   7500  212612.0      1598.0  2022-01-25T16:16:31Z   ONLINE   \n",
       "9083   2010.0   4500  191744.0      1598.0  2021-08-03T14:22:57Z  OFFLINE   \n",
       "25899  2013.0   7990  190000.0         NaN  2021-08-06T11:44:22Z  OFFLINE   \n",
       "1972   2016.0  10000  181550.0      1598.0  2021-07-11T06:41:20Z  OFFLINE   \n",
       "20375  2012.0   8900  179000.0         NaN  2021-11-22T10:59:03Z  OFFLINE   \n",
       "\n",
       "       seats  supply gearType  \\\n",
       "25567    5.0  Diesel  Manuale   \n",
       "9083     5.0  Diesel  Manuale   \n",
       "25899    5.0  Diesel  Manuale   \n",
       "1972     5.0  Diesel  Manuale   \n",
       "20375    5.0  Diesel  Manuale   \n",
       "\n",
       "                                                  doc_id   modelId  \\\n",
       "25567  6334c8fe422ac20091176a71324d7beb3a19fc9c8c3d94...  a-000313   \n",
       "9083   c167eec311671c7c999fcefc6f8c2b2a909ee364721d18...  a-000313   \n",
       "25899  6fd5f793854a3ebc54a32ba3cb19a2cbe5e5a84bdf38fd...  a-000313   \n",
       "1972   b984533495b26687f7727e6e8c9d37200fdea5ad7c2362...  b24-1611   \n",
       "20375  536de9d0c807cf1e43d39e1c29106afcacf40dbf4d6e76...  a-000313   \n",
       "\n",
       "                      created_dt       citta dataCreazione dataUpdate  idDupli  \n",
       "25567  2022-01-25 16:16:31+00:00   casapulla    2022-01-25 2022-02-15    28101  \n",
       "9083   2021-08-03 14:22:57+00:00        bari    2021-08-03 2021-08-03    28100  \n",
       "25899  2021-08-06 11:44:22+00:00  caravaggio    2021-08-06 2021-08-18    28099  \n",
       "1972   2021-07-11 06:41:20+00:00   cepagatti    2021-07-11 2021-08-31    28098  \n",
       "20375  2021-11-22 10:59:03+00:00    avezzano    2021-11-22 2021-11-30    28097  "
      ]
     },
     "execution_count": 27,
     "metadata": {},
     "output_type": "execute_result"
    }
   ],
   "source": [
    "df = df.sort_values(\"dataUpdate\", ascending=False).drop_duplicates(\n",
    "    \"idDupli\", keep=\"first\"\n",
    ")\n",
    "df.sort_values(\"idDupli\", ascending=False).head()\n"
   ]
  },
  {
   "cell_type": "markdown",
   "metadata": {},
   "source": [
    "### Duplicates: creation date"
   ]
  },
  {
   "cell_type": "code",
   "execution_count": 28,
   "metadata": {},
   "outputs": [],
   "source": [
    "to_group = [\"km\", \"price\", \"year\", \"title\", \"citta\", \"source\"]\n",
    "df_agg = df.groupby(to_group)\n"
   ]
  },
  {
   "cell_type": "code",
   "execution_count": 29,
   "metadata": {},
   "outputs": [
    {
     "data": {
      "text/html": [
       "<div>\n",
       "<style scoped>\n",
       "    .dataframe tbody tr th:only-of-type {\n",
       "        vertical-align: middle;\n",
       "    }\n",
       "\n",
       "    .dataframe tbody tr th {\n",
       "        vertical-align: top;\n",
       "    }\n",
       "\n",
       "    .dataframe thead th {\n",
       "        text-align: right;\n",
       "    }\n",
       "</style>\n",
       "<table border=\"1\" class=\"dataframe\">\n",
       "  <thead>\n",
       "    <tr style=\"text-align: right;\">\n",
       "      <th></th>\n",
       "      <th>Unnamed: 0</th>\n",
       "      <th>ecoClass</th>\n",
       "      <th>weight</th>\n",
       "      <th>seller</th>\n",
       "      <th>updatedAt</th>\n",
       "      <th>sellerType</th>\n",
       "      <th>source</th>\n",
       "      <th>color</th>\n",
       "      <th>cylinders</th>\n",
       "      <th>gears</th>\n",
       "      <th>description</th>\n",
       "      <th>makeId</th>\n",
       "      <th>doors</th>\n",
       "      <th>bodyType</th>\n",
       "      <th>kw</th>\n",
       "      <th>title</th>\n",
       "      <th>co2Emissions</th>\n",
       "      <th>urn</th>\n",
       "      <th>consumption</th>\n",
       "      <th>forNoviceDrivers</th>\n",
       "      <th>year</th>\n",
       "      <th>price</th>\n",
       "      <th>km</th>\n",
       "      <th>engineSize</th>\n",
       "      <th>createdAt</th>\n",
       "      <th>status</th>\n",
       "      <th>seats</th>\n",
       "      <th>supply</th>\n",
       "      <th>gearType</th>\n",
       "      <th>doc_id</th>\n",
       "      <th>modelId</th>\n",
       "      <th>created_dt</th>\n",
       "      <th>citta</th>\n",
       "      <th>dataCreazione</th>\n",
       "      <th>dataUpdate</th>\n",
       "      <th>idDupli</th>\n",
       "    </tr>\n",
       "  </thead>\n",
       "  <tbody>\n",
       "    <tr>\n",
       "      <th>24637</th>\n",
       "      <td>27384</td>\n",
       "      <td>NaN</td>\n",
       "      <td>NaN</td>\n",
       "      <td>GARAGE AMERICA SRL</td>\n",
       "      <td>2021-11-09T23:28:57Z</td>\n",
       "      <td>Azienda</td>\n",
       "      <td>a</td>\n",
       "      <td>NaN</td>\n",
       "      <td>NaN</td>\n",
       "      <td>NaN</td>\n",
       "      <td>Chilometraggio: 99999999\\nCondizioni: usato\\nI...</td>\n",
       "      <td>a-000083</td>\n",
       "      <td>[4, 5]</td>\n",
       "      <td>Berlina</td>\n",
       "      <td>46.0</td>\n",
       "      <td>ALFA ROMEO Giulietta BERLINA</td>\n",
       "      <td>NaN</td>\n",
       "      <td>NaN</td>\n",
       "      <td>NaN</td>\n",
       "      <td>NaN</td>\n",
       "      <td>1970.0</td>\n",
       "      <td>24600</td>\n",
       "      <td>99999999.0</td>\n",
       "      <td>NaN</td>\n",
       "      <td>2021-11-08T01:09:53Z</td>\n",
       "      <td>OFFLINE</td>\n",
       "      <td>NaN</td>\n",
       "      <td>Benzina</td>\n",
       "      <td>Manuale</td>\n",
       "      <td>ae74f5346a59145a0681123893e0a19e56447e4ab1dc80...</td>\n",
       "      <td>a-000313</td>\n",
       "      <td>2021-11-08 01:09:53+00:00</td>\n",
       "      <td>torino</td>\n",
       "      <td>2021-11-08</td>\n",
       "      <td>2021-11-09</td>\n",
       "      <td>29844</td>\n",
       "    </tr>\n",
       "    <tr>\n",
       "      <th>25375</th>\n",
       "      <td>28128</td>\n",
       "      <td>NaN</td>\n",
       "      <td>NaN</td>\n",
       "      <td>GARAGE AMERICA SRL</td>\n",
       "      <td>2022-01-25T10:57:54Z</td>\n",
       "      <td>Azienda</td>\n",
       "      <td>a</td>\n",
       "      <td>NaN</td>\n",
       "      <td>NaN</td>\n",
       "      <td>NaN</td>\n",
       "      <td>Chilometraggio: 99999999\\nCondizioni: usato\\nI...</td>\n",
       "      <td>a-000083</td>\n",
       "      <td>[4, 5]</td>\n",
       "      <td>Berlina</td>\n",
       "      <td>46.0</td>\n",
       "      <td>ALFA ROMEO Giulietta BERLINA</td>\n",
       "      <td>NaN</td>\n",
       "      <td>NaN</td>\n",
       "      <td>NaN</td>\n",
       "      <td>NaN</td>\n",
       "      <td>1970.0</td>\n",
       "      <td>24600</td>\n",
       "      <td>99999999.0</td>\n",
       "      <td>NaN</td>\n",
       "      <td>2022-01-22T16:04:53Z</td>\n",
       "      <td>OFFLINE</td>\n",
       "      <td>NaN</td>\n",
       "      <td>Benzina</td>\n",
       "      <td>Manuale</td>\n",
       "      <td>4c69723fbac14e19993e803778c94e867179881e77d18b...</td>\n",
       "      <td>a-000313</td>\n",
       "      <td>2022-01-22 16:04:53+00:00</td>\n",
       "      <td>torino</td>\n",
       "      <td>2022-01-22</td>\n",
       "      <td>2022-01-25</td>\n",
       "      <td>29844</td>\n",
       "    </tr>\n",
       "    <tr>\n",
       "      <th>17701</th>\n",
       "      <td>19961</td>\n",
       "      <td>NaN</td>\n",
       "      <td>NaN</td>\n",
       "      <td>Giuseppe</td>\n",
       "      <td>2021-08-18T01:43:28Z</td>\n",
       "      <td>Privato</td>\n",
       "      <td>a</td>\n",
       "      <td>NaN</td>\n",
       "      <td>NaN</td>\n",
       "      <td>NaN</td>\n",
       "      <td>Alfa romeo Giulietta 2.0 cv 150 veloce anno 20...</td>\n",
       "      <td>a-000083</td>\n",
       "      <td>NaN</td>\n",
       "      <td>NaN</td>\n",
       "      <td>NaN</td>\n",
       "      <td>Alfa romeo Giulietta 2.0 cv 150 veloce anno 20...</td>\n",
       "      <td>NaN</td>\n",
       "      <td>NaN</td>\n",
       "      <td>NaN</td>\n",
       "      <td>NaN</td>\n",
       "      <td>2014.0</td>\n",
       "      <td>9000</td>\n",
       "      <td>1740000.0</td>\n",
       "      <td>NaN</td>\n",
       "      <td>2021-08-05T13:32:22Z</td>\n",
       "      <td>OFFLINE</td>\n",
       "      <td>NaN</td>\n",
       "      <td>Diesel</td>\n",
       "      <td>NaN</td>\n",
       "      <td>3f17c163202858b0e936d5e79cb9cf965d26939ff262b7...</td>\n",
       "      <td>a-000313</td>\n",
       "      <td>2021-08-05 13:32:22+00:00</td>\n",
       "      <td>catania</td>\n",
       "      <td>2021-08-05</td>\n",
       "      <td>2021-08-18</td>\n",
       "      <td>29843</td>\n",
       "    </tr>\n",
       "    <tr>\n",
       "      <th>9500</th>\n",
       "      <td>11188</td>\n",
       "      <td>NaN</td>\n",
       "      <td>NaN</td>\n",
       "      <td>L_G occasioni auto</td>\n",
       "      <td>2021-12-28T19:10:49Z</td>\n",
       "      <td>Privato</td>\n",
       "      <td>a</td>\n",
       "      <td>NaN</td>\n",
       "      <td>NaN</td>\n",
       "      <td>NaN</td>\n",
       "      <td>Alfa romeo Giulietta 2.0 cv 150 veloce anno 20...</td>\n",
       "      <td>a-000083</td>\n",
       "      <td>NaN</td>\n",
       "      <td>NaN</td>\n",
       "      <td>NaN</td>\n",
       "      <td>Alfa romeo Giulietta 2.0 cv 150 veloce anno 20...</td>\n",
       "      <td>NaN</td>\n",
       "      <td>NaN</td>\n",
       "      <td>NaN</td>\n",
       "      <td>NaN</td>\n",
       "      <td>2014.0</td>\n",
       "      <td>9000</td>\n",
       "      <td>1740000.0</td>\n",
       "      <td>NaN</td>\n",
       "      <td>2021-12-22T10:39:15Z</td>\n",
       "      <td>OFFLINE</td>\n",
       "      <td>NaN</td>\n",
       "      <td>Diesel</td>\n",
       "      <td>NaN</td>\n",
       "      <td>001dc2c0a6aa50e891f639fd45d5515c4b7dade160ee0a...</td>\n",
       "      <td>a-000313</td>\n",
       "      <td>2021-12-22 10:39:15+00:00</td>\n",
       "      <td>catania</td>\n",
       "      <td>2021-12-22</td>\n",
       "      <td>2021-12-28</td>\n",
       "      <td>29843</td>\n",
       "    </tr>\n",
       "    <tr>\n",
       "      <th>813</th>\n",
       "      <td>815</td>\n",
       "      <td>Euro 5</td>\n",
       "      <td>1395.0</td>\n",
       "      <td>Stabia Auto Srl</td>\n",
       "      <td>2022-01-27T10:43:50Z</td>\n",
       "      <td>NaN</td>\n",
       "      <td>b24</td>\n",
       "      <td>Grigio</td>\n",
       "      <td>4.0</td>\n",
       "      <td>6.0</td>\n",
       "      <td>ALFA ROMEO GIULIETTA ANNO 2012 CIL\\n2.0 JTDm-2...</td>\n",
       "      <td>b24-6</td>\n",
       "      <td>5</td>\n",
       "      <td>Berlina</td>\n",
       "      <td>103.0</td>\n",
       "      <td>Alfa Romeo Giulietta 2.0 JTDm-2 140 CV Distinc...</td>\n",
       "      <td>119.0</td>\n",
       "      <td>NaN</td>\n",
       "      <td>4,5 l/100 km (comb.)\\n3,9 l/100 km (urbano)\\n5...</td>\n",
       "      <td>NaN</td>\n",
       "      <td>2012.0</td>\n",
       "      <td>5299</td>\n",
       "      <td>320487.0</td>\n",
       "      <td>1956.0</td>\n",
       "      <td>2022-01-27T10:43:50Z</td>\n",
       "      <td>OFFLINE</td>\n",
       "      <td>5.0</td>\n",
       "      <td>Diesel</td>\n",
       "      <td>Manuale</td>\n",
       "      <td>a3d8f716a4667f95645541f40b0198ba2400e93596b7bc...</td>\n",
       "      <td>b24-1611</td>\n",
       "      <td>2022-01-27 10:43:50+00:00</td>\n",
       "      <td>castellammare di stabia</td>\n",
       "      <td>2022-01-27</td>\n",
       "      <td>2022-01-27</td>\n",
       "      <td>29842</td>\n",
       "    </tr>\n",
       "  </tbody>\n",
       "</table>\n",
       "</div>"
      ],
      "text/plain": [
       "       Unnamed: 0 ecoClass  weight              seller             updatedAt  \\\n",
       "24637       27384      NaN     NaN  GARAGE AMERICA SRL  2021-11-09T23:28:57Z   \n",
       "25375       28128      NaN     NaN  GARAGE AMERICA SRL  2022-01-25T10:57:54Z   \n",
       "17701       19961      NaN     NaN            Giuseppe  2021-08-18T01:43:28Z   \n",
       "9500        11188      NaN     NaN  L_G occasioni auto  2021-12-28T19:10:49Z   \n",
       "813           815   Euro 5  1395.0     Stabia Auto Srl  2022-01-27T10:43:50Z   \n",
       "\n",
       "      sellerType source   color  cylinders  gears  \\\n",
       "24637    Azienda      a     NaN        NaN    NaN   \n",
       "25375    Azienda      a     NaN        NaN    NaN   \n",
       "17701    Privato      a     NaN        NaN    NaN   \n",
       "9500     Privato      a     NaN        NaN    NaN   \n",
       "813          NaN    b24  Grigio        4.0    6.0   \n",
       "\n",
       "                                             description    makeId   doors  \\\n",
       "24637  Chilometraggio: 99999999\\nCondizioni: usato\\nI...  a-000083  [4, 5]   \n",
       "25375  Chilometraggio: 99999999\\nCondizioni: usato\\nI...  a-000083  [4, 5]   \n",
       "17701  Alfa romeo Giulietta 2.0 cv 150 veloce anno 20...  a-000083     NaN   \n",
       "9500   Alfa romeo Giulietta 2.0 cv 150 veloce anno 20...  a-000083     NaN   \n",
       "813    ALFA ROMEO GIULIETTA ANNO 2012 CIL\\n2.0 JTDm-2...     b24-6       5   \n",
       "\n",
       "      bodyType     kw                                              title  \\\n",
       "24637  Berlina   46.0                       ALFA ROMEO Giulietta BERLINA   \n",
       "25375  Berlina   46.0                       ALFA ROMEO Giulietta BERLINA   \n",
       "17701      NaN    NaN  Alfa romeo Giulietta 2.0 cv 150 veloce anno 20...   \n",
       "9500       NaN    NaN  Alfa romeo Giulietta 2.0 cv 150 veloce anno 20...   \n",
       "813    Berlina  103.0  Alfa Romeo Giulietta 2.0 JTDm-2 140 CV Distinc...   \n",
       "\n",
       "       co2Emissions  urn                                        consumption  \\\n",
       "24637           NaN  NaN                                                NaN   \n",
       "25375           NaN  NaN                                                NaN   \n",
       "17701           NaN  NaN                                                NaN   \n",
       "9500            NaN  NaN                                                NaN   \n",
       "813           119.0  NaN  4,5 l/100 km (comb.)\\n3,9 l/100 km (urbano)\\n5...   \n",
       "\n",
       "      forNoviceDrivers    year  price          km  engineSize  \\\n",
       "24637              NaN  1970.0  24600  99999999.0         NaN   \n",
       "25375              NaN  1970.0  24600  99999999.0         NaN   \n",
       "17701              NaN  2014.0   9000   1740000.0         NaN   \n",
       "9500               NaN  2014.0   9000   1740000.0         NaN   \n",
       "813                NaN  2012.0   5299    320487.0      1956.0   \n",
       "\n",
       "                  createdAt   status  seats   supply gearType  \\\n",
       "24637  2021-11-08T01:09:53Z  OFFLINE    NaN  Benzina  Manuale   \n",
       "25375  2022-01-22T16:04:53Z  OFFLINE    NaN  Benzina  Manuale   \n",
       "17701  2021-08-05T13:32:22Z  OFFLINE    NaN   Diesel      NaN   \n",
       "9500   2021-12-22T10:39:15Z  OFFLINE    NaN   Diesel      NaN   \n",
       "813    2022-01-27T10:43:50Z  OFFLINE    5.0   Diesel  Manuale   \n",
       "\n",
       "                                                  doc_id   modelId  \\\n",
       "24637  ae74f5346a59145a0681123893e0a19e56447e4ab1dc80...  a-000313   \n",
       "25375  4c69723fbac14e19993e803778c94e867179881e77d18b...  a-000313   \n",
       "17701  3f17c163202858b0e936d5e79cb9cf965d26939ff262b7...  a-000313   \n",
       "9500   001dc2c0a6aa50e891f639fd45d5515c4b7dade160ee0a...  a-000313   \n",
       "813    a3d8f716a4667f95645541f40b0198ba2400e93596b7bc...  b24-1611   \n",
       "\n",
       "                      created_dt                    citta dataCreazione  \\\n",
       "24637  2021-11-08 01:09:53+00:00                   torino    2021-11-08   \n",
       "25375  2022-01-22 16:04:53+00:00                   torino    2022-01-22   \n",
       "17701  2021-08-05 13:32:22+00:00                  catania    2021-08-05   \n",
       "9500   2021-12-22 10:39:15+00:00                  catania    2021-12-22   \n",
       "813    2022-01-27 10:43:50+00:00  castellammare di stabia    2022-01-27   \n",
       "\n",
       "      dataUpdate  idDupli  \n",
       "24637 2021-11-09    29844  \n",
       "25375 2022-01-25    29844  \n",
       "17701 2021-08-18    29843  \n",
       "9500  2021-12-28    29843  \n",
       "813   2022-01-27    29842  "
      ]
     },
     "execution_count": 29,
     "metadata": {},
     "output_type": "execute_result"
    }
   ],
   "source": [
    "df[\"idDupli\"] = df.index.copy()\n",
    "dupliId = np.max(df[\"idDupli\"]) + 1\n",
    "\n",
    "for name, single_group in df_agg:\n",
    "    if single_group[\"dataCreazione\"].nunique() > 1:\n",
    "        df.loc[single_group.index, \"idDupli\"] = dupliId\n",
    "        dupliId += 1\n",
    "\n",
    "df.sort_values(\"idDupli\", ascending=False).head()\n"
   ]
  },
  {
   "cell_type": "code",
   "execution_count": 30,
   "metadata": {},
   "outputs": [
    {
     "data": {
      "text/html": [
       "<div>\n",
       "<style scoped>\n",
       "    .dataframe tbody tr th:only-of-type {\n",
       "        vertical-align: middle;\n",
       "    }\n",
       "\n",
       "    .dataframe tbody tr th {\n",
       "        vertical-align: top;\n",
       "    }\n",
       "\n",
       "    .dataframe thead th {\n",
       "        text-align: right;\n",
       "    }\n",
       "</style>\n",
       "<table border=\"1\" class=\"dataframe\">\n",
       "  <thead>\n",
       "    <tr style=\"text-align: right;\">\n",
       "      <th></th>\n",
       "      <th>Unnamed: 0</th>\n",
       "      <th>ecoClass</th>\n",
       "      <th>weight</th>\n",
       "      <th>seller</th>\n",
       "      <th>updatedAt</th>\n",
       "      <th>sellerType</th>\n",
       "      <th>source</th>\n",
       "      <th>color</th>\n",
       "      <th>cylinders</th>\n",
       "      <th>gears</th>\n",
       "      <th>description</th>\n",
       "      <th>makeId</th>\n",
       "      <th>doors</th>\n",
       "      <th>bodyType</th>\n",
       "      <th>kw</th>\n",
       "      <th>title</th>\n",
       "      <th>co2Emissions</th>\n",
       "      <th>urn</th>\n",
       "      <th>consumption</th>\n",
       "      <th>forNoviceDrivers</th>\n",
       "      <th>year</th>\n",
       "      <th>price</th>\n",
       "      <th>km</th>\n",
       "      <th>engineSize</th>\n",
       "      <th>createdAt</th>\n",
       "      <th>status</th>\n",
       "      <th>seats</th>\n",
       "      <th>supply</th>\n",
       "      <th>gearType</th>\n",
       "      <th>doc_id</th>\n",
       "      <th>modelId</th>\n",
       "      <th>created_dt</th>\n",
       "      <th>citta</th>\n",
       "      <th>dataCreazione</th>\n",
       "      <th>dataUpdate</th>\n",
       "      <th>idDupli</th>\n",
       "    </tr>\n",
       "  </thead>\n",
       "  <tbody>\n",
       "    <tr>\n",
       "      <th>25375</th>\n",
       "      <td>28128</td>\n",
       "      <td>NaN</td>\n",
       "      <td>NaN</td>\n",
       "      <td>GARAGE AMERICA SRL</td>\n",
       "      <td>2022-01-25T10:57:54Z</td>\n",
       "      <td>Azienda</td>\n",
       "      <td>a</td>\n",
       "      <td>NaN</td>\n",
       "      <td>NaN</td>\n",
       "      <td>NaN</td>\n",
       "      <td>Chilometraggio: 99999999\\nCondizioni: usato\\nI...</td>\n",
       "      <td>a-000083</td>\n",
       "      <td>[4, 5]</td>\n",
       "      <td>Berlina</td>\n",
       "      <td>46.0</td>\n",
       "      <td>ALFA ROMEO Giulietta BERLINA</td>\n",
       "      <td>NaN</td>\n",
       "      <td>NaN</td>\n",
       "      <td>NaN</td>\n",
       "      <td>NaN</td>\n",
       "      <td>1970.0</td>\n",
       "      <td>24600</td>\n",
       "      <td>99999999.0</td>\n",
       "      <td>NaN</td>\n",
       "      <td>2022-01-22T16:04:53Z</td>\n",
       "      <td>OFFLINE</td>\n",
       "      <td>NaN</td>\n",
       "      <td>Benzina</td>\n",
       "      <td>Manuale</td>\n",
       "      <td>4c69723fbac14e19993e803778c94e867179881e77d18b...</td>\n",
       "      <td>a-000313</td>\n",
       "      <td>2022-01-22 16:04:53+00:00</td>\n",
       "      <td>torino</td>\n",
       "      <td>2022-01-22</td>\n",
       "      <td>2022-01-25</td>\n",
       "      <td>29844</td>\n",
       "    </tr>\n",
       "    <tr>\n",
       "      <th>9500</th>\n",
       "      <td>11188</td>\n",
       "      <td>NaN</td>\n",
       "      <td>NaN</td>\n",
       "      <td>L_G occasioni auto</td>\n",
       "      <td>2021-12-28T19:10:49Z</td>\n",
       "      <td>Privato</td>\n",
       "      <td>a</td>\n",
       "      <td>NaN</td>\n",
       "      <td>NaN</td>\n",
       "      <td>NaN</td>\n",
       "      <td>Alfa romeo Giulietta 2.0 cv 150 veloce anno 20...</td>\n",
       "      <td>a-000083</td>\n",
       "      <td>NaN</td>\n",
       "      <td>NaN</td>\n",
       "      <td>NaN</td>\n",
       "      <td>Alfa romeo Giulietta 2.0 cv 150 veloce anno 20...</td>\n",
       "      <td>NaN</td>\n",
       "      <td>NaN</td>\n",
       "      <td>NaN</td>\n",
       "      <td>NaN</td>\n",
       "      <td>2014.0</td>\n",
       "      <td>9000</td>\n",
       "      <td>1740000.0</td>\n",
       "      <td>NaN</td>\n",
       "      <td>2021-12-22T10:39:15Z</td>\n",
       "      <td>OFFLINE</td>\n",
       "      <td>NaN</td>\n",
       "      <td>Diesel</td>\n",
       "      <td>NaN</td>\n",
       "      <td>001dc2c0a6aa50e891f639fd45d5515c4b7dade160ee0a...</td>\n",
       "      <td>a-000313</td>\n",
       "      <td>2021-12-22 10:39:15+00:00</td>\n",
       "      <td>catania</td>\n",
       "      <td>2021-12-22</td>\n",
       "      <td>2021-12-28</td>\n",
       "      <td>29843</td>\n",
       "    </tr>\n",
       "    <tr>\n",
       "      <th>813</th>\n",
       "      <td>815</td>\n",
       "      <td>Euro 5</td>\n",
       "      <td>1395.0</td>\n",
       "      <td>Stabia Auto Srl</td>\n",
       "      <td>2022-01-27T10:43:50Z</td>\n",
       "      <td>NaN</td>\n",
       "      <td>b24</td>\n",
       "      <td>Grigio</td>\n",
       "      <td>4.0</td>\n",
       "      <td>6.0</td>\n",
       "      <td>ALFA ROMEO GIULIETTA ANNO 2012 CIL\\n2.0 JTDm-2...</td>\n",
       "      <td>b24-6</td>\n",
       "      <td>5</td>\n",
       "      <td>Berlina</td>\n",
       "      <td>103.0</td>\n",
       "      <td>Alfa Romeo Giulietta 2.0 JTDm-2 140 CV Distinc...</td>\n",
       "      <td>119.0</td>\n",
       "      <td>NaN</td>\n",
       "      <td>4,5 l/100 km (comb.)\\n3,9 l/100 km (urbano)\\n5...</td>\n",
       "      <td>NaN</td>\n",
       "      <td>2012.0</td>\n",
       "      <td>5299</td>\n",
       "      <td>320487.0</td>\n",
       "      <td>1956.0</td>\n",
       "      <td>2022-01-27T10:43:50Z</td>\n",
       "      <td>OFFLINE</td>\n",
       "      <td>5.0</td>\n",
       "      <td>Diesel</td>\n",
       "      <td>Manuale</td>\n",
       "      <td>a3d8f716a4667f95645541f40b0198ba2400e93596b7bc...</td>\n",
       "      <td>b24-1611</td>\n",
       "      <td>2022-01-27 10:43:50+00:00</td>\n",
       "      <td>castellammare di stabia</td>\n",
       "      <td>2022-01-27</td>\n",
       "      <td>2022-01-27</td>\n",
       "      <td>29842</td>\n",
       "    </tr>\n",
       "    <tr>\n",
       "      <th>12286</th>\n",
       "      <td>14120</td>\n",
       "      <td>Euro 5</td>\n",
       "      <td>NaN</td>\n",
       "      <td>AUTOSTILE MARINO</td>\n",
       "      <td>2022-01-25T11:01:38Z</td>\n",
       "      <td>Azienda</td>\n",
       "      <td>a</td>\n",
       "      <td>NaN</td>\n",
       "      <td>NaN</td>\n",
       "      <td>NaN</td>\n",
       "      <td>AUTOSTILE MARINO SRLS DAL 1989 PROPONE \\n \\n \\...</td>\n",
       "      <td>a-000083</td>\n",
       "      <td>[4, 5]</td>\n",
       "      <td>Berlina</td>\n",
       "      <td>NaN</td>\n",
       "      <td>Alfa romeo giulietta 2.0 170 cv interni rossi-...</td>\n",
       "      <td>NaN</td>\n",
       "      <td>NaN</td>\n",
       "      <td>NaN</td>\n",
       "      <td>NaN</td>\n",
       "      <td>2013.0</td>\n",
       "      <td>6499</td>\n",
       "      <td>300000.0</td>\n",
       "      <td>NaN</td>\n",
       "      <td>2022-01-18T14:34:54Z</td>\n",
       "      <td>OFFLINE</td>\n",
       "      <td>5.0</td>\n",
       "      <td>Diesel</td>\n",
       "      <td>Manuale</td>\n",
       "      <td>7bc11f177864f4f52f08209aa331b198c050731ebb418f...</td>\n",
       "      <td>a-000313</td>\n",
       "      <td>2022-01-18 14:34:54+00:00</td>\n",
       "      <td>cerignola</td>\n",
       "      <td>2022-01-18</td>\n",
       "      <td>2022-01-25</td>\n",
       "      <td>29841</td>\n",
       "    </tr>\n",
       "    <tr>\n",
       "      <th>3607</th>\n",
       "      <td>4302</td>\n",
       "      <td>NaN</td>\n",
       "      <td>1385.0</td>\n",
       "      <td>NaN</td>\n",
       "      <td>2022-03-16T08:58:46Z</td>\n",
       "      <td>NaN</td>\n",
       "      <td>b24</td>\n",
       "      <td>Bianco</td>\n",
       "      <td>4.0</td>\n",
       "      <td>6.0</td>\n",
       "      <td>NaN</td>\n",
       "      <td>b24-6</td>\n",
       "      <td>5</td>\n",
       "      <td>Berlina</td>\n",
       "      <td>77.0</td>\n",
       "      <td>Alfa Romeo Giulietta Giulietta 1.6 jtdm(2) Giu...</td>\n",
       "      <td>114.0</td>\n",
       "      <td>NaN</td>\n",
       "      <td>4,4 l/100 km (comb.)\\n5,5 l/100 km (urbano)\\n3...</td>\n",
       "      <td>NaN</td>\n",
       "      <td>2011.0</td>\n",
       "      <td>5000</td>\n",
       "      <td>300000.0</td>\n",
       "      <td>1598.0</td>\n",
       "      <td>2022-01-27T10:40:52Z</td>\n",
       "      <td>ONLINE</td>\n",
       "      <td>5.0</td>\n",
       "      <td>Diesel</td>\n",
       "      <td>Manuale</td>\n",
       "      <td>9a03c7f23f9db8acc5e1146c9a1f5b7807a34a3704b489...</td>\n",
       "      <td>b24-1611</td>\n",
       "      <td>2022-01-27 10:40:52+00:00</td>\n",
       "      <td>conversano</td>\n",
       "      <td>2022-01-27</td>\n",
       "      <td>2022-03-16</td>\n",
       "      <td>29840</td>\n",
       "    </tr>\n",
       "  </tbody>\n",
       "</table>\n",
       "</div>"
      ],
      "text/plain": [
       "       Unnamed: 0 ecoClass  weight              seller             updatedAt  \\\n",
       "25375       28128      NaN     NaN  GARAGE AMERICA SRL  2022-01-25T10:57:54Z   \n",
       "9500        11188      NaN     NaN  L_G occasioni auto  2021-12-28T19:10:49Z   \n",
       "813           815   Euro 5  1395.0     Stabia Auto Srl  2022-01-27T10:43:50Z   \n",
       "12286       14120   Euro 5     NaN    AUTOSTILE MARINO  2022-01-25T11:01:38Z   \n",
       "3607         4302      NaN  1385.0                 NaN  2022-03-16T08:58:46Z   \n",
       "\n",
       "      sellerType source   color  cylinders  gears  \\\n",
       "25375    Azienda      a     NaN        NaN    NaN   \n",
       "9500     Privato      a     NaN        NaN    NaN   \n",
       "813          NaN    b24  Grigio        4.0    6.0   \n",
       "12286    Azienda      a     NaN        NaN    NaN   \n",
       "3607         NaN    b24  Bianco        4.0    6.0   \n",
       "\n",
       "                                             description    makeId   doors  \\\n",
       "25375  Chilometraggio: 99999999\\nCondizioni: usato\\nI...  a-000083  [4, 5]   \n",
       "9500   Alfa romeo Giulietta 2.0 cv 150 veloce anno 20...  a-000083     NaN   \n",
       "813    ALFA ROMEO GIULIETTA ANNO 2012 CIL\\n2.0 JTDm-2...     b24-6       5   \n",
       "12286  AUTOSTILE MARINO SRLS DAL 1989 PROPONE \\n \\n \\...  a-000083  [4, 5]   \n",
       "3607                                                 NaN     b24-6       5   \n",
       "\n",
       "      bodyType     kw                                              title  \\\n",
       "25375  Berlina   46.0                       ALFA ROMEO Giulietta BERLINA   \n",
       "9500       NaN    NaN  Alfa romeo Giulietta 2.0 cv 150 veloce anno 20...   \n",
       "813    Berlina  103.0  Alfa Romeo Giulietta 2.0 JTDm-2 140 CV Distinc...   \n",
       "12286  Berlina    NaN  Alfa romeo giulietta 2.0 170 cv interni rossi-...   \n",
       "3607   Berlina   77.0  Alfa Romeo Giulietta Giulietta 1.6 jtdm(2) Giu...   \n",
       "\n",
       "       co2Emissions  urn                                        consumption  \\\n",
       "25375           NaN  NaN                                                NaN   \n",
       "9500            NaN  NaN                                                NaN   \n",
       "813           119.0  NaN  4,5 l/100 km (comb.)\\n3,9 l/100 km (urbano)\\n5...   \n",
       "12286           NaN  NaN                                                NaN   \n",
       "3607          114.0  NaN  4,4 l/100 km (comb.)\\n5,5 l/100 km (urbano)\\n3...   \n",
       "\n",
       "      forNoviceDrivers    year  price          km  engineSize  \\\n",
       "25375              NaN  1970.0  24600  99999999.0         NaN   \n",
       "9500               NaN  2014.0   9000   1740000.0         NaN   \n",
       "813                NaN  2012.0   5299    320487.0      1956.0   \n",
       "12286              NaN  2013.0   6499    300000.0         NaN   \n",
       "3607               NaN  2011.0   5000    300000.0      1598.0   \n",
       "\n",
       "                  createdAt   status  seats   supply gearType  \\\n",
       "25375  2022-01-22T16:04:53Z  OFFLINE    NaN  Benzina  Manuale   \n",
       "9500   2021-12-22T10:39:15Z  OFFLINE    NaN   Diesel      NaN   \n",
       "813    2022-01-27T10:43:50Z  OFFLINE    5.0   Diesel  Manuale   \n",
       "12286  2022-01-18T14:34:54Z  OFFLINE    5.0   Diesel  Manuale   \n",
       "3607   2022-01-27T10:40:52Z   ONLINE    5.0   Diesel  Manuale   \n",
       "\n",
       "                                                  doc_id   modelId  \\\n",
       "25375  4c69723fbac14e19993e803778c94e867179881e77d18b...  a-000313   \n",
       "9500   001dc2c0a6aa50e891f639fd45d5515c4b7dade160ee0a...  a-000313   \n",
       "813    a3d8f716a4667f95645541f40b0198ba2400e93596b7bc...  b24-1611   \n",
       "12286  7bc11f177864f4f52f08209aa331b198c050731ebb418f...  a-000313   \n",
       "3607   9a03c7f23f9db8acc5e1146c9a1f5b7807a34a3704b489...  b24-1611   \n",
       "\n",
       "                      created_dt                    citta dataCreazione  \\\n",
       "25375  2022-01-22 16:04:53+00:00                   torino    2022-01-22   \n",
       "9500   2021-12-22 10:39:15+00:00                  catania    2021-12-22   \n",
       "813    2022-01-27 10:43:50+00:00  castellammare di stabia    2022-01-27   \n",
       "12286  2022-01-18 14:34:54+00:00                cerignola    2022-01-18   \n",
       "3607   2022-01-27 10:40:52+00:00               conversano    2022-01-27   \n",
       "\n",
       "      dataUpdate  idDupli  \n",
       "25375 2022-01-25    29844  \n",
       "9500  2021-12-28    29843  \n",
       "813   2022-01-27    29842  \n",
       "12286 2022-01-25    29841  \n",
       "3607  2022-03-16    29840  "
      ]
     },
     "execution_count": 30,
     "metadata": {},
     "output_type": "execute_result"
    }
   ],
   "source": [
    "df = df.sort_values(\"dataUpdate\", ascending=False).drop_duplicates(\n",
    "    \"idDupli\", keep=\"first\"\n",
    ")\n",
    "df.sort_values(\"idDupli\", ascending=False).head()\n"
   ]
  },
  {
   "cell_type": "code",
   "execution_count": 31,
   "metadata": {},
   "outputs": [
    {
     "name": "stdout",
     "output_type": "stream",
     "text": [
      "Rows left: 24034\n"
     ]
    }
   ],
   "source": [
    "print(\"Rows left:\", len(df))\n"
   ]
  },
  {
   "cell_type": "markdown",
   "metadata": {},
   "source": [
    "### Check point"
   ]
  },
  {
   "cell_type": "code",
   "execution_count": 32,
   "metadata": {},
   "outputs": [],
   "source": [
    "os.makedirs(\"../Dataframes\", exist_ok=True)\n",
    "df.to_csv(\"../Dataframes/df_no_dupli.csv\", index=False)\n"
   ]
  },
  {
   "cell_type": "code",
   "execution_count": 33,
   "metadata": {},
   "outputs": [],
   "source": [
    "# df = pd.read_csv(\"../Dataframes/df_no_dupli.csv\")\n"
   ]
  },
  {
   "cell_type": "markdown",
   "metadata": {},
   "source": [
    "## Cleaning and transforming data"
   ]
  },
  {
   "cell_type": "markdown",
   "metadata": {},
   "source": [
    "### Source, makeId, modelId"
   ]
  },
  {
   "cell_type": "code",
   "execution_count": 34,
   "metadata": {},
   "outputs": [
    {
     "name": "stdout",
     "output_type": "stream",
     "text": [
      "['b24-6' 'a-000083']\n",
      "['b24-1611' 'a-000313']\n",
      "['b24' 'a']\n"
     ]
    }
   ],
   "source": [
    "print(df.makeId.unique())\n",
    "print(df.modelId.unique())\n",
    "print(df.source.unique())\n"
   ]
  },
  {
   "cell_type": "code",
   "execution_count": 35,
   "metadata": {},
   "outputs": [
    {
     "data": {
      "image/png": "[encoded data removed]",
      "text/plain": [
       "<Figure size 1440x720 with 2 Axes>"
      ]
     },
     "metadata": {
      "needs_background": "light"
     },
     "output_type": "display_data"
    },
    {
     "data": {
      "text/plain": [
       "{'corr':            makeId   modelId    source\n",
       " makeId   1.000000  0.999898  0.999898\n",
       " modelId  0.999898  1.000000  0.999898\n",
       " source   0.999898  0.999898  1.000000,\n",
       " 'ax': <AxesSubplot:>}"
      ]
     },
     "execution_count": 35,
     "metadata": {},
     "output_type": "execute_result"
    }
   ],
   "source": [
    "df_step = df[[\"makeId\", \"modelId\", \"source\"]]\n",
    "nominal.associations(df_step, figsize=(20, 10))\n"
   ]
  },
  {
   "cell_type": "code",
   "execution_count": 36,
   "metadata": {},
   "outputs": [],
   "source": [
    "to_drop = [\n",
    "    \"makeId\",\n",
    "    \"modelId\",\n",
    "]\n"
   ]
  },
  {
   "cell_type": "code",
   "execution_count": 37,
   "metadata": {},
   "outputs": [
    {
     "data": {
      "image/png": "[encoded data removed]",
      "text/plain": [
       "<Figure size 1440x720 with 2 Axes>"
      ]
     },
     "metadata": {
      "needs_background": "light"
     },
     "output_type": "display_data"
    },
    {
     "data": {
      "text/plain": [
       "{'corr':           source     price\n",
       " source  1.000000  0.103918\n",
       " price   0.103918  1.000000,\n",
       " 'ax': <AxesSubplot:>}"
      ]
     },
     "execution_count": 37,
     "metadata": {},
     "output_type": "execute_result"
    }
   ],
   "source": [
    "df_step = df[[\"source\", \"price\"]]\n",
    "nominal.associations(df_step, figsize=(20, 10))\n"
   ]
  },
  {
   "cell_type": "code",
   "execution_count": 38,
   "metadata": {},
   "outputs": [],
   "source": [
    "# Weak relation\n",
    "to_drop.append(\"source\")\n"
   ]
  },
  {
   "cell_type": "markdown",
   "metadata": {},
   "source": [
    "### URN"
   ]
  },
  {
   "cell_type": "code",
   "execution_count": 39,
   "metadata": {},
   "outputs": [
    {
     "data": {
      "text/plain": [
       "array(['id:ad:456347486:list:411682484', 'id:ad:446139206:list:402055704',\n",
       "       'id:ad:453716498:list:409229341', ...,\n",
       "       'id:ad:460657025:list:415720555', 'id:ad:464182483:list:419045677',\n",
       "       'id:ad:463227571:list:418146724'], dtype=object)"
      ]
     },
     "execution_count": 39,
     "metadata": {},
     "output_type": "execute_result"
    }
   ],
   "source": [
    "mask = df[\"urn\"].isnull()\n",
    "df.loc[~mask][\"urn\"].unique()\n"
   ]
  },
  {
   "cell_type": "code",
   "execution_count": 40,
   "metadata": {},
   "outputs": [
    {
     "data": {
      "text/html": [
       "<div>\n",
       "<style scoped>\n",
       "    .dataframe tbody tr th:only-of-type {\n",
       "        vertical-align: middle;\n",
       "    }\n",
       "\n",
       "    .dataframe tbody tr th {\n",
       "        vertical-align: top;\n",
       "    }\n",
       "\n",
       "    .dataframe thead th {\n",
       "        text-align: right;\n",
       "    }\n",
       "</style>\n",
       "<table border=\"1\" class=\"dataframe\">\n",
       "  <thead>\n",
       "    <tr style=\"text-align: right;\">\n",
       "      <th></th>\n",
       "      <th>urn</th>\n",
       "      <th>ad</th>\n",
       "      <th>list</th>\n",
       "    </tr>\n",
       "  </thead>\n",
       "  <tbody>\n",
       "    <tr>\n",
       "      <th>16533</th>\n",
       "      <td>id:ad:456347486:list:411682484</td>\n",
       "      <td>456347486</td>\n",
       "      <td>411682484</td>\n",
       "    </tr>\n",
       "    <tr>\n",
       "      <th>25523</th>\n",
       "      <td>id:ad:446139206:list:402055704</td>\n",
       "      <td>446139206</td>\n",
       "      <td>402055704</td>\n",
       "    </tr>\n",
       "    <tr>\n",
       "      <th>25522</th>\n",
       "      <td>id:ad:453716498:list:409229341</td>\n",
       "      <td>453716498</td>\n",
       "      <td>409229341</td>\n",
       "    </tr>\n",
       "    <tr>\n",
       "      <th>25521</th>\n",
       "      <td>id:ad:453772671:list:409283471</td>\n",
       "      <td>453772671</td>\n",
       "      <td>409283471</td>\n",
       "    </tr>\n",
       "    <tr>\n",
       "      <th>18923</th>\n",
       "      <td>id:ad:457942312:list:413157473</td>\n",
       "      <td>457942312</td>\n",
       "      <td>413157473</td>\n",
       "    </tr>\n",
       "    <tr>\n",
       "      <th>...</th>\n",
       "      <td>...</td>\n",
       "      <td>...</td>\n",
       "      <td>...</td>\n",
       "    </tr>\n",
       "    <tr>\n",
       "      <th>18861</th>\n",
       "      <td>id:ad:460657025:list:415720555</td>\n",
       "      <td>460657025</td>\n",
       "      <td>415720555</td>\n",
       "    </tr>\n",
       "    <tr>\n",
       "      <th>18858</th>\n",
       "      <td>id:ad:465498450:list:420304601</td>\n",
       "      <td>465498450</td>\n",
       "      <td>420304601</td>\n",
       "    </tr>\n",
       "    <tr>\n",
       "      <th>18859</th>\n",
       "      <td>id:ad:464182483:list:419045677</td>\n",
       "      <td>464182483</td>\n",
       "      <td>419045677</td>\n",
       "    </tr>\n",
       "    <tr>\n",
       "      <th>18856</th>\n",
       "      <td>id:ad:462382349:list:417351006</td>\n",
       "      <td>462382349</td>\n",
       "      <td>417351006</td>\n",
       "    </tr>\n",
       "    <tr>\n",
       "      <th>27446</th>\n",
       "      <td>id:ad:463227571:list:418146724</td>\n",
       "      <td>463227571</td>\n",
       "      <td>418146724</td>\n",
       "    </tr>\n",
       "  </tbody>\n",
       "</table>\n",
       "<p>1648 rows × 3 columns</p>\n",
       "</div>"
      ],
      "text/plain": [
       "                                  urn         ad       list\n",
       "16533  id:ad:456347486:list:411682484  456347486  411682484\n",
       "25523  id:ad:446139206:list:402055704  446139206  402055704\n",
       "25522  id:ad:453716498:list:409229341  453716498  409229341\n",
       "25521  id:ad:453772671:list:409283471  453772671  409283471\n",
       "18923  id:ad:457942312:list:413157473  457942312  413157473\n",
       "...                               ...        ...        ...\n",
       "18861  id:ad:460657025:list:415720555  460657025  415720555\n",
       "18858  id:ad:465498450:list:420304601  465498450  420304601\n",
       "18859  id:ad:464182483:list:419045677  464182483  419045677\n",
       "18856  id:ad:462382349:list:417351006  462382349  417351006\n",
       "27446  id:ad:463227571:list:418146724  463227571  418146724\n",
       "\n",
       "[1648 rows x 3 columns]"
      ]
     },
     "execution_count": 40,
     "metadata": {},
     "output_type": "execute_result"
    }
   ],
   "source": [
    "# Let's try to split URN and search for relations\n",
    "import numpy as np\n",
    "\n",
    "\n",
    "def getAdListColumn(row):\n",
    "    if not pd.isnull(row[\"urn\"]):\n",
    "        complete = str(row[\"urn\"])\n",
    "        ad = complete.split(\":\")[2]\n",
    "        list = complete.split(\":\")[4]\n",
    "        row[\"ad\"] = ad\n",
    "        row[\"list\"] = list\n",
    "    else:\n",
    "        row[\"ad\"] = np.nan\n",
    "        row[\"list\"] = np.nan\n",
    "    return row\n",
    "\n",
    "\n",
    "df = df.apply(getAdListColumn, axis=1)\n",
    "mask = df[\"urn\"].isnull()\n",
    "df.loc[~mask][[\"urn\", \"ad\", \"list\"]]\n"
   ]
  },
  {
   "cell_type": "code",
   "execution_count": 41,
   "metadata": {},
   "outputs": [
    {
     "name": "stdout",
     "output_type": "stream",
     "text": [
      "1572\n",
      "1572\n",
      "1572\n"
     ]
    }
   ],
   "source": [
    "print(len(df[\"urn\"].unique()))\n",
    "print(len(df[\"ad\"].unique()))\n",
    "print(len(df[\"list\"].unique()))\n"
   ]
  },
  {
   "cell_type": "code",
   "execution_count": 42,
   "metadata": {},
   "outputs": [],
   "source": [
    "# No interesting info\n",
    "\n",
    "adList = df[\"ad\"].tolist()\n",
    "listList = df[\"list\"].tolist()\n",
    "\n",
    "for list in listList:\n",
    "    if list in adList:\n",
    "        print(list)\n",
    "\n",
    "for ad in adList:\n",
    "    if ad in listList:\n",
    "        print(ad)\n"
   ]
  },
  {
   "cell_type": "code",
   "execution_count": 43,
   "metadata": {},
   "outputs": [
    {
     "name": "stdout",
     "output_type": "stream",
     "text": [
      "[(27818, 2), (27831, 2), (27836, 2), (27814, 2), (27793, 2), (27849, 2), (27850, 2), (27791, 2), (27824, 2), (27835, 2), (27830, 2), (27851, 2), (27853, 2), (27827, 2), (27810, 2), (27819, 2), (27796, 2), (27803, 2), (27837, 2), (27844, 2), (27828, 2), (27816, 2), (27807, 2), (27809, 2), (27834, 2), (27859, 2), (27794, 2), (27806, 2), (27852, 2), (27795, 2), (27858, 2), (27825, 2), (27841, 2), (27805, 2), (27820, 2), (27832, 2), (27815, 2), (27822, 2), (27801, 2), (27808, 2), (27812, 2), (27817, 2), (27847, 2), (27840, 2), (27838, 2), (27848, 2), (27821, 2), (27799, 2), (27843, 2), (27854, 2), (27811, 2), (27792, 2), (27798, 2), (27856, 2), (27833, 2), (27845, 2), (27829, 2), (27846, 2), (27813, 2), (27823, 2), (27800, 2), (27839, 3), (27857, 3), (27855, 3), (27842, 3), (27826, 3), (27802, 3), (27797, 3), (27804, 3)]\n"
     ]
    }
   ],
   "source": [
    "# Still, ads with same urn seem to be duplicates\n",
    "df_agg = df.groupby(\"urn\")\n",
    "\n",
    "df[\"idDupli\"] = df.index.copy()\n",
    "dupliId = np.max(df[\"idDupli\"]) + 1\n",
    "\n",
    "for name, single_group in df_agg:\n",
    "    if len(single_group) > 1:\n",
    "        df.loc[single_group.index, \"idDupli\"] = dupliId\n",
    "        dupliId += 1\n",
    "\n",
    "\n",
    "elencoDupli = []\n",
    "for id in df[\"idDupli\"].unique():\n",
    "    if len(df[df[\"idDupli\"] == id]) > 1:\n",
    "        elencoDupli.append(tuple((id, len(df[df[\"idDupli\"] == id]))))\n",
    "\n",
    "elencoDupli.sort(key=lambda x: x[1])\n",
    "print(elencoDupli)\n"
   ]
  },
  {
   "cell_type": "code",
   "execution_count": 44,
   "metadata": {},
   "outputs": [
    {
     "data": {
      "text/html": [
       "<div>\n",
       "<style scoped>\n",
       "    .dataframe tbody tr th:only-of-type {\n",
       "        vertical-align: middle;\n",
       "    }\n",
       "\n",
       "    .dataframe tbody tr th {\n",
       "        vertical-align: top;\n",
       "    }\n",
       "\n",
       "    .dataframe thead th {\n",
       "        text-align: right;\n",
       "    }\n",
       "</style>\n",
       "<table border=\"1\" class=\"dataframe\">\n",
       "  <thead>\n",
       "    <tr style=\"text-align: right;\">\n",
       "      <th></th>\n",
       "      <th>Unnamed: 0</th>\n",
       "      <th>ecoClass</th>\n",
       "      <th>weight</th>\n",
       "      <th>seller</th>\n",
       "      <th>updatedAt</th>\n",
       "      <th>sellerType</th>\n",
       "      <th>source</th>\n",
       "      <th>color</th>\n",
       "      <th>cylinders</th>\n",
       "      <th>gears</th>\n",
       "      <th>description</th>\n",
       "      <th>makeId</th>\n",
       "      <th>doors</th>\n",
       "      <th>bodyType</th>\n",
       "      <th>kw</th>\n",
       "      <th>title</th>\n",
       "      <th>co2Emissions</th>\n",
       "      <th>urn</th>\n",
       "      <th>consumption</th>\n",
       "      <th>forNoviceDrivers</th>\n",
       "      <th>year</th>\n",
       "      <th>price</th>\n",
       "      <th>km</th>\n",
       "      <th>engineSize</th>\n",
       "      <th>createdAt</th>\n",
       "      <th>status</th>\n",
       "      <th>seats</th>\n",
       "      <th>supply</th>\n",
       "      <th>gearType</th>\n",
       "      <th>doc_id</th>\n",
       "      <th>modelId</th>\n",
       "      <th>created_dt</th>\n",
       "      <th>citta</th>\n",
       "      <th>dataCreazione</th>\n",
       "      <th>dataUpdate</th>\n",
       "      <th>idDupli</th>\n",
       "      <th>ad</th>\n",
       "      <th>list</th>\n",
       "    </tr>\n",
       "  </thead>\n",
       "  <tbody>\n",
       "    <tr>\n",
       "      <th>25527</th>\n",
       "      <td>28283</td>\n",
       "      <td>NaN</td>\n",
       "      <td>NaN</td>\n",
       "      <td>Lorenzo</td>\n",
       "      <td>2022-02-15T18:43:04Z</td>\n",
       "      <td>Privato</td>\n",
       "      <td>a</td>\n",
       "      <td>NaN</td>\n",
       "      <td>NaN</td>\n",
       "      <td>NaN</td>\n",
       "      <td>Alfa Romeo Giulietta anni '80 conservata. Vers...</td>\n",
       "      <td>a-000083</td>\n",
       "      <td>NaN</td>\n",
       "      <td>NaN</td>\n",
       "      <td>NaN</td>\n",
       "      <td>ALFA ROMEO Giulietta - 1980</td>\n",
       "      <td>NaN</td>\n",
       "      <td>id:ad:461929816:list:416922710</td>\n",
       "      <td>NaN</td>\n",
       "      <td>NaN</td>\n",
       "      <td>1980.0</td>\n",
       "      <td>6650</td>\n",
       "      <td>80000.0</td>\n",
       "      <td>NaN</td>\n",
       "      <td>2022-01-03T14:05:33Z</td>\n",
       "      <td>ONLINE</td>\n",
       "      <td>NaN</td>\n",
       "      <td>NaN</td>\n",
       "      <td>NaN</td>\n",
       "      <td>84704459f05575eae5dec7e3e3469f7a1d29a1bdc88dbc...</td>\n",
       "      <td>a-000313</td>\n",
       "      <td>2022-01-03 14:05:33+00:00</td>\n",
       "      <td>benevento</td>\n",
       "      <td>2022-01-03</td>\n",
       "      <td>2022-02-15</td>\n",
       "      <td>27814</td>\n",
       "      <td>461929816</td>\n",
       "      <td>416922710</td>\n",
       "    </tr>\n",
       "    <tr>\n",
       "      <th>18966</th>\n",
       "      <td>21292</td>\n",
       "      <td>NaN</td>\n",
       "      <td>NaN</td>\n",
       "      <td>Lorenzo</td>\n",
       "      <td>2022-02-10T09:09:43Z</td>\n",
       "      <td>Privato</td>\n",
       "      <td>a</td>\n",
       "      <td>NaN</td>\n",
       "      <td>NaN</td>\n",
       "      <td>NaN</td>\n",
       "      <td>Alfa Romeo Giulietta anni 80 conservata, versi...</td>\n",
       "      <td>a-000083</td>\n",
       "      <td>NaN</td>\n",
       "      <td>NaN</td>\n",
       "      <td>NaN</td>\n",
       "      <td>ALFA ROMEO Giulietta - 1980</td>\n",
       "      <td>NaN</td>\n",
       "      <td>id:ad:461929816:list:416922710</td>\n",
       "      <td>NaN</td>\n",
       "      <td>NaN</td>\n",
       "      <td>1980.0</td>\n",
       "      <td>4650</td>\n",
       "      <td>80000.0</td>\n",
       "      <td>NaN</td>\n",
       "      <td>2022-01-03T14:05:33Z</td>\n",
       "      <td>OFFLINE</td>\n",
       "      <td>NaN</td>\n",
       "      <td>NaN</td>\n",
       "      <td>NaN</td>\n",
       "      <td>22159a77f87e2b7161b978d62c11b6ac1e1c1a7278ef5f...</td>\n",
       "      <td>a-000313</td>\n",
       "      <td>2022-01-03 14:05:33+00:00</td>\n",
       "      <td>benevento</td>\n",
       "      <td>2022-01-03</td>\n",
       "      <td>2022-02-10</td>\n",
       "      <td>27814</td>\n",
       "      <td>461929816</td>\n",
       "      <td>416922710</td>\n",
       "    </tr>\n",
       "  </tbody>\n",
       "</table>\n",
       "</div>"
      ],
      "text/plain": [
       "       Unnamed: 0 ecoClass  weight   seller             updatedAt sellerType  \\\n",
       "25527       28283      NaN     NaN  Lorenzo  2022-02-15T18:43:04Z    Privato   \n",
       "18966       21292      NaN     NaN  Lorenzo  2022-02-10T09:09:43Z    Privato   \n",
       "\n",
       "      source color  cylinders  gears  \\\n",
       "25527      a   NaN        NaN    NaN   \n",
       "18966      a   NaN        NaN    NaN   \n",
       "\n",
       "                                             description    makeId doors  \\\n",
       "25527  Alfa Romeo Giulietta anni '80 conservata. Vers...  a-000083   NaN   \n",
       "18966  Alfa Romeo Giulietta anni 80 conservata, versi...  a-000083   NaN   \n",
       "\n",
       "      bodyType  kw                        title  co2Emissions  \\\n",
       "25527      NaN NaN  ALFA ROMEO Giulietta - 1980           NaN   \n",
       "18966      NaN NaN  ALFA ROMEO Giulietta - 1980           NaN   \n",
       "\n",
       "                                  urn consumption forNoviceDrivers    year  \\\n",
       "25527  id:ad:461929816:list:416922710         NaN              NaN  1980.0   \n",
       "18966  id:ad:461929816:list:416922710         NaN              NaN  1980.0   \n",
       "\n",
       "       price       km  engineSize             createdAt   status  seats  \\\n",
       "25527   6650  80000.0         NaN  2022-01-03T14:05:33Z   ONLINE    NaN   \n",
       "18966   4650  80000.0         NaN  2022-01-03T14:05:33Z  OFFLINE    NaN   \n",
       "\n",
       "      supply gearType                                             doc_id  \\\n",
       "25527    NaN      NaN  84704459f05575eae5dec7e3e3469f7a1d29a1bdc88dbc...   \n",
       "18966    NaN      NaN  22159a77f87e2b7161b978d62c11b6ac1e1c1a7278ef5f...   \n",
       "\n",
       "        modelId                 created_dt      citta dataCreazione  \\\n",
       "25527  a-000313  2022-01-03 14:05:33+00:00  benevento    2022-01-03   \n",
       "18966  a-000313  2022-01-03 14:05:33+00:00  benevento    2022-01-03   \n",
       "\n",
       "      dataUpdate  idDupli         ad       list  \n",
       "25527 2022-02-15    27814  461929816  416922710  \n",
       "18966 2022-02-10    27814  461929816  416922710  "
      ]
     },
     "execution_count": 44,
     "metadata": {},
     "output_type": "execute_result"
    }
   ],
   "source": [
    "# Particular types of duplicates\n",
    "df.loc[df[\"idDupli\"] == 27814, :]\n"
   ]
  },
  {
   "cell_type": "code",
   "execution_count": 45,
   "metadata": {},
   "outputs": [],
   "source": [
    "df = df.sort_values(\"dataUpdate\", ascending=False).drop_duplicates(\n",
    "    \"idDupli\", keep=\"first\"\n",
    ")\n"
   ]
  },
  {
   "cell_type": "code",
   "execution_count": 46,
   "metadata": {},
   "outputs": [
    {
     "name": "stdout",
     "output_type": "stream",
     "text": [
      "n rows: 23957\n"
     ]
    }
   ],
   "source": [
    "print(\"n rows:\", len(df))\n"
   ]
  },
  {
   "cell_type": "code",
   "execution_count": 47,
   "metadata": {},
   "outputs": [],
   "source": [
    "to_drop.append(\"urn\")\n",
    "to_drop.append(\"ad\")\n",
    "to_drop.append(\"list\")\n",
    "to_drop.append(\"idDupli\")\n"
   ]
  },
  {
   "cell_type": "markdown",
   "metadata": {},
   "source": [
    "### \"Unnamed: 0\", \"doc_id\""
   ]
  },
  {
   "cell_type": "code",
   "execution_count": 48,
   "metadata": {},
   "outputs": [
    {
     "name": "stdout",
     "output_type": "stream",
     "text": [
      "23957\n",
      "23957\n"
     ]
    }
   ],
   "source": [
    "print(len(df[\"Unnamed: 0\"].unique()))\n",
    "print(len(df[\"doc_id\"].unique()))\n"
   ]
  },
  {
   "cell_type": "code",
   "execution_count": 49,
   "metadata": {},
   "outputs": [],
   "source": [
    "# only unique, no use\n",
    "to_drop.append(\"Unnamed: 0\")\n",
    "to_drop.append(\"doc_id\")\n"
   ]
  },
  {
   "cell_type": "markdown",
   "metadata": {},
   "source": [
    "### ForNoviceDrivers"
   ]
  },
  {
   "cell_type": "code",
   "execution_count": 50,
   "metadata": {},
   "outputs": [
    {
     "data": {
      "text/plain": [
       "NaN     23955\n",
       "True        2\n",
       "Name: forNoviceDrivers, dtype: int64"
      ]
     },
     "execution_count": 50,
     "metadata": {},
     "output_type": "execute_result"
    }
   ],
   "source": [
    "df[\"forNoviceDrivers\"].value_counts(dropna=False)\n"
   ]
  },
  {
   "cell_type": "code",
   "execution_count": 51,
   "metadata": {},
   "outputs": [],
   "source": [
    "# Only two non null values!\n",
    "to_drop.append(\"forNoviceDrivers\")\n"
   ]
  },
  {
   "cell_type": "markdown",
   "metadata": {},
   "source": [
    "### Status"
   ]
  },
  {
   "cell_type": "code",
   "execution_count": 52,
   "metadata": {},
   "outputs": [
    {
     "data": {
      "image/png": "[encoded data removed]",
      "text/plain": [
       "<Figure size 1440x720 with 2 Axes>"
      ]
     },
     "metadata": {
      "needs_background": "light"
     },
     "output_type": "display_data"
    },
    {
     "data": {
      "text/plain": [
       "{'corr':           status     price\n",
       " status  1.000000  0.014176\n",
       " price   0.014176  1.000000,\n",
       " 'ax': <AxesSubplot:>}"
      ]
     },
     "execution_count": 52,
     "metadata": {},
     "output_type": "execute_result"
    }
   ],
   "source": [
    "df_step = df[[\"status\", \"price\"]]\n",
    "nominal.associations(df_step, figsize=(20, 10))\n"
   ]
  },
  {
   "cell_type": "code",
   "execution_count": 53,
   "metadata": {},
   "outputs": [],
   "source": [
    "# Not useful\n",
    "to_drop.append(\"status\")\n"
   ]
  },
  {
   "cell_type": "markdown",
   "metadata": {},
   "source": [
    "### Weight, Engine Size, Emissions, Consumptions"
   ]
  },
  {
   "cell_type": "code",
   "execution_count": 54,
   "metadata": {},
   "outputs": [
    {
     "data": {
      "text/plain": [
       "NaN       18502\n",
       "1385.0     2263\n",
       "1395.0     1167\n",
       "1355.0      653\n",
       "1392.0      281\n",
       "1365.0      249\n",
       "1320.0      186\n",
       "1310.0      178\n",
       "1410.0      127\n",
       "1317.0      101\n",
       "1415.0       93\n",
       "1280.0       51\n",
       "1465.0       28\n",
       "1475.0       26\n",
       "1305.0        9\n",
       "1335.0        5\n",
       "1380.0        5\n",
       "1300.0        5\n",
       "1290.0        5\n",
       "1400.0        3\n",
       "1140.0        3\n",
       "1170.0        3\n",
       "1350.0        2\n",
       "1390.0        2\n",
       "1850.0        1\n",
       "1495.0        1\n",
       "900.0         1\n",
       "3095.0        1\n",
       "1700.0        1\n",
       "1250.0        1\n",
       "1449.0        1\n",
       "1485.0        1\n",
       "1430.0        1\n",
       "1200.0        1\n",
       "Name: weight, dtype: int64"
      ]
     },
     "execution_count": 54,
     "metadata": {},
     "output_type": "execute_result"
    }
   ],
   "source": [
    "# Many nulls, some mistakes\n",
    "df[\"weight\"].value_counts(dropna=False)\n"
   ]
  },
  {
   "cell_type": "code",
   "execution_count": 55,
   "metadata": {},
   "outputs": [],
   "source": [
    "# clean the clear error\n",
    "df.loc[df[\"weight\"] == 3095.0, \"weight\"] = np.nan\n"
   ]
  },
  {
   "cell_type": "code",
   "execution_count": 56,
   "metadata": {},
   "outputs": [
    {
     "data": {
      "text/plain": [
       "NaN       16378\n",
       "1598.0     3919\n",
       "1368.0     1842\n",
       "1956.0     1376\n",
       "1742.0      184\n",
       "1600.0       97\n",
       "2000.0       38\n",
       "1400.0       35\n",
       "1570.0       14\n",
       "11.0         10\n",
       "1779.0        8\n",
       "1750.0        6\n",
       "1290.0        5\n",
       "1800.0        5\n",
       "1300.0        5\n",
       "1995.0        5\n",
       "1962.0        4\n",
       "1900.0        3\n",
       "1357.0        2\n",
       "1580.0        2\n",
       "1998.0        2\n",
       "16.0          2\n",
       "1595.0        2\n",
       "1.0           1\n",
       "1364.0        1\n",
       "1559.0        1\n",
       "2200.0        1\n",
       "1850.0        1\n",
       "2143.0        1\n",
       "2.0           1\n",
       "1596.0        1\n",
       "14.0          1\n",
       "1996.0        1\n",
       "1581.0        1\n",
       "13.0          1\n",
       "1590.0        1\n",
       "Name: engineSize, dtype: int64"
      ]
     },
     "execution_count": 56,
     "metadata": {},
     "output_type": "execute_result"
    }
   ],
   "source": [
    "# Many nulls, some mistakes\n",
    "df[\"engineSize\"].value_counts(dropna=False)\n"
   ]
  },
  {
   "cell_type": "code",
   "execution_count": 57,
   "metadata": {},
   "outputs": [
    {
     "data": {
      "text/plain": [
       "1598.0    3919\n",
       "1368.0    1842\n",
       "1956.0    1376\n",
       "1742.0     184\n",
       "1600.0      99\n",
       "2000.0      39\n",
       "1400.0      36\n",
       "1570.0      14\n",
       "1100.0      10\n",
       "1779.0       8\n",
       "1300.0       6\n",
       "1750.0       6\n",
       "1995.0       5\n",
       "1290.0       5\n",
       "1800.0       5\n",
       "1962.0       4\n",
       "1900.0       3\n",
       "1357.0       2\n",
       "1998.0       2\n",
       "1595.0       2\n",
       "1580.0       2\n",
       "1581.0       1\n",
       "1996.0       1\n",
       "1596.0       1\n",
       "2143.0       1\n",
       "1850.0       1\n",
       "2200.0       1\n",
       "1559.0       1\n",
       "1364.0       1\n",
       "1000.0       1\n",
       "1590.0       1\n",
       "Name: engineSize, dtype: int64"
      ]
     },
     "execution_count": 57,
     "metadata": {},
     "output_type": "execute_result"
    }
   ],
   "source": [
    "# Let's normalize\n",
    "def correctEngineSize(row):\n",
    "    if not pd.isnull(row[\"engineSize\"]):\n",
    "        if row[\"engineSize\"] < 10:\n",
    "            row[\"engineSize\"] = row[\"engineSize\"] * 1000\n",
    "            return row\n",
    "        if row[\"engineSize\"] < 100:\n",
    "            row[\"engineSize\"] = row[\"engineSize\"] * 100\n",
    "            return row\n",
    "    return row\n",
    "\n",
    "\n",
    "df = df.apply(correctEngineSize, axis=1)\n",
    "df[\"engineSize\"].value_counts()\n"
   ]
  },
  {
   "cell_type": "code",
   "execution_count": 58,
   "metadata": {},
   "outputs": [
    {
     "data": {
      "text/plain": [
       "NaN      17890\n",
       "103.0     1176\n",
       "114.0      690\n",
       "104.0      643\n",
       "119.0      508\n",
       "134.0      423\n",
       "149.0      397\n",
       "123.0      331\n",
       "124.0      320\n",
       "110.0      246\n",
       "144.0      190\n",
       "133.0      168\n",
       "125.0      159\n",
       "157.0      124\n",
       "113.0       84\n",
       "177.0       81\n",
       "118.0       78\n",
       "116.0       71\n",
       "148.0       61\n",
       "127.0       48\n",
       "164.0       48\n",
       "159.0       39\n",
       "121.0       33\n",
       "99.0        31\n",
       "162.0       27\n",
       "147.0       20\n",
       "131.0       19\n",
       "122.0       16\n",
       "130.0       12\n",
       "167.0        5\n",
       "120.0        4\n",
       "145.0        2\n",
       "141.0        2\n",
       "109.0        1\n",
       "5.0          1\n",
       "179.0        1\n",
       "4.0          1\n",
       "168.0        1\n",
       "1.0          1\n",
       "80.0         1\n",
       "12.0         1\n",
       "0.0          1\n",
       "143.0        1\n",
       "79.0         1\n",
       "Name: co2Emissions, dtype: int64"
      ]
     },
     "execution_count": 58,
     "metadata": {},
     "output_type": "execute_result"
    }
   ],
   "source": [
    "# Many nulls, some mistakes\n",
    "df[\"co2Emissions\"].value_counts(dropna=False)\n"
   ]
  },
  {
   "cell_type": "code",
   "execution_count": 59,
   "metadata": {},
   "outputs": [],
   "source": [
    "# set boundary\n",
    "df.loc[df[\"co2Emissions\"] < 70, \"co2Emissions\"] = np.nan\n"
   ]
  },
  {
   "cell_type": "code",
   "execution_count": 60,
   "metadata": {},
   "outputs": [
    {
     "data": {
      "text/plain": [
       "NaN         12011\n",
       "88.0000      4872\n",
       "77.0000      2296\n",
       "125.0000      984\n",
       "88.2600       822\n",
       "            ...  \n",
       "57.0000         1\n",
       "11.0325         1\n",
       "96.3505         1\n",
       "444.9775        1\n",
       "104.0000        1\n",
       "Name: kw, Length: 98, dtype: int64"
      ]
     },
     "execution_count": 60,
     "metadata": {},
     "output_type": "execute_result"
    }
   ],
   "source": [
    "# Many nulls, some mistakes\n",
    "df[\"kw\"].value_counts(dropna=False)\n"
   ]
  },
  {
   "cell_type": "code",
   "execution_count": 61,
   "metadata": {},
   "outputs": [],
   "source": [
    "# Set boundary\n",
    "df.loc[df[\"kw\"] > 130, \"kw\"] = np.nan\n"
   ]
  },
  {
   "cell_type": "code",
   "execution_count": 62,
   "metadata": {},
   "outputs": [
    {
     "data": {
      "text/plain": [
       "NaN                                                                           17780\n",
       "3,9 l/100 km (comb.)\\n4,9 l/100 km (urbano)\\n3,3 l/100 km (extraurbano)         664\n",
       "4,4 l/100 km (comb.)\\n5,5 l/100 km (urbano)\\n3,7 l/100 km (extraurbano)         628\n",
       "4 l/100 km (comb.)\\n5 l/100 km (urbano)\\n3,4 l/100 km (extraurbano)             511\n",
       "4,5 l/100 km (comb.)\\n5,6 l/100 km (urbano)\\n3,9 l/100 km (extraurbano)         337\n",
       "                                                                              ...  \n",
       "4,5 l/100 km (comb.)\\n5,5 l/100 km (urbano)\\n4,1 l/100 km (extraurbano)           1\n",
       "4,2 l/100 km (comb.)\\n5,3 l/100 km (urbano)\\n3,5 l/100 km (extraurbano)           1\n",
       "4,5 l/100 km (comb.)\\n3,9 l/100 km (urbano)\\n5,9 l/100 km (extraurbano)           1\n",
       "7,2 kg/100 km (comb.)\\n8,9 kg/100 km (urbano)\\n6,2 kg/100 km (extraurbano)        1\n",
       "4,5 l/100 km (comb.)\\n5,8 l/100 km (urbano)\\n5,8 l/100 km (extraurbano)           1\n",
       "Name: consumption, Length: 188, dtype: int64"
      ]
     },
     "execution_count": 62,
     "metadata": {},
     "output_type": "execute_result"
    }
   ],
   "source": [
    "# Many nulls, some mistakes. Let's try to only consider urban consumption\n",
    "df[\"consumption\"].value_counts(dropna=False)\n"
   ]
  },
  {
   "cell_type": "code",
   "execution_count": 63,
   "metadata": {},
   "outputs": [],
   "source": [
    "def getConsumoUrbano(row):\n",
    "    if not pd.isnull(row[\"consumption\"]):\n",
    "        try:\n",
    "            temp = str(row[\"consumption\"]).split(\"(comb.)\")[1].strip()\n",
    "            row[\"consumption\"] = temp.split(\"(urbano)\")[0].strip()\n",
    "        except:\n",
    "            row[\"consumption\"] = np.nan\n",
    "    return row\n",
    "\n",
    "\n",
    "df = df.apply(getConsumoUrbano, axis=1)\n"
   ]
  },
  {
   "cell_type": "code",
   "execution_count": 64,
   "metadata": {},
   "outputs": [
    {
     "data": {
      "text/plain": [
       "NaN             18030\n",
       "5 l/100 km       1024\n",
       "4,9 l/100 km      698\n",
       "5,5 l/100 km      675\n",
       "5,8 l/100 km      438\n",
       "                ...  \n",
       "12 l/100 km         1\n",
       "7,2 l/100 km        1\n",
       "22 l/100 km         1\n",
       "6,8 l/100 km        1\n",
       "11 l/100 km         1\n",
       "Name: consumption, Length: 69, dtype: int64"
      ]
     },
     "execution_count": 64,
     "metadata": {},
     "output_type": "execute_result"
    }
   ],
   "source": [
    "df[\"consumption\"].value_counts(dropna=False)\n"
   ]
  },
  {
   "cell_type": "code",
   "execution_count": 65,
   "metadata": {},
   "outputs": [
    {
     "data": {
      "image/png": "[encoded data removed]",
      "text/plain": [
       "<Figure size 1440x720 with 2 Axes>"
      ]
     },
     "metadata": {
      "needs_background": "light"
     },
     "output_type": "display_data"
    },
    {
     "data": {
      "text/plain": [
       "{'corr':                 weight     price  engineSize  co2Emissions  consumption  \\\n",
       " weight        1.000000  0.053305    0.790621      0.887884     0.886803   \n",
       " price         0.053305  1.000000    0.103621      0.105677     0.371450   \n",
       " engineSize    0.790621  0.103621    1.000000      0.822834     0.844868   \n",
       " co2Emissions  0.887884  0.105677    0.822834      1.000000     0.943722   \n",
       " consumption   0.886803  0.371450    0.844868      0.943722     1.000000   \n",
       " kw            0.519558  0.105528    0.627682      0.537284     0.578042   \n",
       " \n",
       "                     kw  \n",
       " weight        0.519558  \n",
       " price         0.105528  \n",
       " engineSize    0.627682  \n",
       " co2Emissions  0.537284  \n",
       " consumption   0.578042  \n",
       " kw            1.000000  ,\n",
       " 'ax': <AxesSubplot:>}"
      ]
     },
     "execution_count": 65,
     "metadata": {},
     "output_type": "execute_result"
    }
   ],
   "source": [
    "df_step = df[[\"weight\", \"price\", \"engineSize\", \"co2Emissions\", \"consumption\", \"kw\"]]\n",
    "nominal.associations(df_step, figsize=(20, 10))\n"
   ]
  },
  {
   "cell_type": "code",
   "execution_count": 66,
   "metadata": {},
   "outputs": [],
   "source": [
    "# Too many nulls and not so strong relations with price\n",
    "to_drop.append(\"weight\")\n",
    "to_drop.append(\"engineSize\")\n",
    "to_drop.append(\"co2Emissions\")\n",
    "to_drop.append(\n",
    "    \"consumption\"\n",
    ")\n",
    "to_drop.append(\"kw\")\n"
   ]
  },
  {
   "cell_type": "markdown",
   "metadata": {},
   "source": [
    "### Year"
   ]
  },
  {
   "cell_type": "code",
   "execution_count": 67,
   "metadata": {},
   "outputs": [
    {
     "data": {
      "text/plain": [
       "2011.0    3629\n",
       "2012.0    3342\n",
       "2013.0    2477\n",
       "2016.0    2427\n",
       "2015.0    2345\n",
       "2014.0    2059\n",
       "2017.0    1894\n",
       "2018.0    1540\n",
       "2010.0    1539\n",
       "2019.0    1036\n",
       "2020.0     934\n",
       "2021.0     137\n",
       "1982.0      62\n",
       "1983.0      60\n",
       "1985.0      52\n",
       "NaN         50\n",
       "1978.0      49\n",
       "1980.0      47\n",
       "1984.0      43\n",
       "1979.0      37\n",
       "1981.0      31\n",
       "1960.0      24\n",
       "1959.0      23\n",
       "1961.0      21\n",
       "1986.0      17\n",
       "1963.0      16\n",
       "1958.0      10\n",
       "1962.0       9\n",
       "1970.0       7\n",
       "1977.0       6\n",
       "1964.0       5\n",
       "1976.0       4\n",
       "1950.0       4\n",
       "1975.0       3\n",
       "2009.0       3\n",
       "1987.0       3\n",
       "2022.0       2\n",
       "1965.0       2\n",
       "2008.0       2\n",
       "1957.0       1\n",
       "1955.0       1\n",
       "2004.0       1\n",
       "1956.0       1\n",
       "2001.0       1\n",
       "1974.0       1\n",
       "Name: year, dtype: int64"
      ]
     },
     "execution_count": 67,
     "metadata": {},
     "output_type": "execute_result"
    }
   ],
   "source": [
    "df[\"year\"].value_counts(dropna=False)\n"
   ]
  },
  {
   "cell_type": "code",
   "execution_count": 68,
   "metadata": {},
   "outputs": [
    {
     "data": {
      "text/plain": [
       "(1949.999, 2011.0]    5714\n",
       "(2013.0, 2015.0]      4454\n",
       "(2016.0, 2018.0]      3434\n",
       "(2011.0, 2012.0]      3342\n",
       "(2012.0, 2013.0]      2477\n",
       "(2015.0, 2016.0]      2427\n",
       "(2018.0, 2022.0]      2109\n",
       "Name: year, dtype: int64"
      ]
     },
     "execution_count": 68,
     "metadata": {},
     "output_type": "execute_result"
    }
   ],
   "source": [
    "df[\"year\"] = df[\"year\"].fillna(df[\"year\"].mean())\n",
    "df[\"year\"] = pd.qcut(df[\"year\"], 7)\n",
    "df[\"year\"].value_counts()\n"
   ]
  },
  {
   "cell_type": "markdown",
   "metadata": {},
   "source": [
    "### Cylinders, Gears, Seats"
   ]
  },
  {
   "cell_type": "code",
   "execution_count": 69,
   "metadata": {},
   "outputs": [
    {
     "data": {
      "text/plain": [
       "NaN     17730\n",
       "4.0      6222\n",
       "6.0         2\n",
       "16.0        1\n",
       "5.0         1\n",
       "0.0         1\n",
       "Name: cylinders, dtype: int64"
      ]
     },
     "execution_count": 69,
     "metadata": {},
     "output_type": "execute_result"
    }
   ],
   "source": [
    "df[\"cylinders\"].value_counts(dropna=False)\n"
   ]
  },
  {
   "cell_type": "code",
   "execution_count": 70,
   "metadata": {},
   "outputs": [
    {
     "data": {
      "text/plain": [
       "NaN    17574\n",
       "6.0     6331\n",
       "5.0       42\n",
       "1.0        5\n",
       "4.0        3\n",
       "7.0        2\n",
       "Name: gears, dtype: int64"
      ]
     },
     "execution_count": 70,
     "metadata": {},
     "output_type": "execute_result"
    }
   ],
   "source": [
    "df[\"gears\"].value_counts(dropna=False)\n"
   ]
  },
  {
   "cell_type": "code",
   "execution_count": 71,
   "metadata": {},
   "outputs": [
    {
     "data": {
      "text/plain": [
       "5.0    19208\n",
       "4.0      127\n",
       "6.0       29\n",
       "2.0       12\n",
       "3.0        1\n",
       "Name: seats, dtype: int64"
      ]
     },
     "execution_count": 71,
     "metadata": {},
     "output_type": "execute_result"
    }
   ],
   "source": [
    "df[\"seats\"].value_counts()\n"
   ]
  },
  {
   "cell_type": "code",
   "execution_count": 72,
   "metadata": {},
   "outputs": [],
   "source": [
    "to_drop.append(\"cylinders\")\n",
    "to_drop.append(\"gears\")\n",
    "to_drop.append(\"seats\")\n"
   ]
  },
  {
   "cell_type": "markdown",
   "metadata": {},
   "source": [
    "### KM"
   ]
  },
  {
   "cell_type": "code",
   "execution_count": 73,
   "metadata": {},
   "outputs": [
    {
     "data": {
      "text/plain": [
       "140000.0    416\n",
       "150000.0    413\n",
       "160000.0    406\n",
       "130000.0    393\n",
       "120000.0    320\n",
       "           ... \n",
       "120853.0      1\n",
       "96794.0       1\n",
       "1251.0        1\n",
       "181759.0      1\n",
       "123431.0      1\n",
       "Name: km, Length: 3782, dtype: int64"
      ]
     },
     "execution_count": 73,
     "metadata": {},
     "output_type": "execute_result"
    }
   ],
   "source": [
    "df[\"km\"].value_counts(dropna=False)\n"
   ]
  },
  {
   "cell_type": "code",
   "execution_count": 74,
   "metadata": {},
   "outputs": [
    {
     "data": {
      "text/plain": [
       "(113076.0, 140000.0]      4266\n",
       "(49000.0, 86000.0]        4037\n",
       "(-0.001, 49000.0]         4005\n",
       "(86000.0, 113076.0]       3938\n",
       "(170000.0, 99999999.0]    3927\n",
       "(140000.0, 170000.0]      3784\n",
       "Name: km, dtype: int64"
      ]
     },
     "execution_count": 74,
     "metadata": {},
     "output_type": "execute_result"
    }
   ],
   "source": [
    "df[\"km\"] = df[\"km\"].fillna(df[\"km\"].mean())\n",
    "df[\"km\"] = pd.qcut(df[\"km\"], q=6)\n",
    "df[\"km\"].value_counts(dropna=False)\n"
   ]
  },
  {
   "cell_type": "markdown",
   "metadata": {},
   "source": [
    "### Eco Class"
   ]
  },
  {
   "cell_type": "code",
   "execution_count": 75,
   "metadata": {},
   "outputs": [
    {
     "data": {
      "text/plain": [
       "Euro 5          8837\n",
       "Euro 6          7289\n",
       "NaN             6778\n",
       "Euro 6d-TEMP     575\n",
       "Pre-Euro         169\n",
       "Euro 4           161\n",
       "Euro 1            57\n",
       "Euro 6d           47\n",
       "Euro 3            20\n",
       "Euro 6c           17\n",
       "Euro 2             7\n",
       "Name: ecoClass, dtype: int64"
      ]
     },
     "execution_count": 75,
     "metadata": {},
     "output_type": "execute_result"
    }
   ],
   "source": [
    "df[\"ecoClass\"].value_counts(dropna=False)\n"
   ]
  },
  {
   "cell_type": "code",
   "execution_count": 76,
   "metadata": {},
   "outputs": [
    {
     "data": {
      "text/plain": [
       "Euro 5      8837\n",
       "Euro 6      7928\n",
       "NaN         6778\n",
       "Pre-Euro     169\n",
       "Euro 4       161\n",
       "Euro 1        57\n",
       "Euro 3        20\n",
       "Euro 2         7\n",
       "Name: ecoClass, dtype: int64"
      ]
     },
     "execution_count": 76,
     "metadata": {},
     "output_type": "execute_result"
    }
   ],
   "source": [
    "mask = (\n",
    "    (df[\"ecoClass\"] == \"Euro 6d-TEMP\")\n",
    "    | (df[\"ecoClass\"] == \"Euro 6d\")\n",
    "    | (df[\"ecoClass\"] == \"Euro 6c\")\n",
    ")\n",
    "df.loc[mask, \"ecoClass\"] = \"Euro 6\"\n",
    "df[\"ecoClass\"].value_counts(dropna=False)\n"
   ]
  },
  {
   "cell_type": "code",
   "execution_count": 77,
   "metadata": {},
   "outputs": [
    {
     "name": "stdout",
     "output_type": "stream",
     "text": [
      "year      (1949.999, 2011.0]  (2011.0, 2012.0]  (2012.0, 2013.0]  \\\n",
      "ecoClass                                                           \n",
      "Euro 1                    16                 3                15   \n",
      "Euro 2                     5                 0                 0   \n",
      "Euro 3                     9                 4                 4   \n",
      "Euro 4                    95                21                22   \n",
      "Euro 5                  3173              2187              1498   \n",
      "Euro 6                   181               158               173   \n",
      "Pre-Euro                 166                 2                 1   \n",
      "All                     3645              2375              1713   \n",
      "\n",
      "year      (2013.0, 2015.0]  (2015.0, 2016.0]  (2016.0, 2018.0]  \\\n",
      "ecoClass                                                         \n",
      "Euro 1                  23                 0                 0   \n",
      "Euro 2                   2                 0                 0   \n",
      "Euro 3                   2                 1                 0   \n",
      "Euro 4                  14                 7                 2   \n",
      "Euro 5                1844                83                38   \n",
      "Euro 6                1363              1860              2776   \n",
      "Pre-Euro                 0                 0                 0   \n",
      "All                   3248              1951              2816   \n",
      "\n",
      "year      (2018.0, 2022.0]    All  \n",
      "ecoClass                           \n",
      "Euro 1                   0     57  \n",
      "Euro 2                   0      7  \n",
      "Euro 3                   0     20  \n",
      "Euro 4                   0    161  \n",
      "Euro 5                  14   8837  \n",
      "Euro 6                1417   7928  \n",
      "Pre-Euro                 0    169  \n",
      "All                   1431  17179  \n"
     ]
    }
   ],
   "source": [
    "print(pd.crosstab(df[\"ecoClass\"], df[\"year\"], margins=True))\n"
   ]
  },
  {
   "cell_type": "code",
   "execution_count": 78,
   "metadata": {},
   "outputs": [
    {
     "data": {
      "text/plain": [
       "(1949.999, 2011.0]    2069\n",
       "(2013.0, 2015.0]      1206\n",
       "(2011.0, 2012.0]       967\n",
       "(2012.0, 2013.0]       764\n",
       "(2018.0, 2022.0]       678\n",
       "(2016.0, 2018.0]       618\n",
       "(2015.0, 2016.0]       476\n",
       "Name: year, dtype: int64"
      ]
     },
     "execution_count": 78,
     "metadata": {},
     "output_type": "execute_result"
    }
   ],
   "source": [
    "mask = df[\"ecoClass\"].isnull()\n",
    "df.loc[mask, \"year\"].value_counts()\n"
   ]
  },
  {
   "cell_type": "code",
   "execution_count": 79,
   "metadata": {},
   "outputs": [
    {
     "data": {
      "text/plain": [
       "Euro 5        8837\n",
       "Euro 6        7928\n",
       "Pre-Euro 4    7192\n",
       "Name: ecoClass, dtype: int64"
      ]
     },
     "execution_count": 79,
     "metadata": {},
     "output_type": "execute_result"
    }
   ],
   "source": [
    "def fillNanEcoClass(row):\n",
    "    if pd.isnull(row[\"ecoClass\"]):\n",
    "        if row[\"year\"] == \"(2004.0, 2013.0]\":\n",
    "            row[\"ecoClass\"] = \"Euro 5\"\n",
    "        elif row[\"year\"] == \"(2013.0, 2022.0]\":\n",
    "            row[\"ecoClass\"] = \"Euro 6\"\n",
    "        else:\n",
    "            row[\"ecoClass\"] = \"Pre-Euro 4\"\n",
    "    elif row[\"ecoClass\"] in [\"Euro 1\", \"Euro 2\", \"Euro 3\", \"Euro 4\", \"Pre-Euro\"]:\n",
    "        row[\"ecoClass\"] = \"Pre-Euro 4\"\n",
    "    return row\n",
    "\n",
    "\n",
    "df = df.apply(fillNanEcoClass, axis=1)\n",
    "df[\"ecoClass\"].value_counts(dropna=False)\n"
   ]
  },
  {
   "cell_type": "markdown",
   "metadata": {},
   "source": [
    "### Seller e Seller Type"
   ]
  },
  {
   "cell_type": "code",
   "execution_count": 80,
   "metadata": {},
   "outputs": [
    {
     "data": {
      "text/plain": [
       "6550"
      ]
     },
     "execution_count": 80,
     "metadata": {},
     "output_type": "execute_result"
    }
   ],
   "source": [
    "len(df[\"seller\"].unique())\n"
   ]
  },
  {
   "cell_type": "code",
   "execution_count": 81,
   "metadata": {},
   "outputs": [],
   "source": [
    "to_drop.append(\"seller\")\n"
   ]
  },
  {
   "cell_type": "code",
   "execution_count": 82,
   "metadata": {},
   "outputs": [
    {
     "data": {
      "text/plain": [
       "Privato    8973\n",
       "Azienda    8078\n",
       "NaN        6906\n",
       "Name: sellerType, dtype: int64"
      ]
     },
     "execution_count": 82,
     "metadata": {},
     "output_type": "execute_result"
    }
   ],
   "source": [
    "df[\"sellerType\"].value_counts(dropna=False)\n"
   ]
  },
  {
   "cell_type": "code",
   "execution_count": 83,
   "metadata": {},
   "outputs": [
    {
     "data": {
      "image/png": "[encoded data removed]",
      "text/plain": [
       "<Figure size 1440x720 with 2 Axes>"
      ]
     },
     "metadata": {
      "needs_background": "light"
     },
     "output_type": "display_data"
    },
    {
     "data": {
      "text/plain": [
       "{'corr':             sellerType     price\n",
       " sellerType    1.000000  0.209842\n",
       " price         0.209842  1.000000,\n",
       " 'ax': <AxesSubplot:>}"
      ]
     },
     "execution_count": 83,
     "metadata": {},
     "output_type": "execute_result"
    }
   ],
   "source": [
    "df_step = df[[\"sellerType\", \"price\"]]\n",
    "nominal.associations(df_step, figsize=(20, 10))\n"
   ]
  },
  {
   "cell_type": "code",
   "execution_count": 84,
   "metadata": {},
   "outputs": [],
   "source": [
    "# Not a strong relation\n",
    "to_drop.append(\"sellerType\")\n"
   ]
  },
  {
   "cell_type": "markdown",
   "metadata": {},
   "source": [
    "### Color"
   ]
  },
  {
   "cell_type": "code",
   "execution_count": 85,
   "metadata": {},
   "outputs": [
    {
     "data": {
      "text/plain": [
       "NaN            17177\n",
       "Bianco          1991\n",
       "Nero            1597\n",
       "Grigio          1538\n",
       "Rosso            664\n",
       "Argento          484\n",
       "Blu/Azzurro      402\n",
       "Marrone           44\n",
       "Bronzo            18\n",
       "Verde             17\n",
       "Beige             15\n",
       "Lilla              6\n",
       "Arancione          2\n",
       "Oro                1\n",
       "Giallo             1\n",
       "Name: color, dtype: int64"
      ]
     },
     "execution_count": 85,
     "metadata": {},
     "output_type": "execute_result"
    }
   ],
   "source": [
    "df[\"color\"].value_counts(dropna=False)\n"
   ]
  },
  {
   "cell_type": "code",
   "execution_count": 86,
   "metadata": {},
   "outputs": [
    {
     "data": {
      "image/png": "[encoded data removed]",
      "text/plain": [
       "<Figure size 1440x720 with 2 Axes>"
      ]
     },
     "metadata": {
      "needs_background": "light"
     },
     "output_type": "display_data"
    },
    {
     "data": {
      "text/plain": [
       "{'corr':           color     price\n",
       " color  1.000000  0.155525\n",
       " price  0.155525  1.000000,\n",
       " 'ax': <AxesSubplot:>}"
      ]
     },
     "execution_count": 86,
     "metadata": {},
     "output_type": "execute_result"
    }
   ],
   "source": [
    "df_step = df[[\"color\", \"price\"]]\n",
    "nominal.associations(df_step, figsize=(20, 10))\n"
   ]
  },
  {
   "cell_type": "code",
   "execution_count": 87,
   "metadata": {},
   "outputs": [],
   "source": [
    "to_drop.append(\"color\")\n",
    "# Weak relation, I expected a stronger one here\n"
   ]
  },
  {
   "cell_type": "markdown",
   "metadata": {},
   "source": [
    "### Description, Title"
   ]
  },
  {
   "cell_type": "code",
   "execution_count": 88,
   "metadata": {},
   "outputs": [],
   "source": [
    "to_drop.append(\"description\") #futue idea: scrape description and title and search for something interesting\n",
    "to_drop.append(\"title\")\n"
   ]
  },
  {
   "cell_type": "markdown",
   "metadata": {},
   "source": [
    "### Doors"
   ]
  },
  {
   "cell_type": "code",
   "execution_count": 89,
   "metadata": {},
   "outputs": [
    {
     "data": {
      "text/plain": [
       "[4, 5]    13636\n",
       "5          6368\n",
       "NaN        3709\n",
       "4           175\n",
       "[2, 3]       46\n",
       "[6, 7]       12\n",
       "3             8\n",
       "2             3\n",
       "Name: doors, dtype: int64"
      ]
     },
     "execution_count": 89,
     "metadata": {},
     "output_type": "execute_result"
    }
   ],
   "source": [
    "df[\"doors\"].value_counts(dropna=False)\n"
   ]
  },
  {
   "cell_type": "code",
   "execution_count": 90,
   "metadata": {},
   "outputs": [
    {
     "data": {
      "text/plain": [
       "[4, 5]    20179\n",
       "NaN        3721\n",
       "[2, 3]       57\n",
       "Name: doors, dtype: int64"
      ]
     },
     "execution_count": 90,
     "metadata": {},
     "output_type": "execute_result"
    }
   ],
   "source": [
    "df.loc[(df[\"doors\"] == \"4\") | (df[\"doors\"] == \"5\"), \"doors\"] = \"[4, 5]\"\n",
    "df.loc[(df[\"doors\"] == \"2\") | (df[\"doors\"] == \"3\"), \"doors\"] = \"[2, 3]\"\n",
    "df.loc[df[\"doors\"] == \"[6, 7]\", \"doors\"] = np.nan\n",
    "df[\"doors\"].value_counts(dropna=False)\n"
   ]
  },
  {
   "cell_type": "code",
   "execution_count": 91,
   "metadata": {},
   "outputs": [],
   "source": [
    "# Basically only one class\n",
    "to_drop.append(\"doors\")\n"
   ]
  },
  {
   "cell_type": "markdown",
   "metadata": {},
   "source": [
    "### Body Type"
   ]
  },
  {
   "cell_type": "code",
   "execution_count": 92,
   "metadata": {},
   "outputs": [
    {
     "data": {
      "text/plain": [
       "Berlina                    17651\n",
       "NaN                         3939\n",
       "Utilitaria                  1309\n",
       "Altro                        872\n",
       "Coupé                        129\n",
       "Monovolume                    23\n",
       "Cabrio                        15\n",
       "Station-wagon                 10\n",
       "SUV/Fuoristrada/Pick-up        9\n",
       "Name: bodyType, dtype: int64"
      ]
     },
     "execution_count": 92,
     "metadata": {},
     "output_type": "execute_result"
    }
   ],
   "source": [
    "df[\"bodyType\"].value_counts(dropna=False)\n"
   ]
  },
  {
   "cell_type": "code",
   "execution_count": 93,
   "metadata": {},
   "outputs": [
    {
     "name": "stdout",
     "output_type": "stream",
     "text": [
      "year                     (1949.999, 2011.0]  (2011.0, 2012.0]  \\\n",
      "bodyType                                                        \n",
      "Altro                                   239               121   \n",
      "Berlina                                3820              2369   \n",
      "Cabrio                                    6                 0   \n",
      "Coupé                                    45                10   \n",
      "Monovolume                                3                 7   \n",
      "SUV/Fuoristrada/Pick-up                   3                 1   \n",
      "Station-wagon                             0                 4   \n",
      "Utilitaria                              390               236   \n",
      "All                                    4506              2748   \n",
      "\n",
      "year                     (2012.0, 2013.0]  (2013.0, 2015.0]  (2015.0, 2016.0]  \\\n",
      "bodyType                                                                        \n",
      "Altro                                  76               153                65   \n",
      "Berlina                              1741              3303              1863   \n",
      "Cabrio                                  2                 1                 1   \n",
      "Coupé                                  12                23                18   \n",
      "Monovolume                              2                 5                 4   \n",
      "SUV/Fuoristrada/Pick-up                 0                 1                 2   \n",
      "Station-wagon                           2                 0                 2   \n",
      "Utilitaria                            186               235               114   \n",
      "All                                  2021              3721              2069   \n",
      "\n",
      "year                     (2016.0, 2018.0]  (2018.0, 2022.0]    All  \n",
      "bodyType                                                            \n",
      "Altro                                 103               115    872  \n",
      "Berlina                              2767              1788  17651  \n",
      "Cabrio                                  4                 1     15  \n",
      "Coupé                                  13                 8    129  \n",
      "Monovolume                              2                 0     23  \n",
      "SUV/Fuoristrada/Pick-up                 1                 1      9  \n",
      "Station-wagon                           2                 0     10  \n",
      "Utilitaria                            109                39   1309  \n",
      "All                                  3001              1952  20018  \n"
     ]
    }
   ],
   "source": [
    "print(pd.crosstab(df[\"bodyType\"], df[\"year\"], margins=True))\n"
   ]
  },
  {
   "cell_type": "code",
   "execution_count": 94,
   "metadata": {},
   "outputs": [
    {
     "data": {
      "text/plain": [
       "Berlina       17651\n",
       "Altro          4997\n",
       "Utilitaria     1309\n",
       "Name: bodyType, dtype: int64"
      ]
     },
     "execution_count": 94,
     "metadata": {},
     "output_type": "execute_result"
    }
   ],
   "source": [
    "# Filling nans using the year\n",
    "mask = (df[\"bodyType\"].isnull()) & (df[\"year\"].apply(str) == \"(2004.0, 2013.0]\")\n",
    "df.loc[mask, \"bodyType\"] = \"Utilitaria\"\n",
    "mask = (df[\"bodyType\"].isnull()) & (df[\"year\"].apply(str) == \"(2013.0, 2022.0]\")\n",
    "df.loc[mask, \"bodyType\"] = \"Berlina\"\n",
    "mask = (\n",
    "    df[\"bodyType\"].isnull()\n",
    "    | (df[\"bodyType\"] == \"Coupé\")\n",
    "    | (df[\"bodyType\"] == \"Monovolume\")\n",
    "    | (df[\"bodyType\"] == \"Cabrio\")\n",
    "    | (df[\"bodyType\"] == \"Station-wagon\")\n",
    "    | (df[\"bodyType\"] == \"SUV/Fuoristrada/Pick-up\")\n",
    ")\n",
    "df.loc[mask, \"bodyType\"] = \"Altro\"\n",
    "df[\"bodyType\"].value_counts(dropna=False)\n"
   ]
  },
  {
   "cell_type": "markdown",
   "metadata": {},
   "source": [
    "### Supply"
   ]
  },
  {
   "cell_type": "code",
   "execution_count": 95,
   "metadata": {},
   "outputs": [
    {
     "data": {
      "text/plain": [
       "Diesel       17671\n",
       "Benzina       3639\n",
       "NaN           1806\n",
       "GPL            705\n",
       "Altro           94\n",
       "Metano          40\n",
       "Elettrica        2\n",
       "Name: supply, dtype: int64"
      ]
     },
     "execution_count": 95,
     "metadata": {},
     "output_type": "execute_result"
    }
   ],
   "source": [
    "df[\"supply\"].value_counts(dropna=False)\n"
   ]
  },
  {
   "cell_type": "code",
   "execution_count": 96,
   "metadata": {},
   "outputs": [
    {
     "data": {
      "text/plain": [
       "Diesel       19169\n",
       "Benzina       3947\n",
       "GPL            705\n",
       "Altro           94\n",
       "Metano          40\n",
       "Elettrica        2\n",
       "Name: supply, dtype: int64"
      ]
     },
     "execution_count": 96,
     "metadata": {},
     "output_type": "execute_result"
    }
   ],
   "source": [
    "# Filling nans tryign to keep the same distribution\n",
    "diesel = len(df[df[\"supply\"] == \"Diesel\"])\n",
    "benzina = len(df[df[\"supply\"] == \"Benzina\"])\n",
    "df_random = df[df[\"supply\"].isnull()].sample(frac=benzina / (diesel + benzina))\n",
    "df.loc[df_random.index, \"supply\"] = \"Benzina\"\n",
    "df.loc[df[\"supply\"].isnull(), \"supply\"] = \"Diesel\"\n",
    "df[\"supply\"].value_counts(dropna=False)\n"
   ]
  },
  {
   "cell_type": "markdown",
   "metadata": {},
   "source": [
    "### Gear Type"
   ]
  },
  {
   "cell_type": "code",
   "execution_count": 97,
   "metadata": {},
   "outputs": [
    {
     "data": {
      "text/plain": [
       "Manuale           19227\n",
       "Automatico         2306\n",
       "NaN                1715\n",
       "Semiautomatico      370\n",
       "Sequenziale         327\n",
       "Altro                12\n",
       "Name: gearType, dtype: int64"
      ]
     },
     "execution_count": 97,
     "metadata": {},
     "output_type": "execute_result"
    }
   ],
   "source": [
    "df[\"gearType\"].value_counts(dropna=False)\n"
   ]
  },
  {
   "cell_type": "code",
   "execution_count": 98,
   "metadata": {},
   "outputs": [
    {
     "name": "stdout",
     "output_type": "stream",
     "text": [
      "year            (1949.999, 2011.0]  (2011.0, 2012.0]  (2012.0, 2013.0]  \\\n",
      "gearType                                                                 \n",
      "Altro                            1                 0                 2   \n",
      "Automatico                      76               284               157   \n",
      "Manuale                       4973              2712              2079   \n",
      "Semiautomatico                   8                39                22   \n",
      "Sequenziale                     15                40                13   \n",
      "All                           5073              3075              2273   \n",
      "\n",
      "year            (2013.0, 2015.0]  (2015.0, 2016.0]  (2016.0, 2018.0]  \\\n",
      "gearType                                                               \n",
      "Altro                          1                 0                 1   \n",
      "Automatico                   316               383               545   \n",
      "Manuale                     3701              1810              2630   \n",
      "Semiautomatico                89                70                69   \n",
      "Sequenziale                   44                52                56   \n",
      "All                         4151              2315              3301   \n",
      "\n",
      "year            (2018.0, 2022.0]    All  \n",
      "gearType                                 \n",
      "Altro                          7     12  \n",
      "Automatico                   545   2306  \n",
      "Manuale                     1322  19227  \n",
      "Semiautomatico                73    370  \n",
      "Sequenziale                  107    327  \n",
      "All                         2054  22242  \n"
     ]
    }
   ],
   "source": [
    "print(pd.crosstab(df[\"gearType\"], df[\"year\"], margins=True))\n"
   ]
  },
  {
   "cell_type": "code",
   "execution_count": 99,
   "metadata": {},
   "outputs": [
    {
     "data": {
      "text/plain": [
       "Manuale           20942\n",
       "Automatico         2306\n",
       "Semiautomatico      370\n",
       "Sequenziale         327\n",
       "Altro                12\n",
       "Name: gearType, dtype: int64"
      ]
     },
     "execution_count": 99,
     "metadata": {},
     "output_type": "execute_result"
    }
   ],
   "source": [
    "mask = (df[\"gearType\"].isnull()) & (df[\"year\"].apply(str) != \"(2013.0, 2022.0]\")\n",
    "df.loc[mask, \"gearType\"] = \"Manuale\"\n",
    "df[\"gearType\"].value_counts(dropna=False)\n"
   ]
  },
  {
   "cell_type": "code",
   "execution_count": 100,
   "metadata": {},
   "outputs": [
    {
     "data": {
      "text/plain": [
       "Manuale       20942\n",
       "Automatico     2306\n",
       "Altro           709\n",
       "Name: gearType, dtype: int64"
      ]
     },
     "execution_count": 100,
     "metadata": {},
     "output_type": "execute_result"
    }
   ],
   "source": [
    "mask = (df[\"gearType\"] == \"Semiautomatico\") | (df[\"gearType\"] == \"Sequenziale\")\n",
    "df.loc[mask, \"gearType\"] = \"Altro\"\n",
    "df[\"gearType\"].value_counts(dropna=False)\n"
   ]
  },
  {
   "cell_type": "code",
   "execution_count": 101,
   "metadata": {},
   "outputs": [
    {
     "data": {
      "text/plain": [
       "Manuale       20942\n",
       "Automatico     2306\n",
       "Altro           709\n",
       "Name: gearType, dtype: int64"
      ]
     },
     "execution_count": 101,
     "metadata": {},
     "output_type": "execute_result"
    }
   ],
   "source": [
    "# Filling nans\n",
    "lm = len(df[df[\"gearType\"] == \"Manuale\"])\n",
    "lau = len(df[df[\"gearType\"] == \"Automatico\"])\n",
    "lal = len(df[df[\"gearType\"] == \"Altro\"])\n",
    "\n",
    "df_random = df[df[\"gearType\"].isnull()].sample(frac=lal / (lal + lau + lm))\n",
    "df.loc[df_random.index, \"gearType\"] = \"Altro\"\n",
    "df_random = df[df[\"gearType\"].isnull()].sample(frac=lau / (lal + lau + lm))\n",
    "df.loc[df_random.index, \"gearType\"] = \"Automatico\"\n",
    "df.loc[df[\"gearType\"].isnull(), \"gearType\"] = \"Manuale\"\n",
    "df[\"gearType\"].value_counts(dropna=False)\n"
   ]
  },
  {
   "cell_type": "markdown",
   "metadata": {},
   "source": [
    "### Date"
   ]
  },
  {
   "cell_type": "code",
   "execution_count": 102,
   "metadata": {},
   "outputs": [
    {
     "data": {
      "text/html": [
       "<div>\n",
       "<style scoped>\n",
       "    .dataframe tbody tr th:only-of-type {\n",
       "        vertical-align: middle;\n",
       "    }\n",
       "\n",
       "    .dataframe tbody tr th {\n",
       "        vertical-align: top;\n",
       "    }\n",
       "\n",
       "    .dataframe thead th {\n",
       "        text-align: right;\n",
       "    }\n",
       "</style>\n",
       "<table border=\"1\" class=\"dataframe\">\n",
       "  <thead>\n",
       "    <tr style=\"text-align: right;\">\n",
       "      <th></th>\n",
       "      <th>updatedAt</th>\n",
       "      <th>createdAt</th>\n",
       "      <th>created_dt</th>\n",
       "      <th>dataCreazione</th>\n",
       "      <th>dataUpdate</th>\n",
       "    </tr>\n",
       "  </thead>\n",
       "  <tbody>\n",
       "    <tr>\n",
       "      <th>7209</th>\n",
       "      <td>2022-03-16T09:09:22Z</td>\n",
       "      <td>2022-01-27T10:48:16Z</td>\n",
       "      <td>2022-01-27 10:48:16+00:00</td>\n",
       "      <td>2022-01-27</td>\n",
       "      <td>2022-03-16</td>\n",
       "    </tr>\n",
       "    <tr>\n",
       "      <th>2743</th>\n",
       "      <td>2022-03-16T09:21:11Z</td>\n",
       "      <td>2022-01-27T10:56:49Z</td>\n",
       "      <td>2022-01-27 10:56:49+00:00</td>\n",
       "      <td>2022-01-27</td>\n",
       "      <td>2022-03-16</td>\n",
       "    </tr>\n",
       "    <tr>\n",
       "      <th>4548</th>\n",
       "      <td>2022-03-16T09:17:16Z</td>\n",
       "      <td>2022-01-27T10:53:34Z</td>\n",
       "      <td>2022-01-27 10:53:34+00:00</td>\n",
       "      <td>2022-01-27</td>\n",
       "      <td>2022-03-16</td>\n",
       "    </tr>\n",
       "    <tr>\n",
       "      <th>4547</th>\n",
       "      <td>2022-03-16T09:14:46Z</td>\n",
       "      <td>2022-01-27T10:53:38Z</td>\n",
       "      <td>2022-01-27 10:53:38+00:00</td>\n",
       "      <td>2022-01-27</td>\n",
       "      <td>2022-03-16</td>\n",
       "    </tr>\n",
       "    <tr>\n",
       "      <th>4546</th>\n",
       "      <td>2022-03-16T09:07:51Z</td>\n",
       "      <td>2022-01-27T10:47:44Z</td>\n",
       "      <td>2022-01-27 10:47:44+00:00</td>\n",
       "      <td>2022-01-27</td>\n",
       "      <td>2022-03-16</td>\n",
       "    </tr>\n",
       "    <tr>\n",
       "      <th>...</th>\n",
       "      <td>...</td>\n",
       "      <td>...</td>\n",
       "      <td>...</td>\n",
       "      <td>...</td>\n",
       "      <td>...</td>\n",
       "    </tr>\n",
       "    <tr>\n",
       "      <th>21974</th>\n",
       "      <td>2021-05-22T21:31:03Z</td>\n",
       "      <td>2021-03-25T13:51:13Z</td>\n",
       "      <td>2021-03-25 13:51:13+00:00</td>\n",
       "      <td>2021-03-25</td>\n",
       "      <td>2021-05-22</td>\n",
       "    </tr>\n",
       "    <tr>\n",
       "      <th>13104</th>\n",
       "      <td>2021-05-22T21:15:11Z</td>\n",
       "      <td>2021-05-16T11:33:18Z</td>\n",
       "      <td>2021-05-16 11:33:18+00:00</td>\n",
       "      <td>2021-05-16</td>\n",
       "      <td>2021-05-22</td>\n",
       "    </tr>\n",
       "    <tr>\n",
       "      <th>21958</th>\n",
       "      <td>2021-05-22T21:29:30Z</td>\n",
       "      <td>2021-04-01T18:30:30Z</td>\n",
       "      <td>2021-04-01 18:30:30+00:00</td>\n",
       "      <td>2021-04-01</td>\n",
       "      <td>2021-05-22</td>\n",
       "    </tr>\n",
       "    <tr>\n",
       "      <th>21938</th>\n",
       "      <td>2021-05-22T21:27:22Z</td>\n",
       "      <td>2021-04-13T01:25:58Z</td>\n",
       "      <td>2021-04-13 01:25:58+00:00</td>\n",
       "      <td>2021-04-13</td>\n",
       "      <td>2021-05-22</td>\n",
       "    </tr>\n",
       "    <tr>\n",
       "      <th>21875</th>\n",
       "      <td>2021-05-22T21:21:26Z</td>\n",
       "      <td>2021-05-03T15:54:53Z</td>\n",
       "      <td>2021-05-03 15:54:53+00:00</td>\n",
       "      <td>2021-05-03</td>\n",
       "      <td>2021-05-22</td>\n",
       "    </tr>\n",
       "  </tbody>\n",
       "</table>\n",
       "<p>23957 rows × 5 columns</p>\n",
       "</div>"
      ],
      "text/plain": [
       "                  updatedAt             createdAt                 created_dt  \\\n",
       "7209   2022-03-16T09:09:22Z  2022-01-27T10:48:16Z  2022-01-27 10:48:16+00:00   \n",
       "2743   2022-03-16T09:21:11Z  2022-01-27T10:56:49Z  2022-01-27 10:56:49+00:00   \n",
       "4548   2022-03-16T09:17:16Z  2022-01-27T10:53:34Z  2022-01-27 10:53:34+00:00   \n",
       "4547   2022-03-16T09:14:46Z  2022-01-27T10:53:38Z  2022-01-27 10:53:38+00:00   \n",
       "4546   2022-03-16T09:07:51Z  2022-01-27T10:47:44Z  2022-01-27 10:47:44+00:00   \n",
       "...                     ...                   ...                        ...   \n",
       "21974  2021-05-22T21:31:03Z  2021-03-25T13:51:13Z  2021-03-25 13:51:13+00:00   \n",
       "13104  2021-05-22T21:15:11Z  2021-05-16T11:33:18Z  2021-05-16 11:33:18+00:00   \n",
       "21958  2021-05-22T21:29:30Z  2021-04-01T18:30:30Z  2021-04-01 18:30:30+00:00   \n",
       "21938  2021-05-22T21:27:22Z  2021-04-13T01:25:58Z  2021-04-13 01:25:58+00:00   \n",
       "21875  2021-05-22T21:21:26Z  2021-05-03T15:54:53Z  2021-05-03 15:54:53+00:00   \n",
       "\n",
       "      dataCreazione dataUpdate  \n",
       "7209     2022-01-27 2022-03-16  \n",
       "2743     2022-01-27 2022-03-16  \n",
       "4548     2022-01-27 2022-03-16  \n",
       "4547     2022-01-27 2022-03-16  \n",
       "4546     2022-01-27 2022-03-16  \n",
       "...             ...        ...  \n",
       "21974    2021-03-25 2021-05-22  \n",
       "13104    2021-05-16 2021-05-22  \n",
       "21958    2021-04-01 2021-05-22  \n",
       "21938    2021-04-13 2021-05-22  \n",
       "21875    2021-05-03 2021-05-22  \n",
       "\n",
       "[23957 rows x 5 columns]"
      ]
     },
     "execution_count": 102,
     "metadata": {},
     "output_type": "execute_result"
    }
   ],
   "source": [
    "df[[\"updatedAt\", \"createdAt\", \"created_dt\", \"dataCreazione\", \"dataUpdate\"]]\n"
   ]
  },
  {
   "cell_type": "code",
   "execution_count": 103,
   "metadata": {},
   "outputs": [],
   "source": [
    "to_drop.append(\"createdAt\")\n",
    "to_drop.append(\"created_dt\")\n",
    "to_drop.append(\"updatedAt\")\n",
    "to_drop.append(\"dataCreazione\")\n"
   ]
  },
  {
   "cell_type": "code",
   "execution_count": 104,
   "metadata": {},
   "outputs": [],
   "source": [
    "df = df.rename(columns={\"dataUpdate\": \"data\"})\n",
    "#From now on this is the ad date!"
   ]
  },
  {
   "cell_type": "markdown",
   "metadata": {},
   "source": [
    "### Price"
   ]
  },
  {
   "cell_type": "code",
   "execution_count": 105,
   "metadata": {},
   "outputs": [
    {
     "data": {
      "text/plain": [
       "8500     808\n",
       "7500     785\n",
       "6500     643\n",
       "8000     515\n",
       "9500     515\n",
       "        ... \n",
       "16899      1\n",
       "33000      1\n",
       "3190       1\n",
       "6666       1\n",
       "16190      1\n",
       "Name: price, Length: 865, dtype: int64"
      ]
     },
     "execution_count": 105,
     "metadata": {},
     "output_type": "execute_result"
    }
   ],
   "source": [
    "df[\"price\"].value_counts(dropna=False)\n"
   ]
  },
  {
   "cell_type": "code",
   "execution_count": 106,
   "metadata": {},
   "outputs": [
    {
     "data": {
      "text/plain": [
       "16427    110\n",
       "9520     160\n",
       "9599     170\n",
       "11680    180\n",
       "24811    123\n",
       "23817    399\n",
       "5014       1\n",
       "25663    150\n",
       "21987    272\n",
       "12706    300\n",
       "19277    299\n",
       "14796    140\n",
       "21260    250\n",
       "14857    200\n",
       "8407     280\n",
       "22375    111\n",
       "17984    450\n",
       "19982    400\n",
       "17419    150\n",
       "19538    110\n",
       "26327      1\n",
       "13071    180\n",
       "Name: price, dtype: int64"
      ]
     },
     "execution_count": 106,
     "metadata": {},
     "output_type": "execute_result"
    }
   ],
   "source": [
    "df.loc[df[\"price\"] < 500, \"price\"]\n"
   ]
  },
  {
   "cell_type": "code",
   "execution_count": 107,
   "metadata": {},
   "outputs": [],
   "source": [
    "# Set a boundary\n",
    "df.loc[df[\"price\"] < 250, \"price\"] = 250\n"
   ]
  },
  {
   "cell_type": "markdown",
   "metadata": {},
   "source": [
    "### Check point"
   ]
  },
  {
   "cell_type": "code",
   "execution_count": 108,
   "metadata": {},
   "outputs": [],
   "source": [
    "os.makedirs(\"../Dataframes\", exist_ok=True)\n",
    "df.to_csv(\"../Dataframes/df_pulito.csv\", index=False)\n"
   ]
  },
  {
   "cell_type": "code",
   "execution_count": 109,
   "metadata": {},
   "outputs": [],
   "source": [
    "# df = pd.read_csv(\"../Dataframes/df_pulito.csv\")\n"
   ]
  },
  {
   "cell_type": "markdown",
   "metadata": {},
   "source": [
    "## Selecting features\n",
    "We did clean the data applying some sort of feature selection: only the features that seem to have a strong impact on the price were kept."
   ]
  },
  {
   "cell_type": "code",
   "execution_count": 110,
   "metadata": {},
   "outputs": [],
   "source": [
    "df.drop(to_drop, inplace=True, axis=1)"
   ]
  },
  {
   "cell_type": "code",
   "execution_count": 111,
   "metadata": {},
   "outputs": [
    {
     "name": "stdout",
     "output_type": "stream",
     "text": [
      "<class 'pandas.core.frame.DataFrame'>\n",
      "Int64Index: 23957 entries, 7209 to 21875\n",
      "Data columns (total 9 columns):\n",
      " #   Column    Non-Null Count  Dtype                   \n",
      "---  ------    --------------  -----                   \n",
      " 0   ecoClass  23957 non-null  object                  \n",
      " 1   bodyType  23957 non-null  object                  \n",
      " 2   year      23957 non-null  interval[float64, right]\n",
      " 3   price     23957 non-null  int64                   \n",
      " 4   km        23957 non-null  interval[float64, right]\n",
      " 5   supply    23957 non-null  object                  \n",
      " 6   gearType  23957 non-null  object                  \n",
      " 7   citta     23957 non-null  object                  \n",
      " 8   data      23957 non-null  datetime64[ns]          \n",
      "dtypes: datetime64[ns](1), int64(1), interval(2), object(5)\n",
      "memory usage: 2.7+ MB\n"
     ]
    }
   ],
   "source": [
    "df.info()\n"
   ]
  },
  {
   "cell_type": "code",
   "execution_count": 112,
   "metadata": {},
   "outputs": [
    {
     "name": "stdout",
     "output_type": "stream",
     "text": [
      "<class 'pandas.core.frame.DataFrame'>\n",
      "Int64Index: 23957 entries, 7209 to 21875\n",
      "Data columns (total 9 columns):\n",
      " #   Column    Non-Null Count  Dtype         \n",
      "---  ------    --------------  -----         \n",
      " 0   ecoClass  23957 non-null  object        \n",
      " 1   bodyType  23957 non-null  object        \n",
      " 2   year      23957 non-null  object        \n",
      " 3   price     23957 non-null  int64         \n",
      " 4   km        23957 non-null  object        \n",
      " 5   supply    23957 non-null  object        \n",
      " 6   gearType  23957 non-null  object        \n",
      " 7   citta     23957 non-null  object        \n",
      " 8   data      23957 non-null  datetime64[ns]\n",
      "dtypes: datetime64[ns](1), int64(1), object(7)\n",
      "memory usage: 2.3+ MB\n"
     ]
    }
   ],
   "source": [
    "df[\"year\"] = df[\"year\"].astype(\"str\")\n",
    "df[\"km\"] = df[\"km\"].astype(\"str\")\n",
    "df.info()\n"
   ]
  },
  {
   "cell_type": "code",
   "execution_count": 113,
   "metadata": {},
   "outputs": [
    {
     "data": {
      "image/png": "[encoded data removed]",
      "text/plain": [
       "<Figure size 1440x720 with 2 Axes>"
      ]
     },
     "metadata": {
      "needs_background": "light"
     },
     "output_type": "display_data"
    },
    {
     "data": {
      "text/plain": [
       "{'corr':                 ecoClass (nom)  bodyType (nom)  year (nom)  price (con)  \\\n",
       " ecoClass (nom)        1.000000        0.305184    0.505025     0.549401   \n",
       " bodyType (nom)        0.305184        1.000000    0.093269     0.129413   \n",
       " year (nom)            0.505025        0.093269    1.000000     0.806932   \n",
       " price (con)           0.549401        0.129413    0.806932     1.000000   \n",
       " km (nom)              0.331182        0.093897    0.370416     0.720357   \n",
       " supply (nom)          0.080371        0.092226    0.100696     0.065894   \n",
       " gearType (nom)        0.137677        0.052954    0.201672     0.294755   \n",
       " citta (nom)           0.325596        0.309726    0.293287     0.493311   \n",
       " data (con)            0.024761        0.016679    0.074551     0.055496   \n",
       " \n",
       "                 km (nom)  supply (nom)  gearType (nom)  citta (nom)  \\\n",
       " ecoClass (nom)  0.331182      0.080371        0.137677     0.325596   \n",
       " bodyType (nom)  0.093897      0.092226        0.052954     0.309726   \n",
       " year (nom)      0.370416      0.100696        0.201672     0.293287   \n",
       " price (con)     0.720357      0.065894        0.294755     0.493311   \n",
       " km (nom)        1.000000      0.071984        0.137793     0.312921   \n",
       " supply (nom)    0.071984      1.000000        0.053912     0.255080   \n",
       " gearType (nom)  0.137793      0.053912        1.000000     0.285573   \n",
       " citta (nom)     0.312921      0.255080        0.285573     1.000000   \n",
       " data (con)      0.094474      0.102274        0.030824     0.379597   \n",
       " \n",
       "                 data (con)  \n",
       " ecoClass (nom)    0.024761  \n",
       " bodyType (nom)    0.016679  \n",
       " year (nom)        0.074551  \n",
       " price (con)       0.055496  \n",
       " km (nom)          0.094474  \n",
       " supply (nom)      0.102274  \n",
       " gearType (nom)    0.030824  \n",
       " citta (nom)       0.379597  \n",
       " data (con)        1.000000  ,\n",
       " 'ax': <AxesSubplot:>}"
      ]
     },
     "execution_count": 113,
     "metadata": {},
     "output_type": "execute_result"
    }
   ],
   "source": [
    "nominal.associations(df, figsize=(20, 10), mark_columns=True)\n"
   ]
  },
  {
   "cell_type": "code",
   "execution_count": 114,
   "metadata": {},
   "outputs": [],
   "source": [
    "# Let's keep only strong relations\n",
    "to_drop = [\"bodyType\", \"gearType\", \"supply\"]\n",
    "df.drop(to_drop, axis=1, inplace=True)\n"
   ]
  },
  {
   "cell_type": "code",
   "execution_count": 115,
   "metadata": {},
   "outputs": [
    {
     "name": "stdout",
     "output_type": "stream",
     "text": [
      "<class 'pandas.core.frame.DataFrame'>\n",
      "Int64Index: 23957 entries, 7209 to 21875\n",
      "Data columns (total 6 columns):\n",
      " #   Column    Non-Null Count  Dtype         \n",
      "---  ------    --------------  -----         \n",
      " 0   ecoClass  23957 non-null  object        \n",
      " 1   year      23957 non-null  object        \n",
      " 2   price     23957 non-null  int64         \n",
      " 3   km        23957 non-null  object        \n",
      " 4   citta     23957 non-null  object        \n",
      " 5   data      23957 non-null  datetime64[ns]\n",
      "dtypes: datetime64[ns](1), int64(1), object(4)\n",
      "memory usage: 1.8+ MB\n"
     ]
    }
   ],
   "source": [
    "df.info()\n"
   ]
  },
  {
   "cell_type": "code",
   "execution_count": 116,
   "metadata": {},
   "outputs": [
    {
     "data": {
      "image/png": "[encoded data removed]",
      "text/plain": [
       "<Figure size 1440x720 with 2 Axes>"
      ]
     },
     "metadata": {
      "needs_background": "light"
     },
     "output_type": "display_data"
    }
   ],
   "source": [
    "nominal.associations(df,figsize=(20,10),mark_columns=True);"
   ]
  },
  {
   "cell_type": "markdown",
   "metadata": {},
   "source": [
    "### Check point"
   ]
  },
  {
   "cell_type": "code",
   "execution_count": 117,
   "metadata": {},
   "outputs": [],
   "source": [
    "os.makedirs(\"../Dataframes\", exist_ok=True)\n",
    "df.to_csv(\"../Dataframes/df_precluster.csv\", index=False)\n"
   ]
  },
  {
   "cell_type": "code",
   "execution_count": null,
   "metadata": {},
   "outputs": [],
   "source": [
    "#df = pd.read_csv(\"../Dataframes/df_precluster.csv\")"
   ]
  },
  {
   "cell_type": "markdown",
   "metadata": {},
   "source": [
    "## Clustering"
   ]
  },
  {
   "cell_type": "markdown",
   "metadata": {},
   "source": [
    "### Introduction\n",
    "Since we only have categorical features and to avoid an umbearable computational weight, I will go on with k-modes to create the clusters. This is a simple, but powerful, method to build easily interpretable clusters."
   ]
  },
  {
   "cell_type": "code",
   "execution_count": 118,
   "metadata": {},
   "outputs": [],
   "source": [
    "dfMatrix = df[[\"ecoClass\", \"year\", \"km\", \"citta\"]]\n"
   ]
  },
  {
   "cell_type": "markdown",
   "metadata": {},
   "source": [
    "### Number of clusters\n",
    "Elbow method for number of clusters"
   ]
  },
  {
   "cell_type": "code",
   "execution_count": 119,
   "metadata": {},
   "outputs": [
    {
     "name": "stdout",
     "output_type": "stream",
     "text": [
      "N clusters:  1\n",
      "---Creation of cluster\n",
      "---Clustering\n",
      "---Getting metrics\n",
      "N clusters:  2\n",
      "---Creation of cluster\n",
      "---Clustering\n",
      "---Getting metrics\n",
      "N clusters:  3\n",
      "---Creation of cluster\n",
      "---Clustering\n",
      "---Getting metrics\n",
      "N clusters:  4\n",
      "---Creation of cluster\n",
      "---Clustering\n",
      "---Getting metrics\n",
      "N clusters:  5\n",
      "---Creation of cluster\n",
      "---Clustering\n",
      "---Getting metrics\n",
      "N clusters:  6\n",
      "---Creation of cluster\n",
      "---Clustering\n",
      "---Getting metrics\n",
      "N clusters:  7\n",
      "---Creation of cluster\n",
      "---Clustering\n",
      "---Getting metrics\n",
      "N clusters:  8\n",
      "---Creation of cluster\n",
      "---Clustering\n",
      "---Getting metrics\n",
      "N clusters:  9\n",
      "---Creation of cluster\n",
      "---Clustering\n",
      "---Getting metrics\n"
     ]
    }
   ],
   "source": [
    "# Scelta del numero di cluster\n",
    "cost = []\n",
    "K = range(1, 10)\n",
    "for cluster in K:\n",
    "    print(\"N clusters: \", cluster)\n",
    "    print(\"---Creation of cluster\")\n",
    "    kmodes = KModes(n_jobs=-1, n_clusters=cluster, init=\"Huang\", random_state=0)\n",
    "    print(\"---Clustering\")\n",
    "    kmodes.fit_predict(dfMatrix)\n",
    "    print(\"---Getting metrics\")\n",
    "    cost.append(kmodes.cost_)\n",
    "\n"
   ]
  },
  {
   "cell_type": "code",
   "execution_count": 120,
   "metadata": {},
   "outputs": [
    {
     "data": {
      "image/png": "[encoded data removed]",
      "text/plain": [
       "<Figure size 432x288 with 1 Axes>"
      ]
     },
     "metadata": {
      "needs_background": "light"
     },
     "output_type": "display_data"
    }
   ],
   "source": [
    "# It seems that 2-3 clusters could be the optimal number\n",
    "plt.plot(K, cost, 'bx-')\n",
    "plt.xlabel('k clusters')\n",
    "plt.ylabel('Cost')\n",
    "plt.title('Elbow Method For Optimal k')\n",
    "plt.show()"
   ]
  },
  {
   "cell_type": "markdown",
   "metadata": {},
   "source": [
    "### Two clusters"
   ]
  },
  {
   "cell_type": "markdown",
   "metadata": {},
   "source": [
    "#### Building clusters"
   ]
  },
  {
   "cell_type": "code",
   "execution_count": 121,
   "metadata": {},
   "outputs": [
    {
     "data": {
      "text/plain": [
       "array([1, 0, 0, ..., 0, 1, 0], dtype=uint16)"
      ]
     },
     "execution_count": 121,
     "metadata": {},
     "output_type": "execute_result"
    }
   ],
   "source": [
    "# Costruzione dei cluster, in base al miglior numero di cluster secondo l'elbow\n",
    "kmodes = KModes(n_jobs=-1, n_clusters=2, init=\"Huang\", random_state=0)\n",
    "kmodes.fit_predict(dfMatrix)\n"
   ]
  },
  {
   "cell_type": "code",
   "execution_count": 122,
   "metadata": {},
   "outputs": [],
   "source": [
    "# Aggiungiamo i cluster al df originale\n",
    "df[\"ClusterLabels\"] = kmodes.labels_\n"
   ]
  },
  {
   "cell_type": "markdown",
   "metadata": {},
   "source": [
    "#### Check point"
   ]
  },
  {
   "cell_type": "code",
   "execution_count": 123,
   "metadata": {},
   "outputs": [],
   "source": [
    "os.makedirs('../Dataframes', exist_ok=True)  \n",
    "df.to_csv('../Dataframes/df_clustered_2.csv', index = False)"
   ]
  },
  {
   "cell_type": "code",
   "execution_count": 380,
   "metadata": {},
   "outputs": [],
   "source": [
    "# df = pd.read_csv(\"../Dataframes/df_clustered_2.csv\")\n"
   ]
  },
  {
   "cell_type": "markdown",
   "metadata": {},
   "source": [
    "#### Interpreting"
   ]
  },
  {
   "cell_type": "markdown",
   "metadata": {},
   "source": [
    "##### Prep"
   ]
  },
  {
   "cell_type": "code",
   "execution_count": 124,
   "metadata": {},
   "outputs": [
    {
     "data": {
      "text/html": [
       "<div>\n",
       "<style scoped>\n",
       "    .dataframe tbody tr th:only-of-type {\n",
       "        vertical-align: middle;\n",
       "    }\n",
       "\n",
       "    .dataframe tbody tr th {\n",
       "        vertical-align: top;\n",
       "    }\n",
       "\n",
       "    .dataframe thead th {\n",
       "        text-align: right;\n",
       "    }\n",
       "</style>\n",
       "<table border=\"1\" class=\"dataframe\">\n",
       "  <thead>\n",
       "    <tr style=\"text-align: right;\">\n",
       "      <th></th>\n",
       "      <th>comune</th>\n",
       "      <th>Regione</th>\n",
       "    </tr>\n",
       "  </thead>\n",
       "  <tbody>\n",
       "    <tr>\n",
       "      <th>0</th>\n",
       "      <td>abano terme</td>\n",
       "      <td>Veneto</td>\n",
       "    </tr>\n",
       "    <tr>\n",
       "      <th>1</th>\n",
       "      <td>abbadia cerreto</td>\n",
       "      <td>Lombardia</td>\n",
       "    </tr>\n",
       "    <tr>\n",
       "      <th>2</th>\n",
       "      <td>abbadia lariana</td>\n",
       "      <td>Lombardia</td>\n",
       "    </tr>\n",
       "    <tr>\n",
       "      <th>3</th>\n",
       "      <td>abbadia san salvatore</td>\n",
       "      <td>Toscana</td>\n",
       "    </tr>\n",
       "    <tr>\n",
       "      <th>4</th>\n",
       "      <td>abbasanta</td>\n",
       "      <td>Sardegna</td>\n",
       "    </tr>\n",
       "    <tr>\n",
       "      <th>...</th>\n",
       "      <td>...</td>\n",
       "      <td>...</td>\n",
       "    </tr>\n",
       "    <tr>\n",
       "      <th>7973</th>\n",
       "      <td>zuglio</td>\n",
       "      <td>Friuli-Venezia Giulia</td>\n",
       "    </tr>\n",
       "    <tr>\n",
       "      <th>7974</th>\n",
       "      <td>zumaglia</td>\n",
       "      <td>Piemonte</td>\n",
       "    </tr>\n",
       "    <tr>\n",
       "      <th>7975</th>\n",
       "      <td>zumpano</td>\n",
       "      <td>Calabria</td>\n",
       "    </tr>\n",
       "    <tr>\n",
       "      <th>7976</th>\n",
       "      <td>zungoli</td>\n",
       "      <td>Campania</td>\n",
       "    </tr>\n",
       "    <tr>\n",
       "      <th>7977</th>\n",
       "      <td>zungri</td>\n",
       "      <td>Calabria</td>\n",
       "    </tr>\n",
       "  </tbody>\n",
       "</table>\n",
       "<p>7978 rows × 2 columns</p>\n",
       "</div>"
      ],
      "text/plain": [
       "                     comune                Regione\n",
       "0               abano terme                 Veneto\n",
       "1           abbadia cerreto              Lombardia\n",
       "2           abbadia lariana              Lombardia\n",
       "3     abbadia san salvatore                Toscana\n",
       "4                 abbasanta               Sardegna\n",
       "...                     ...                    ...\n",
       "7973                 zuglio  Friuli-Venezia Giulia\n",
       "7974               zumaglia               Piemonte\n",
       "7975                zumpano               Calabria\n",
       "7976                zungoli               Campania\n",
       "7977                 zungri               Calabria\n",
       "\n",
       "[7978 rows x 2 columns]"
      ]
     },
     "execution_count": 124,
     "metadata": {},
     "output_type": "execute_result"
    }
   ],
   "source": [
    "# Let's add the info about geo-region\n",
    "df_regione = pd.read_csv(\"../Dataset/province_regioni_italia.csv\")\n",
    "df_citta = pd.read_csv(\"../Dataset/comuni_italiani.csv\")\n",
    "df_citta = pd.merge(left = df_citta, right = df_regione, how = \"left\", left_on = \"provincia\", right_on = \"Provincia\")\n",
    "df_citta[\"comune\"] = df_citta[\"comune\"].str.lower()\n",
    "df_citta = df_citta[[\"comune\", \"Regione\"]]\n",
    "df_citta"
   ]
  },
  {
   "cell_type": "code",
   "execution_count": 125,
   "metadata": {},
   "outputs": [
    {
     "data": {
      "text/html": [
       "<div>\n",
       "<style scoped>\n",
       "    .dataframe tbody tr th:only-of-type {\n",
       "        vertical-align: middle;\n",
       "    }\n",
       "\n",
       "    .dataframe tbody tr th {\n",
       "        vertical-align: top;\n",
       "    }\n",
       "\n",
       "    .dataframe thead th {\n",
       "        text-align: right;\n",
       "    }\n",
       "</style>\n",
       "<table border=\"1\" class=\"dataframe\">\n",
       "  <thead>\n",
       "    <tr style=\"text-align: right;\">\n",
       "      <th></th>\n",
       "      <th>ecoClass</th>\n",
       "      <th>year</th>\n",
       "      <th>price</th>\n",
       "      <th>km</th>\n",
       "      <th>citta</th>\n",
       "      <th>data</th>\n",
       "      <th>ClusterLabels</th>\n",
       "      <th>comune</th>\n",
       "      <th>Regione</th>\n",
       "    </tr>\n",
       "  </thead>\n",
       "  <tbody>\n",
       "    <tr>\n",
       "      <th>0</th>\n",
       "      <td>Euro 5</td>\n",
       "      <td>(2013.0, 2015.0]</td>\n",
       "      <td>11500</td>\n",
       "      <td>(140000.0, 170000.0]</td>\n",
       "      <td>pogliano milanese</td>\n",
       "      <td>2022-03-16</td>\n",
       "      <td>1</td>\n",
       "      <td>pogliano milanese</td>\n",
       "      <td>Lombardia</td>\n",
       "    </tr>\n",
       "    <tr>\n",
       "      <th>1</th>\n",
       "      <td>Euro 6</td>\n",
       "      <td>(2018.0, 2022.0]</td>\n",
       "      <td>19990</td>\n",
       "      <td>(-0.001, 49000.0]</td>\n",
       "      <td>mantova</td>\n",
       "      <td>2022-03-16</td>\n",
       "      <td>0</td>\n",
       "      <td>mantova</td>\n",
       "      <td>Lombardia</td>\n",
       "    </tr>\n",
       "    <tr>\n",
       "      <th>2</th>\n",
       "      <td>Euro 6</td>\n",
       "      <td>(2018.0, 2022.0]</td>\n",
       "      <td>15500</td>\n",
       "      <td>(113076.0, 140000.0]</td>\n",
       "      <td>gallipoli</td>\n",
       "      <td>2022-03-16</td>\n",
       "      <td>0</td>\n",
       "      <td>gallipoli</td>\n",
       "      <td>Puglia</td>\n",
       "    </tr>\n",
       "    <tr>\n",
       "      <th>3</th>\n",
       "      <td>Euro 6</td>\n",
       "      <td>(2016.0, 2018.0]</td>\n",
       "      <td>15500</td>\n",
       "      <td>(49000.0, 86000.0]</td>\n",
       "      <td>parabita</td>\n",
       "      <td>2022-03-16</td>\n",
       "      <td>0</td>\n",
       "      <td>parabita</td>\n",
       "      <td>Puglia</td>\n",
       "    </tr>\n",
       "    <tr>\n",
       "      <th>4</th>\n",
       "      <td>Euro 5</td>\n",
       "      <td>(2013.0, 2015.0]</td>\n",
       "      <td>9900</td>\n",
       "      <td>(113076.0, 140000.0]</td>\n",
       "      <td>castenedolo</td>\n",
       "      <td>2022-03-16</td>\n",
       "      <td>1</td>\n",
       "      <td>castenedolo</td>\n",
       "      <td>Lombardia</td>\n",
       "    </tr>\n",
       "    <tr>\n",
       "      <th>...</th>\n",
       "      <td>...</td>\n",
       "      <td>...</td>\n",
       "      <td>...</td>\n",
       "      <td>...</td>\n",
       "      <td>...</td>\n",
       "      <td>...</td>\n",
       "      <td>...</td>\n",
       "      <td>...</td>\n",
       "      <td>...</td>\n",
       "    </tr>\n",
       "    <tr>\n",
       "      <th>23958</th>\n",
       "      <td>Pre-Euro 4</td>\n",
       "      <td>(2012.0, 2013.0]</td>\n",
       "      <td>4500</td>\n",
       "      <td>(170000.0, 99999999.0]</td>\n",
       "      <td>pomigliano d'arco</td>\n",
       "      <td>2021-05-22</td>\n",
       "      <td>1</td>\n",
       "      <td>pomigliano d'arco</td>\n",
       "      <td>Campania</td>\n",
       "    </tr>\n",
       "    <tr>\n",
       "      <th>23959</th>\n",
       "      <td>Pre-Euro 4</td>\n",
       "      <td>(2011.0, 2012.0]</td>\n",
       "      <td>6500</td>\n",
       "      <td>(140000.0, 170000.0]</td>\n",
       "      <td>torino</td>\n",
       "      <td>2021-05-22</td>\n",
       "      <td>0</td>\n",
       "      <td>torino</td>\n",
       "      <td>Piemonte</td>\n",
       "    </tr>\n",
       "    <tr>\n",
       "      <th>23960</th>\n",
       "      <td>Euro 6</td>\n",
       "      <td>(2016.0, 2018.0]</td>\n",
       "      <td>13900</td>\n",
       "      <td>(86000.0, 113076.0]</td>\n",
       "      <td>mongrando</td>\n",
       "      <td>2021-05-22</td>\n",
       "      <td>0</td>\n",
       "      <td>mongrando</td>\n",
       "      <td>Piemonte</td>\n",
       "    </tr>\n",
       "    <tr>\n",
       "      <th>23961</th>\n",
       "      <td>Euro 5</td>\n",
       "      <td>(2013.0, 2015.0]</td>\n",
       "      <td>7900</td>\n",
       "      <td>(170000.0, 99999999.0]</td>\n",
       "      <td>cavallino</td>\n",
       "      <td>2021-05-22</td>\n",
       "      <td>1</td>\n",
       "      <td>cavallino</td>\n",
       "      <td>Puglia</td>\n",
       "    </tr>\n",
       "    <tr>\n",
       "      <th>23962</th>\n",
       "      <td>Euro 6</td>\n",
       "      <td>(2015.0, 2016.0]</td>\n",
       "      <td>13200</td>\n",
       "      <td>(49000.0, 86000.0]</td>\n",
       "      <td>roma</td>\n",
       "      <td>2021-05-22</td>\n",
       "      <td>0</td>\n",
       "      <td>roma</td>\n",
       "      <td>NaN</td>\n",
       "    </tr>\n",
       "  </tbody>\n",
       "</table>\n",
       "<p>23963 rows × 9 columns</p>\n",
       "</div>"
      ],
      "text/plain": [
       "         ecoClass              year  price                      km  \\\n",
       "0          Euro 5  (2013.0, 2015.0]  11500    (140000.0, 170000.0]   \n",
       "1          Euro 6  (2018.0, 2022.0]  19990       (-0.001, 49000.0]   \n",
       "2          Euro 6  (2018.0, 2022.0]  15500    (113076.0, 140000.0]   \n",
       "3          Euro 6  (2016.0, 2018.0]  15500      (49000.0, 86000.0]   \n",
       "4          Euro 5  (2013.0, 2015.0]   9900    (113076.0, 140000.0]   \n",
       "...           ...               ...    ...                     ...   \n",
       "23958  Pre-Euro 4  (2012.0, 2013.0]   4500  (170000.0, 99999999.0]   \n",
       "23959  Pre-Euro 4  (2011.0, 2012.0]   6500    (140000.0, 170000.0]   \n",
       "23960      Euro 6  (2016.0, 2018.0]  13900     (86000.0, 113076.0]   \n",
       "23961      Euro 5  (2013.0, 2015.0]   7900  (170000.0, 99999999.0]   \n",
       "23962      Euro 6  (2015.0, 2016.0]  13200      (49000.0, 86000.0]   \n",
       "\n",
       "                   citta       data  ClusterLabels             comune  \\\n",
       "0      pogliano milanese 2022-03-16              1  pogliano milanese   \n",
       "1                mantova 2022-03-16              0            mantova   \n",
       "2              gallipoli 2022-03-16              0          gallipoli   \n",
       "3               parabita 2022-03-16              0           parabita   \n",
       "4            castenedolo 2022-03-16              1        castenedolo   \n",
       "...                  ...        ...            ...                ...   \n",
       "23958  pomigliano d'arco 2021-05-22              1  pomigliano d'arco   \n",
       "23959             torino 2021-05-22              0             torino   \n",
       "23960          mongrando 2021-05-22              0          mongrando   \n",
       "23961          cavallino 2021-05-22              1          cavallino   \n",
       "23962               roma 2021-05-22              0               roma   \n",
       "\n",
       "         Regione  \n",
       "0      Lombardia  \n",
       "1      Lombardia  \n",
       "2         Puglia  \n",
       "3         Puglia  \n",
       "4      Lombardia  \n",
       "...          ...  \n",
       "23958   Campania  \n",
       "23959   Piemonte  \n",
       "23960   Piemonte  \n",
       "23961     Puglia  \n",
       "23962        NaN  \n",
       "\n",
       "[23963 rows x 9 columns]"
      ]
     },
     "execution_count": 125,
     "metadata": {},
     "output_type": "execute_result"
    }
   ],
   "source": [
    "df = pd.merge(left = df, right = df_citta, how = \"left\", left_on =\"citta\", right_on = \"comune\" )\n",
    "df "
   ]
  },
  {
   "cell_type": "code",
   "execution_count": 126,
   "metadata": {},
   "outputs": [
    {
     "data": {
      "text/plain": [
       "roma         663\n",
       "monza         85\n",
       "cesena        67\n",
       "brugherio     31\n",
       "ciampino      30\n",
       "            ... \n",
       "lesmo          1\n",
       "châtillon      1\n",
       "ornavasso      1\n",
       "predappio      1\n",
       "masainas       1\n",
       "Name: comune, Length: 154, dtype: int64"
      ]
     },
     "execution_count": 126,
     "metadata": {},
     "output_type": "execute_result"
    }
   ],
   "source": [
    "# Abbiamo qualche null, probabilmente dovuto a problemi di formati o a qualche perdita di info durante i merge\n",
    "df.loc[df[\"Regione\"].isnull(),\"comune\"].value_counts()"
   ]
  },
  {
   "cell_type": "code",
   "execution_count": 127,
   "metadata": {},
   "outputs": [
    {
     "data": {
      "text/plain": [
       "0    Sicilia\n",
       "Name: Regione, dtype: object"
      ]
     },
     "execution_count": 127,
     "metadata": {},
     "output_type": "execute_result"
    }
   ],
   "source": [
    "# filling nans\n",
    "df.loc[df[\"comune\"] == \"roma\", \"Regione\"] = \"Lazio\"\n",
    "df.loc[df[\"comune\"] == \"monza\", \"Regione\"] = \"Lombardia\"\n",
    "df.loc[df[\"comune\"] == \"cesena\", \"Regione\"] = \"Emilia-Romagna\"\n",
    "df.loc[df[\"comune\"] == \"brugherio\", \"Regione\"] = \"Lombardia\"\n",
    "df.loc[df[\"comune\"] == \"ciampino\", \"Regione\"] = \"Lombardia\"\n",
    "df.loc[df[\"comune\"] == \"tivoli\", \"Regione\"] = \"Lombardia\"\n",
    "df.loc[df[\"comune\"] == \"fiumicino\", \"Regione\"] = \"Lazio\"\n",
    "df.loc[df[\"comune\"] == \"marino\", \"Regione\"] = \"Lazio\"\n",
    "df.loc[df[\"comune\"] == \"carrara\", \"Regione\"] = \"Toscana\"\n",
    "df.loc[df[\"comune\"] == \"fiumicino\", \"Regione\"] = \"Lazio\"\n",
    "df.loc[df[\"comune\"] == \"desio\", \"Regione\"] = \"Lombardia\"\n",
    "df.loc[df[\"comune\"] == \"busnago\", \"Regione\"] = \"Lombardia\"\n",
    "df[\"Regione\"].mode()\n"
   ]
  },
  {
   "cell_type": "code",
   "execution_count": 128,
   "metadata": {},
   "outputs": [],
   "source": [
    "df.loc[df[\"Regione\"].isnull(), \"Regione\"] = \"Sicilia\"\n"
   ]
  },
  {
   "cell_type": "code",
   "execution_count": 129,
   "metadata": {},
   "outputs": [
    {
     "data": {
      "text/plain": [
       "Series([], Name: comune, dtype: int64)"
      ]
     },
     "execution_count": 129,
     "metadata": {},
     "output_type": "execute_result"
    }
   ],
   "source": [
    "df.loc[df[\"Regione\"].isnull(), \"comune\"].value_counts()\n"
   ]
  },
  {
   "cell_type": "markdown",
   "metadata": {},
   "source": [
    "##### Viz"
   ]
  },
  {
   "cell_type": "code",
   "execution_count": 130,
   "metadata": {},
   "outputs": [],
   "source": [
    "to_plot = [\"ecoClass\", \"year\", \"km\", \"Regione\"]\n"
   ]
  },
  {
   "cell_type": "code",
   "execution_count": 132,
   "metadata": {},
   "outputs": [
    {
     "name": "stdout",
     "output_type": "stream",
     "text": [
      "cluster 0 has: 12540 ads\n",
      "cluster 1 has: 11423 ads\n"
     ]
    }
   ],
   "source": [
    "n_cluster0 = len(df[df[\"ClusterLabels\"] == 0])\n",
    "n_cluster1 = len(df[df[\"ClusterLabels\"] == 1])\n",
    "print(\"cluster 0 has:\", n_cluster0, \"ads\")\n",
    "print(\"cluster 1 has:\", n_cluster1, \"ads\")\n"
   ]
  },
  {
   "cell_type": "code",
   "execution_count": 133,
   "metadata": {},
   "outputs": [
    {
     "data": {
      "image/png": "[encoded data removed]",
      "text/plain": [
       "<Figure size 1080x360 with 1 Axes>"
      ]
     },
     "metadata": {
      "needs_background": "light"
     },
     "output_type": "display_data"
    },
    {
     "data": {
      "image/png": "[encoded data removed]",
      "text/plain": [
       "<Figure size 1080x360 with 1 Axes>"
      ]
     },
     "metadata": {
      "needs_background": "light"
     },
     "output_type": "display_data"
    },
    {
     "data": {
      "image/png": "[encoded data removed]",
      "text/plain": [
       "<Figure size 1080x360 with 1 Axes>"
      ]
     },
     "metadata": {
      "needs_background": "light"
     },
     "output_type": "display_data"
    },
    {
     "data": {
      "image/png": "[encoded data removed]",
      "text/plain": [
       "<Figure size 1080x360 with 1 Axes>"
      ]
     },
     "metadata": {
      "needs_background": "light"
     },
     "output_type": "display_data"
    }
   ],
   "source": [
    "for col in to_plot:\n",
    "    plt.subplots(figsize = (15,5))\n",
    "    sns.countplot(x='ClusterLabels',hue=col, data = df)\n",
    "    plt.show()"
   ]
  },
  {
   "cell_type": "markdown",
   "metadata": {},
   "source": [
    "##### Remarks\n",
    "The graphs make it quite easy to understand what we obtained with the clusters. Let's try to analyze the price per cluster overy the year"
   ]
  },
  {
   "cell_type": "markdown",
   "metadata": {},
   "source": [
    "#### Price trend"
   ]
  },
  {
   "cell_type": "markdown",
   "metadata": {},
   "source": [
    "##### Preparation"
   ]
  },
  {
   "cell_type": "code",
   "execution_count": 134,
   "metadata": {},
   "outputs": [
    {
     "data": {
      "text/html": [
       "<div>\n",
       "<style scoped>\n",
       "    .dataframe tbody tr th:only-of-type {\n",
       "        vertical-align: middle;\n",
       "    }\n",
       "\n",
       "    .dataframe tbody tr th {\n",
       "        vertical-align: top;\n",
       "    }\n",
       "\n",
       "    .dataframe thead th {\n",
       "        text-align: right;\n",
       "    }\n",
       "</style>\n",
       "<table border=\"1\" class=\"dataframe\">\n",
       "  <thead>\n",
       "    <tr style=\"text-align: right;\">\n",
       "      <th></th>\n",
       "      <th>data</th>\n",
       "      <th>price</th>\n",
       "      <th>ClusterLabels</th>\n",
       "      <th>year</th>\n",
       "      <th>month</th>\n",
       "    </tr>\n",
       "  </thead>\n",
       "  <tbody>\n",
       "    <tr>\n",
       "      <th>187</th>\n",
       "      <td>2022-02-22</td>\n",
       "      <td>17200</td>\n",
       "      <td>0</td>\n",
       "      <td>2022</td>\n",
       "      <td>2</td>\n",
       "    </tr>\n",
       "    <tr>\n",
       "      <th>188</th>\n",
       "      <td>2022-02-22</td>\n",
       "      <td>15000</td>\n",
       "      <td>0</td>\n",
       "      <td>2022</td>\n",
       "      <td>2</td>\n",
       "    </tr>\n",
       "    <tr>\n",
       "      <th>189</th>\n",
       "      <td>2022-02-22</td>\n",
       "      <td>9500</td>\n",
       "      <td>0</td>\n",
       "      <td>2022</td>\n",
       "      <td>2</td>\n",
       "    </tr>\n",
       "    <tr>\n",
       "      <th>190</th>\n",
       "      <td>2022-02-22</td>\n",
       "      <td>7950</td>\n",
       "      <td>1</td>\n",
       "      <td>2022</td>\n",
       "      <td>2</td>\n",
       "    </tr>\n",
       "    <tr>\n",
       "      <th>191</th>\n",
       "      <td>2022-02-22</td>\n",
       "      <td>4500</td>\n",
       "      <td>1</td>\n",
       "      <td>2022</td>\n",
       "      <td>2</td>\n",
       "    </tr>\n",
       "    <tr>\n",
       "      <th>...</th>\n",
       "      <td>...</td>\n",
       "      <td>...</td>\n",
       "      <td>...</td>\n",
       "      <td>...</td>\n",
       "      <td>...</td>\n",
       "    </tr>\n",
       "    <tr>\n",
       "      <th>23958</th>\n",
       "      <td>2021-05-22</td>\n",
       "      <td>4500</td>\n",
       "      <td>1</td>\n",
       "      <td>2021</td>\n",
       "      <td>5</td>\n",
       "    </tr>\n",
       "    <tr>\n",
       "      <th>23959</th>\n",
       "      <td>2021-05-22</td>\n",
       "      <td>6500</td>\n",
       "      <td>0</td>\n",
       "      <td>2021</td>\n",
       "      <td>5</td>\n",
       "    </tr>\n",
       "    <tr>\n",
       "      <th>23960</th>\n",
       "      <td>2021-05-22</td>\n",
       "      <td>13900</td>\n",
       "      <td>0</td>\n",
       "      <td>2021</td>\n",
       "      <td>5</td>\n",
       "    </tr>\n",
       "    <tr>\n",
       "      <th>23961</th>\n",
       "      <td>2021-05-22</td>\n",
       "      <td>7900</td>\n",
       "      <td>1</td>\n",
       "      <td>2021</td>\n",
       "      <td>5</td>\n",
       "    </tr>\n",
       "    <tr>\n",
       "      <th>23962</th>\n",
       "      <td>2021-05-22</td>\n",
       "      <td>13200</td>\n",
       "      <td>0</td>\n",
       "      <td>2021</td>\n",
       "      <td>5</td>\n",
       "    </tr>\n",
       "  </tbody>\n",
       "</table>\n",
       "<p>23776 rows × 5 columns</p>\n",
       "</div>"
      ],
      "text/plain": [
       "            data  price  ClusterLabels  year  month\n",
       "187   2022-02-22  17200              0  2022      2\n",
       "188   2022-02-22  15000              0  2022      2\n",
       "189   2022-02-22   9500              0  2022      2\n",
       "190   2022-02-22   7950              1  2022      2\n",
       "191   2022-02-22   4500              1  2022      2\n",
       "...          ...    ...            ...   ...    ...\n",
       "23958 2021-05-22   4500              1  2021      5\n",
       "23959 2021-05-22   6500              0  2021      5\n",
       "23960 2021-05-22  13900              0  2021      5\n",
       "23961 2021-05-22   7900              1  2021      5\n",
       "23962 2021-05-22  13200              0  2021      5\n",
       "\n",
       "[23776 rows x 5 columns]"
      ]
     },
     "execution_count": 134,
     "metadata": {},
     "output_type": "execute_result"
    }
   ],
   "source": [
    "datetime_min = datetime.strptime(\"Feb 1 2021\", \"%b %d %Y\")\n",
    "datetime_max = datetime.strptime(\"Feb 28 2022\", \"%b %d %Y\")\n",
    "df[\"data\"] = pd.to_datetime(df[\"data\"], format=\"%Y-%m-%d\")\n",
    "mask = (df[\"data\"] >= datetime_min) & (df[\"data\"] <= datetime_max)\n",
    "df_plot = df.loc[mask, [\"data\", \"price\", \"ClusterLabels\"]]\n",
    "df_plot[\"year\"] = pd.DatetimeIndex(df_plot[\"data\"]).year\n",
    "df_plot[\"month\"] = pd.DatetimeIndex(df_plot[\"data\"]).month\n",
    "df_plot\n"
   ]
  },
  {
   "cell_type": "code",
   "execution_count": 135,
   "metadata": {},
   "outputs": [
    {
     "data": {
      "text/html": [
       "<div>\n",
       "<style scoped>\n",
       "    .dataframe tbody tr th:only-of-type {\n",
       "        vertical-align: middle;\n",
       "    }\n",
       "\n",
       "    .dataframe tbody tr th {\n",
       "        vertical-align: top;\n",
       "    }\n",
       "\n",
       "    .dataframe thead th {\n",
       "        text-align: right;\n",
       "    }\n",
       "</style>\n",
       "<table border=\"1\" class=\"dataframe\">\n",
       "  <thead>\n",
       "    <tr style=\"text-align: right;\">\n",
       "      <th></th>\n",
       "      <th>data</th>\n",
       "      <th>price</th>\n",
       "      <th>ClusterLabels</th>\n",
       "      <th>year</th>\n",
       "      <th>month</th>\n",
       "      <th>plotDate</th>\n",
       "    </tr>\n",
       "  </thead>\n",
       "  <tbody>\n",
       "    <tr>\n",
       "      <th>187</th>\n",
       "      <td>2022-02-22</td>\n",
       "      <td>17200</td>\n",
       "      <td>0</td>\n",
       "      <td>2022</td>\n",
       "      <td>2</td>\n",
       "      <td>2</td>\n",
       "    </tr>\n",
       "    <tr>\n",
       "      <th>233</th>\n",
       "      <td>2022-02-22</td>\n",
       "      <td>5800</td>\n",
       "      <td>1</td>\n",
       "      <td>2022</td>\n",
       "      <td>2</td>\n",
       "      <td>2</td>\n",
       "    </tr>\n",
       "    <tr>\n",
       "      <th>220</th>\n",
       "      <td>2022-02-22</td>\n",
       "      <td>18000</td>\n",
       "      <td>0</td>\n",
       "      <td>2022</td>\n",
       "      <td>2</td>\n",
       "      <td>2</td>\n",
       "    </tr>\n",
       "    <tr>\n",
       "      <th>221</th>\n",
       "      <td>2022-02-22</td>\n",
       "      <td>16500</td>\n",
       "      <td>0</td>\n",
       "      <td>2022</td>\n",
       "      <td>2</td>\n",
       "      <td>2</td>\n",
       "    </tr>\n",
       "    <tr>\n",
       "      <th>222</th>\n",
       "      <td>2022-02-22</td>\n",
       "      <td>8000</td>\n",
       "      <td>1</td>\n",
       "      <td>2022</td>\n",
       "      <td>2</td>\n",
       "      <td>2</td>\n",
       "    </tr>\n",
       "    <tr>\n",
       "      <th>...</th>\n",
       "      <td>...</td>\n",
       "      <td>...</td>\n",
       "      <td>...</td>\n",
       "      <td>...</td>\n",
       "      <td>...</td>\n",
       "      <td>...</td>\n",
       "    </tr>\n",
       "    <tr>\n",
       "      <th>23297</th>\n",
       "      <td>2021-05-22</td>\n",
       "      <td>8200</td>\n",
       "      <td>0</td>\n",
       "      <td>2021</td>\n",
       "      <td>5</td>\n",
       "      <td>5</td>\n",
       "    </tr>\n",
       "    <tr>\n",
       "      <th>23298</th>\n",
       "      <td>2021-05-22</td>\n",
       "      <td>6900</td>\n",
       "      <td>1</td>\n",
       "      <td>2021</td>\n",
       "      <td>5</td>\n",
       "      <td>5</td>\n",
       "    </tr>\n",
       "    <tr>\n",
       "      <th>23299</th>\n",
       "      <td>2021-05-22</td>\n",
       "      <td>5600</td>\n",
       "      <td>1</td>\n",
       "      <td>2021</td>\n",
       "      <td>5</td>\n",
       "      <td>5</td>\n",
       "    </tr>\n",
       "    <tr>\n",
       "      <th>23300</th>\n",
       "      <td>2021-05-22</td>\n",
       "      <td>11000</td>\n",
       "      <td>0</td>\n",
       "      <td>2021</td>\n",
       "      <td>5</td>\n",
       "      <td>5</td>\n",
       "    </tr>\n",
       "    <tr>\n",
       "      <th>23962</th>\n",
       "      <td>2021-05-22</td>\n",
       "      <td>13200</td>\n",
       "      <td>0</td>\n",
       "      <td>2021</td>\n",
       "      <td>5</td>\n",
       "      <td>5</td>\n",
       "    </tr>\n",
       "  </tbody>\n",
       "</table>\n",
       "<p>23776 rows × 6 columns</p>\n",
       "</div>"
      ],
      "text/plain": [
       "            data  price  ClusterLabels  year  month  plotDate\n",
       "187   2022-02-22  17200              0  2022      2         2\n",
       "233   2022-02-22   5800              1  2022      2         2\n",
       "220   2022-02-22  18000              0  2022      2         2\n",
       "221   2022-02-22  16500              0  2022      2         2\n",
       "222   2022-02-22   8000              1  2022      2         2\n",
       "...          ...    ...            ...   ...    ...       ...\n",
       "23297 2021-05-22   8200              0  2021      5         5\n",
       "23298 2021-05-22   6900              1  2021      5         5\n",
       "23299 2021-05-22   5600              1  2021      5         5\n",
       "23300 2021-05-22  11000              0  2021      5         5\n",
       "23962 2021-05-22  13200              0  2021      5         5\n",
       "\n",
       "[23776 rows x 6 columns]"
      ]
     },
     "execution_count": 135,
     "metadata": {},
     "output_type": "execute_result"
    }
   ],
   "source": [
    "# plotting from month 2 (feb 2021) to 13 (jan 2022)\n",
    "def getPlotDate(row):\n",
    "    if row[\"year\"] == 2022 and row[\"month\"] == 1:\n",
    "        mese = 13\n",
    "    else:\n",
    "        mese = row[\"month\"]\n",
    "    row[\"plotDate\"] = mese\n",
    "    return row\n",
    "\n",
    "\n",
    "df_plot = df_plot.apply(getPlotDate, axis=1)\n",
    "df_plot.sort_values(\"data\", ascending=False, inplace=True)\n",
    "df_plot\n"
   ]
  },
  {
   "cell_type": "markdown",
   "metadata": {},
   "source": [
    "##### Check point"
   ]
  },
  {
   "cell_type": "code",
   "execution_count": 136,
   "metadata": {},
   "outputs": [],
   "source": [
    "os.makedirs(\"../Dataframes\", exist_ok=True)\n",
    "df_plot.to_csv(\"../Dataframes/df_plot_2.csv\", index=False)\n"
   ]
  },
  {
   "cell_type": "code",
   "execution_count": 393,
   "metadata": {},
   "outputs": [],
   "source": [
    "# df_plot = pd.read_csv(\"../Dataframes/df_plot_2.csv\")\n"
   ]
  },
  {
   "cell_type": "markdown",
   "metadata": {},
   "source": [
    "##### Viz"
   ]
  },
  {
   "cell_type": "code",
   "execution_count": 137,
   "metadata": {},
   "outputs": [
    {
     "data": {
      "application/vnd.plotly.v1+json": {
       "config": {
        "plotlyServerURL": "https://plot.ly"
       },
       "data": [
        {
         "hovertemplate": "ClusterLabels=0<br>plotDate=%{x}<br>avgPrice=%{y}<extra></extra>",
         "legendgroup": "0",
         "line": {
          "color": "#636efa",
          "dash": "solid"
         },
         "marker": {
          "symbol": "circle"
         },
         "mode": "lines",
         "name": "0",
         "orientation": "v",
         "showlegend": true,
         "type": "scatter",
         "x": [
          2,
          5,
          6,
          7,
          8,
          9,
          10,
          11,
          12,
          13
         ],
         "xaxis": "x",
         "y": [
          13753.978102189782,
          12542.207956600361,
          12803.635103926097,
          12509.73422818792,
          12698.410878661089,
          12834.229854689564,
          12854.859098228664,
          13154.809170600134,
          13431.20515097691,
          13559.722054380665
         ],
         "yaxis": "y"
        },
        {
         "hovertemplate": "ClusterLabels=1<br>plotDate=%{x}<br>avgPrice=%{y}<extra></extra>",
         "legendgroup": "1",
         "line": {
          "color": "#EF553B",
          "dash": "solid"
         },
         "marker": {
          "symbol": "circle"
         },
         "mode": "lines",
         "name": "1",
         "orientation": "v",
         "showlegend": true,
         "type": "scatter",
         "x": [
          2,
          5,
          6,
          7,
          8,
          9,
          10,
          11,
          12,
          13
         ],
         "xaxis": "x",
         "y": [
          8674.818803418804,
          7601.141592920354,
          7734.929020664869,
          7625.442918454935,
          7683.813977389517,
          7704.916328188465,
          7951.08547008547,
          8161.697224015494,
          8203.14954954955,
          8501.218875502009
         ],
         "yaxis": "y"
        }
       ],
       "layout": {
        "legend": {
         "title": {
          "text": "ClusterLabels"
         },
         "tracegroupgap": 0
        },
        "margin": {
         "t": 60
        },
        "template": {
         "data": {
          "bar": [
           {
            "error_x": {
             "color": "#2a3f5f"
            },
            "error_y": {
             "color": "#2a3f5f"
            },
            "marker": {
             "line": {
              "color": "#E5ECF6",
              "width": 0.5
             },
             "pattern": {
              "fillmode": "overlay",
              "size": 10,
              "solidity": 0.2
             }
            },
            "type": "bar"
           }
          ],
          "barpolar": [
           {
            "marker": {
             "line": {
              "color": "#E5ECF6",
              "width": 0.5
             },
             "pattern": {
              "fillmode": "overlay",
              "size": 10,
              "solidity": 0.2
             }
            },
            "type": "barpolar"
           }
          ],
          "carpet": [
           {
            "aaxis": {
             "endlinecolor": "#2a3f5f",
             "gridcolor": "white",
             "linecolor": "white",
             "minorgridcolor": "white",
             "startlinecolor": "#2a3f5f"
            },
            "baxis": {
             "endlinecolor": "#2a3f5f",
             "gridcolor": "white",
             "linecolor": "white",
             "minorgridcolor": "white",
             "startlinecolor": "#2a3f5f"
            },
            "type": "carpet"
           }
          ],
          "choropleth": [
           {
            "colorbar": {
             "outlinewidth": 0,
             "ticks": ""
            },
            "type": "choropleth"
           }
          ],
          "contour": [
           {
            "colorbar": {
             "outlinewidth": 0,
             "ticks": ""
            },
            "colorscale": [
             [
              0,
              "#0d0887"
             ],
             [
              0.1111111111111111,
              "#46039f"
             ],
             [
              0.2222222222222222,
              "#7201a8"
             ],
             [
              0.3333333333333333,
              "#9c179e"
             ],
             [
              0.4444444444444444,
              "#bd3786"
             ],
             [
              0.5555555555555556,
              "#d8576b"
             ],
             [
              0.6666666666666666,
              "#ed7953"
             ],
             [
              0.7777777777777778,
              "#fb9f3a"
             ],
             [
              0.8888888888888888,
              "#fdca26"
             ],
             [
              1,
              "#f0f921"
             ]
            ],
            "type": "contour"
           }
          ],
          "contourcarpet": [
           {
            "colorbar": {
             "outlinewidth": 0,
             "ticks": ""
            },
            "type": "contourcarpet"
           }
          ],
          "heatmap": [
           {
            "colorbar": {
             "outlinewidth": 0,
             "ticks": ""
            },
            "colorscale": [
             [
              0,
              "#0d0887"
             ],
             [
              0.1111111111111111,
              "#46039f"
             ],
             [
              0.2222222222222222,
              "#7201a8"
             ],
             [
              0.3333333333333333,
              "#9c179e"
             ],
             [
              0.4444444444444444,
              "#bd3786"
             ],
             [
              0.5555555555555556,
              "#d8576b"
             ],
             [
              0.6666666666666666,
              "#ed7953"
             ],
             [
              0.7777777777777778,
              "#fb9f3a"
             ],
             [
              0.8888888888888888,
              "#fdca26"
             ],
             [
              1,
              "#f0f921"
             ]
            ],
            "type": "heatmap"
           }
          ],
          "heatmapgl": [
           {
            "colorbar": {
             "outlinewidth": 0,
             "ticks": ""
            },
            "colorscale": [
             [
              0,
              "#0d0887"
             ],
             [
              0.1111111111111111,
              "#46039f"
             ],
             [
              0.2222222222222222,
              "#7201a8"
             ],
             [
              0.3333333333333333,
              "#9c179e"
             ],
             [
              0.4444444444444444,
              "#bd3786"
             ],
             [
              0.5555555555555556,
              "#d8576b"
             ],
             [
              0.6666666666666666,
              "#ed7953"
             ],
             [
              0.7777777777777778,
              "#fb9f3a"
             ],
             [
              0.8888888888888888,
              "#fdca26"
             ],
             [
              1,
              "#f0f921"
             ]
            ],
            "type": "heatmapgl"
           }
          ],
          "histogram": [
           {
            "marker": {
             "pattern": {
              "fillmode": "overlay",
              "size": 10,
              "solidity": 0.2
             }
            },
            "type": "histogram"
           }
          ],
          "histogram2d": [
           {
            "colorbar": {
             "outlinewidth": 0,
             "ticks": ""
            },
            "colorscale": [
             [
              0,
              "#0d0887"
             ],
             [
              0.1111111111111111,
              "#46039f"
             ],
             [
              0.2222222222222222,
              "#7201a8"
             ],
             [
              0.3333333333333333,
              "#9c179e"
             ],
             [
              0.4444444444444444,
              "#bd3786"
             ],
             [
              0.5555555555555556,
              "#d8576b"
             ],
             [
              0.6666666666666666,
              "#ed7953"
             ],
             [
              0.7777777777777778,
              "#fb9f3a"
             ],
             [
              0.8888888888888888,
              "#fdca26"
             ],
             [
              1,
              "#f0f921"
             ]
            ],
            "type": "histogram2d"
           }
          ],
          "histogram2dcontour": [
           {
            "colorbar": {
             "outlinewidth": 0,
             "ticks": ""
            },
            "colorscale": [
             [
              0,
              "#0d0887"
             ],
             [
              0.1111111111111111,
              "#46039f"
             ],
             [
              0.2222222222222222,
              "#7201a8"
             ],
             [
              0.3333333333333333,
              "#9c179e"
             ],
             [
              0.4444444444444444,
              "#bd3786"
             ],
             [
              0.5555555555555556,
              "#d8576b"
             ],
             [
              0.6666666666666666,
              "#ed7953"
             ],
             [
              0.7777777777777778,
              "#fb9f3a"
             ],
             [
              0.8888888888888888,
              "#fdca26"
             ],
             [
              1,
              "#f0f921"
             ]
            ],
            "type": "histogram2dcontour"
           }
          ],
          "mesh3d": [
           {
            "colorbar": {
             "outlinewidth": 0,
             "ticks": ""
            },
            "type": "mesh3d"
           }
          ],
          "parcoords": [
           {
            "line": {
             "colorbar": {
              "outlinewidth": 0,
              "ticks": ""
             }
            },
            "type": "parcoords"
           }
          ],
          "pie": [
           {
            "automargin": true,
            "type": "pie"
           }
          ],
          "scatter": [
           {
            "fillpattern": {
             "fillmode": "overlay",
             "size": 10,
             "solidity": 0.2
            },
            "type": "scatter"
           }
          ],
          "scatter3d": [
           {
            "line": {
             "colorbar": {
              "outlinewidth": 0,
              "ticks": ""
             }
            },
            "marker": {
             "colorbar": {
              "outlinewidth": 0,
              "ticks": ""
             }
            },
            "type": "scatter3d"
           }
          ],
          "scattercarpet": [
           {
            "marker": {
             "colorbar": {
              "outlinewidth": 0,
              "ticks": ""
             }
            },
            "type": "scattercarpet"
           }
          ],
          "scattergeo": [
           {
            "marker": {
             "colorbar": {
              "outlinewidth": 0,
              "ticks": ""
             }
            },
            "type": "scattergeo"
           }
          ],
          "scattergl": [
           {
            "marker": {
             "colorbar": {
              "outlinewidth": 0,
              "ticks": ""
             }
            },
            "type": "scattergl"
           }
          ],
          "scattermapbox": [
           {
            "marker": {
             "colorbar": {
              "outlinewidth": 0,
              "ticks": ""
             }
            },
            "type": "scattermapbox"
           }
          ],
          "scatterpolar": [
           {
            "marker": {
             "colorbar": {
              "outlinewidth": 0,
              "ticks": ""
             }
            },
            "type": "scatterpolar"
           }
          ],
          "scatterpolargl": [
           {
            "marker": {
             "colorbar": {
              "outlinewidth": 0,
              "ticks": ""
             }
            },
            "type": "scatterpolargl"
           }
          ],
          "scatterternary": [
           {
            "marker": {
             "colorbar": {
              "outlinewidth": 0,
              "ticks": ""
             }
            },
            "type": "scatterternary"
           }
          ],
          "surface": [
           {
            "colorbar": {
             "outlinewidth": 0,
             "ticks": ""
            },
            "colorscale": [
             [
              0,
              "#0d0887"
             ],
             [
              0.1111111111111111,
              "#46039f"
             ],
             [
              0.2222222222222222,
              "#7201a8"
             ],
             [
              0.3333333333333333,
              "#9c179e"
             ],
             [
              0.4444444444444444,
              "#bd3786"
             ],
             [
              0.5555555555555556,
              "#d8576b"
             ],
             [
              0.6666666666666666,
              "#ed7953"
             ],
             [
              0.7777777777777778,
              "#fb9f3a"
             ],
             [
              0.8888888888888888,
              "#fdca26"
             ],
             [
              1,
              "#f0f921"
             ]
            ],
            "type": "surface"
           }
          ],
          "table": [
           {
            "cells": {
             "fill": {
              "color": "#EBF0F8"
             },
             "line": {
              "color": "white"
             }
            },
            "header": {
             "fill": {
              "color": "#C8D4E3"
             },
             "line": {
              "color": "white"
             }
            },
            "type": "table"
           }
          ]
         },
         "layout": {
          "annotationdefaults": {
           "arrowcolor": "#2a3f5f",
           "arrowhead": 0,
           "arrowwidth": 1
          },
          "autotypenumbers": "strict",
          "coloraxis": {
           "colorbar": {
            "outlinewidth": 0,
            "ticks": ""
           }
          },
          "colorscale": {
           "diverging": [
            [
             0,
             "#8e0152"
            ],
            [
             0.1,
             "#c51b7d"
            ],
            [
             0.2,
             "#de77ae"
            ],
            [
             0.3,
             "#f1b6da"
            ],
            [
             0.4,
             "#fde0ef"
            ],
            [
             0.5,
             "#f7f7f7"
            ],
            [
             0.6,
             "#e6f5d0"
            ],
            [
             0.7,
             "#b8e186"
            ],
            [
             0.8,
             "#7fbc41"
            ],
            [
             0.9,
             "#4d9221"
            ],
            [
             1,
             "#276419"
            ]
           ],
           "sequential": [
            [
             0,
             "#0d0887"
            ],
            [
             0.1111111111111111,
             "#46039f"
            ],
            [
             0.2222222222222222,
             "#7201a8"
            ],
            [
             0.3333333333333333,
             "#9c179e"
            ],
            [
             0.4444444444444444,
             "#bd3786"
            ],
            [
             0.5555555555555556,
             "#d8576b"
            ],
            [
             0.6666666666666666,
             "#ed7953"
            ],
            [
             0.7777777777777778,
             "#fb9f3a"
            ],
            [
             0.8888888888888888,
             "#fdca26"
            ],
            [
             1,
             "#f0f921"
            ]
           ],
           "sequentialminus": [
            [
             0,
             "#0d0887"
            ],
            [
             0.1111111111111111,
             "#46039f"
            ],
            [
             0.2222222222222222,
             "#7201a8"
            ],
            [
             0.3333333333333333,
             "#9c179e"
            ],
            [
             0.4444444444444444,
             "#bd3786"
            ],
            [
             0.5555555555555556,
             "#d8576b"
            ],
            [
             0.6666666666666666,
             "#ed7953"
            ],
            [
             0.7777777777777778,
             "#fb9f3a"
            ],
            [
             0.8888888888888888,
             "#fdca26"
            ],
            [
             1,
             "#f0f921"
            ]
           ]
          },
          "colorway": [
           "#636efa",
           "#EF553B",
           "#00cc96",
           "#ab63fa",
           "#FFA15A",
           "#19d3f3",
           "#FF6692",
           "#B6E880",
           "#FF97FF",
           "#FECB52"
          ],
          "font": {
           "color": "#2a3f5f"
          },
          "geo": {
           "bgcolor": "white",
           "lakecolor": "white",
           "landcolor": "#E5ECF6",
           "showlakes": true,
           "showland": true,
           "subunitcolor": "white"
          },
          "hoverlabel": {
           "align": "left"
          },
          "hovermode": "closest",
          "mapbox": {
           "style": "light"
          },
          "paper_bgcolor": "white",
          "plot_bgcolor": "#E5ECF6",
          "polar": {
           "angularaxis": {
            "gridcolor": "white",
            "linecolor": "white",
            "ticks": ""
           },
           "bgcolor": "#E5ECF6",
           "radialaxis": {
            "gridcolor": "white",
            "linecolor": "white",
            "ticks": ""
           }
          },
          "scene": {
           "xaxis": {
            "backgroundcolor": "#E5ECF6",
            "gridcolor": "white",
            "gridwidth": 2,
            "linecolor": "white",
            "showbackground": true,
            "ticks": "",
            "zerolinecolor": "white"
           },
           "yaxis": {
            "backgroundcolor": "#E5ECF6",
            "gridcolor": "white",
            "gridwidth": 2,
            "linecolor": "white",
            "showbackground": true,
            "ticks": "",
            "zerolinecolor": "white"
           },
           "zaxis": {
            "backgroundcolor": "#E5ECF6",
            "gridcolor": "white",
            "gridwidth": 2,
            "linecolor": "white",
            "showbackground": true,
            "ticks": "",
            "zerolinecolor": "white"
           }
          },
          "shapedefaults": {
           "line": {
            "color": "#2a3f5f"
           }
          },
          "ternary": {
           "aaxis": {
            "gridcolor": "white",
            "linecolor": "white",
            "ticks": ""
           },
           "baxis": {
            "gridcolor": "white",
            "linecolor": "white",
            "ticks": ""
           },
           "bgcolor": "#E5ECF6",
           "caxis": {
            "gridcolor": "white",
            "linecolor": "white",
            "ticks": ""
           }
          },
          "title": {
           "x": 0.05
          },
          "xaxis": {
           "automargin": true,
           "gridcolor": "white",
           "linecolor": "white",
           "ticks": "",
           "title": {
            "standoff": 15
           },
           "zerolinecolor": "white",
           "zerolinewidth": 2
          },
          "yaxis": {
           "automargin": true,
           "gridcolor": "white",
           "linecolor": "white",
           "ticks": "",
           "title": {
            "standoff": 15
           },
           "zerolinecolor": "white",
           "zerolinewidth": 2
          }
         }
        },
        "xaxis": {
         "anchor": "y",
         "domain": [
          0,
          1
         ],
         "title": {
          "text": "plotDate"
         }
        },
        "yaxis": {
         "anchor": "x",
         "domain": [
          0,
          1
         ],
         "title": {
          "text": "avgPrice"
         }
        }
       }
      }
     },
     "metadata": {},
     "output_type": "display_data"
    }
   ],
   "source": [
    "df_agg = df_plot.groupby([\"ClusterLabels\", \"plotDate\"])[\"price\"].agg(\n",
    "    {(\"avgPrice\", lambda x: x.mean())}\n",
    ")\n",
    "df_agg.reset_index(inplace=True)\n",
    "fig = px.line(df_agg, x=\"plotDate\", y=\"avgPrice\", color=\"ClusterLabels\")\n",
    "fig.show()\n"
   ]
  },
  {
   "cell_type": "code",
   "execution_count": 138,
   "metadata": {},
   "outputs": [
    {
     "data": {
      "application/vnd.plotly.v1+json": {
       "config": {
        "plotlyServerURL": "https://plot.ly"
       },
       "data": [
        {
         "hovertemplate": "ClusterLabels=0<br>plotDate=%{x}<br>medianPrice=%{y}<extra></extra>",
         "legendgroup": "0",
         "line": {
          "color": "#636efa",
          "dash": "solid"
         },
         "marker": {
          "symbol": "circle"
         },
         "mode": "lines",
         "name": "0",
         "orientation": "v",
         "showlegend": true,
         "type": "scatter",
         "x": [
          2,
          5,
          6,
          7,
          8,
          9,
          10,
          11,
          12,
          13
         ],
         "xaxis": "x",
         "y": [
          13800,
          12000,
          12500,
          12000,
          12000,
          12500,
          12500,
          12900,
          13300,
          13500
         ],
         "yaxis": "y"
        },
        {
         "hovertemplate": "ClusterLabels=1<br>plotDate=%{x}<br>medianPrice=%{y}<extra></extra>",
         "legendgroup": "1",
         "line": {
          "color": "#EF553B",
          "dash": "solid"
         },
         "marker": {
          "symbol": "circle"
         },
         "mode": "lines",
         "name": "1",
         "orientation": "v",
         "showlegend": true,
         "type": "scatter",
         "x": [
          2,
          5,
          6,
          7,
          8,
          9,
          10,
          11,
          12,
          13
         ],
         "xaxis": "x",
         "y": [
          8300,
          7300,
          7499,
          7499,
          7500,
          7500,
          7800,
          7900,
          7900,
          8045
         ],
         "yaxis": "y"
        }
       ],
       "layout": {
        "legend": {
         "title": {
          "text": "ClusterLabels"
         },
         "tracegroupgap": 0
        },
        "margin": {
         "t": 60
        },
        "template": {
         "data": {
          "bar": [
           {
            "error_x": {
             "color": "#2a3f5f"
            },
            "error_y": {
             "color": "#2a3f5f"
            },
            "marker": {
             "line": {
              "color": "#E5ECF6",
              "width": 0.5
             },
             "pattern": {
              "fillmode": "overlay",
              "size": 10,
              "solidity": 0.2
             }
            },
            "type": "bar"
           }
          ],
          "barpolar": [
           {
            "marker": {
             "line": {
              "color": "#E5ECF6",
              "width": 0.5
             },
             "pattern": {
              "fillmode": "overlay",
              "size": 10,
              "solidity": 0.2
             }
            },
            "type": "barpolar"
           }
          ],
          "carpet": [
           {
            "aaxis": {
             "endlinecolor": "#2a3f5f",
             "gridcolor": "white",
             "linecolor": "white",
             "minorgridcolor": "white",
             "startlinecolor": "#2a3f5f"
            },
            "baxis": {
             "endlinecolor": "#2a3f5f",
             "gridcolor": "white",
             "linecolor": "white",
             "minorgridcolor": "white",
             "startlinecolor": "#2a3f5f"
            },
            "type": "carpet"
           }
          ],
          "choropleth": [
           {
            "colorbar": {
             "outlinewidth": 0,
             "ticks": ""
            },
            "type": "choropleth"
           }
          ],
          "contour": [
           {
            "colorbar": {
             "outlinewidth": 0,
             "ticks": ""
            },
            "colorscale": [
             [
              0,
              "#0d0887"
             ],
             [
              0.1111111111111111,
              "#46039f"
             ],
             [
              0.2222222222222222,
              "#7201a8"
             ],
             [
              0.3333333333333333,
              "#9c179e"
             ],
             [
              0.4444444444444444,
              "#bd3786"
             ],
             [
              0.5555555555555556,
              "#d8576b"
             ],
             [
              0.6666666666666666,
              "#ed7953"
             ],
             [
              0.7777777777777778,
              "#fb9f3a"
             ],
             [
              0.8888888888888888,
              "#fdca26"
             ],
             [
              1,
              "#f0f921"
             ]
            ],
            "type": "contour"
           }
          ],
          "contourcarpet": [
           {
            "colorbar": {
             "outlinewidth": 0,
             "ticks": ""
            },
            "type": "contourcarpet"
           }
          ],
          "heatmap": [
           {
            "colorbar": {
             "outlinewidth": 0,
             "ticks": ""
            },
            "colorscale": [
             [
              0,
              "#0d0887"
             ],
             [
              0.1111111111111111,
              "#46039f"
             ],
             [
              0.2222222222222222,
              "#7201a8"
             ],
             [
              0.3333333333333333,
              "#9c179e"
             ],
             [
              0.4444444444444444,
              "#bd3786"
             ],
             [
              0.5555555555555556,
              "#d8576b"
             ],
             [
              0.6666666666666666,
              "#ed7953"
             ],
             [
              0.7777777777777778,
              "#fb9f3a"
             ],
             [
              0.8888888888888888,
              "#fdca26"
             ],
             [
              1,
              "#f0f921"
             ]
            ],
            "type": "heatmap"
           }
          ],
          "heatmapgl": [
           {
            "colorbar": {
             "outlinewidth": 0,
             "ticks": ""
            },
            "colorscale": [
             [
              0,
              "#0d0887"
             ],
             [
              0.1111111111111111,
              "#46039f"
             ],
             [
              0.2222222222222222,
              "#7201a8"
             ],
             [
              0.3333333333333333,
              "#9c179e"
             ],
             [
              0.4444444444444444,
              "#bd3786"
             ],
             [
              0.5555555555555556,
              "#d8576b"
             ],
             [
              0.6666666666666666,
              "#ed7953"
             ],
             [
              0.7777777777777778,
              "#fb9f3a"
             ],
             [
              0.8888888888888888,
              "#fdca26"
             ],
             [
              1,
              "#f0f921"
             ]
            ],
            "type": "heatmapgl"
           }
          ],
          "histogram": [
           {
            "marker": {
             "pattern": {
              "fillmode": "overlay",
              "size": 10,
              "solidity": 0.2
             }
            },
            "type": "histogram"
           }
          ],
          "histogram2d": [
           {
            "colorbar": {
             "outlinewidth": 0,
             "ticks": ""
            },
            "colorscale": [
             [
              0,
              "#0d0887"
             ],
             [
              0.1111111111111111,
              "#46039f"
             ],
             [
              0.2222222222222222,
              "#7201a8"
             ],
             [
              0.3333333333333333,
              "#9c179e"
             ],
             [
              0.4444444444444444,
              "#bd3786"
             ],
             [
              0.5555555555555556,
              "#d8576b"
             ],
             [
              0.6666666666666666,
              "#ed7953"
             ],
             [
              0.7777777777777778,
              "#fb9f3a"
             ],
             [
              0.8888888888888888,
              "#fdca26"
             ],
             [
              1,
              "#f0f921"
             ]
            ],
            "type": "histogram2d"
           }
          ],
          "histogram2dcontour": [
           {
            "colorbar": {
             "outlinewidth": 0,
             "ticks": ""
            },
            "colorscale": [
             [
              0,
              "#0d0887"
             ],
             [
              0.1111111111111111,
              "#46039f"
             ],
             [
              0.2222222222222222,
              "#7201a8"
             ],
             [
              0.3333333333333333,
              "#9c179e"
             ],
             [
              0.4444444444444444,
              "#bd3786"
             ],
             [
              0.5555555555555556,
              "#d8576b"
             ],
             [
              0.6666666666666666,
              "#ed7953"
             ],
             [
              0.7777777777777778,
              "#fb9f3a"
             ],
             [
              0.8888888888888888,
              "#fdca26"
             ],
             [
              1,
              "#f0f921"
             ]
            ],
            "type": "histogram2dcontour"
           }
          ],
          "mesh3d": [
           {
            "colorbar": {
             "outlinewidth": 0,
             "ticks": ""
            },
            "type": "mesh3d"
           }
          ],
          "parcoords": [
           {
            "line": {
             "colorbar": {
              "outlinewidth": 0,
              "ticks": ""
             }
            },
            "type": "parcoords"
           }
          ],
          "pie": [
           {
            "automargin": true,
            "type": "pie"
           }
          ],
          "scatter": [
           {
            "fillpattern": {
             "fillmode": "overlay",
             "size": 10,
             "solidity": 0.2
            },
            "type": "scatter"
           }
          ],
          "scatter3d": [
           {
            "line": {
             "colorbar": {
              "outlinewidth": 0,
              "ticks": ""
             }
            },
            "marker": {
             "colorbar": {
              "outlinewidth": 0,
              "ticks": ""
             }
            },
            "type": "scatter3d"
           }
          ],
          "scattercarpet": [
           {
            "marker": {
             "colorbar": {
              "outlinewidth": 0,
              "ticks": ""
             }
            },
            "type": "scattercarpet"
           }
          ],
          "scattergeo": [
           {
            "marker": {
             "colorbar": {
              "outlinewidth": 0,
              "ticks": ""
             }
            },
            "type": "scattergeo"
           }
          ],
          "scattergl": [
           {
            "marker": {
             "colorbar": {
              "outlinewidth": 0,
              "ticks": ""
             }
            },
            "type": "scattergl"
           }
          ],
          "scattermapbox": [
           {
            "marker": {
             "colorbar": {
              "outlinewidth": 0,
              "ticks": ""
             }
            },
            "type": "scattermapbox"
           }
          ],
          "scatterpolar": [
           {
            "marker": {
             "colorbar": {
              "outlinewidth": 0,
              "ticks": ""
             }
            },
            "type": "scatterpolar"
           }
          ],
          "scatterpolargl": [
           {
            "marker": {
             "colorbar": {
              "outlinewidth": 0,
              "ticks": ""
             }
            },
            "type": "scatterpolargl"
           }
          ],
          "scatterternary": [
           {
            "marker": {
             "colorbar": {
              "outlinewidth": 0,
              "ticks": ""
             }
            },
            "type": "scatterternary"
           }
          ],
          "surface": [
           {
            "colorbar": {
             "outlinewidth": 0,
             "ticks": ""
            },
            "colorscale": [
             [
              0,
              "#0d0887"
             ],
             [
              0.1111111111111111,
              "#46039f"
             ],
             [
              0.2222222222222222,
              "#7201a8"
             ],
             [
              0.3333333333333333,
              "#9c179e"
             ],
             [
              0.4444444444444444,
              "#bd3786"
             ],
             [
              0.5555555555555556,
              "#d8576b"
             ],
             [
              0.6666666666666666,
              "#ed7953"
             ],
             [
              0.7777777777777778,
              "#fb9f3a"
             ],
             [
              0.8888888888888888,
              "#fdca26"
             ],
             [
              1,
              "#f0f921"
             ]
            ],
            "type": "surface"
           }
          ],
          "table": [
           {
            "cells": {
             "fill": {
              "color": "#EBF0F8"
             },
             "line": {
              "color": "white"
             }
            },
            "header": {
             "fill": {
              "color": "#C8D4E3"
             },
             "line": {
              "color": "white"
             }
            },
            "type": "table"
           }
          ]
         },
         "layout": {
          "annotationdefaults": {
           "arrowcolor": "#2a3f5f",
           "arrowhead": 0,
           "arrowwidth": 1
          },
          "autotypenumbers": "strict",
          "coloraxis": {
           "colorbar": {
            "outlinewidth": 0,
            "ticks": ""
           }
          },
          "colorscale": {
           "diverging": [
            [
             0,
             "#8e0152"
            ],
            [
             0.1,
             "#c51b7d"
            ],
            [
             0.2,
             "#de77ae"
            ],
            [
             0.3,
             "#f1b6da"
            ],
            [
             0.4,
             "#fde0ef"
            ],
            [
             0.5,
             "#f7f7f7"
            ],
            [
             0.6,
             "#e6f5d0"
            ],
            [
             0.7,
             "#b8e186"
            ],
            [
             0.8,
             "#7fbc41"
            ],
            [
             0.9,
             "#4d9221"
            ],
            [
             1,
             "#276419"
            ]
           ],
           "sequential": [
            [
             0,
             "#0d0887"
            ],
            [
             0.1111111111111111,
             "#46039f"
            ],
            [
             0.2222222222222222,
             "#7201a8"
            ],
            [
             0.3333333333333333,
             "#9c179e"
            ],
            [
             0.4444444444444444,
             "#bd3786"
            ],
            [
             0.5555555555555556,
             "#d8576b"
            ],
            [
             0.6666666666666666,
             "#ed7953"
            ],
            [
             0.7777777777777778,
             "#fb9f3a"
            ],
            [
             0.8888888888888888,
             "#fdca26"
            ],
            [
             1,
             "#f0f921"
            ]
           ],
           "sequentialminus": [
            [
             0,
             "#0d0887"
            ],
            [
             0.1111111111111111,
             "#46039f"
            ],
            [
             0.2222222222222222,
             "#7201a8"
            ],
            [
             0.3333333333333333,
             "#9c179e"
            ],
            [
             0.4444444444444444,
             "#bd3786"
            ],
            [
             0.5555555555555556,
             "#d8576b"
            ],
            [
             0.6666666666666666,
             "#ed7953"
            ],
            [
             0.7777777777777778,
             "#fb9f3a"
            ],
            [
             0.8888888888888888,
             "#fdca26"
            ],
            [
             1,
             "#f0f921"
            ]
           ]
          },
          "colorway": [
           "#636efa",
           "#EF553B",
           "#00cc96",
           "#ab63fa",
           "#FFA15A",
           "#19d3f3",
           "#FF6692",
           "#B6E880",
           "#FF97FF",
           "#FECB52"
          ],
          "font": {
           "color": "#2a3f5f"
          },
          "geo": {
           "bgcolor": "white",
           "lakecolor": "white",
           "landcolor": "#E5ECF6",
           "showlakes": true,
           "showland": true,
           "subunitcolor": "white"
          },
          "hoverlabel": {
           "align": "left"
          },
          "hovermode": "closest",
          "mapbox": {
           "style": "light"
          },
          "paper_bgcolor": "white",
          "plot_bgcolor": "#E5ECF6",
          "polar": {
           "angularaxis": {
            "gridcolor": "white",
            "linecolor": "white",
            "ticks": ""
           },
           "bgcolor": "#E5ECF6",
           "radialaxis": {
            "gridcolor": "white",
            "linecolor": "white",
            "ticks": ""
           }
          },
          "scene": {
           "xaxis": {
            "backgroundcolor": "#E5ECF6",
            "gridcolor": "white",
            "gridwidth": 2,
            "linecolor": "white",
            "showbackground": true,
            "ticks": "",
            "zerolinecolor": "white"
           },
           "yaxis": {
            "backgroundcolor": "#E5ECF6",
            "gridcolor": "white",
            "gridwidth": 2,
            "linecolor": "white",
            "showbackground": true,
            "ticks": "",
            "zerolinecolor": "white"
           },
           "zaxis": {
            "backgroundcolor": "#E5ECF6",
            "gridcolor": "white",
            "gridwidth": 2,
            "linecolor": "white",
            "showbackground": true,
            "ticks": "",
            "zerolinecolor": "white"
           }
          },
          "shapedefaults": {
           "line": {
            "color": "#2a3f5f"
           }
          },
          "ternary": {
           "aaxis": {
            "gridcolor": "white",
            "linecolor": "white",
            "ticks": ""
           },
           "baxis": {
            "gridcolor": "white",
            "linecolor": "white",
            "ticks": ""
           },
           "bgcolor": "#E5ECF6",
           "caxis": {
            "gridcolor": "white",
            "linecolor": "white",
            "ticks": ""
           }
          },
          "title": {
           "x": 0.05
          },
          "xaxis": {
           "automargin": true,
           "gridcolor": "white",
           "linecolor": "white",
           "ticks": "",
           "title": {
            "standoff": 15
           },
           "zerolinecolor": "white",
           "zerolinewidth": 2
          },
          "yaxis": {
           "automargin": true,
           "gridcolor": "white",
           "linecolor": "white",
           "ticks": "",
           "title": {
            "standoff": 15
           },
           "zerolinecolor": "white",
           "zerolinewidth": 2
          }
         }
        },
        "xaxis": {
         "anchor": "y",
         "domain": [
          0,
          1
         ],
         "title": {
          "text": "plotDate"
         }
        },
        "yaxis": {
         "anchor": "x",
         "domain": [
          0,
          1
         ],
         "title": {
          "text": "medianPrice"
         }
        }
       }
      }
     },
     "metadata": {},
     "output_type": "display_data"
    }
   ],
   "source": [
    "df_agg = df_plot.groupby([\"ClusterLabels\", \"plotDate\"])[\"price\"].agg(\n",
    "    {(\"medianPrice\", lambda x: x.median())}\n",
    ")\n",
    "df_agg.reset_index(inplace=True)\n",
    "fig = px.line(df_agg, x=\"plotDate\", y=\"medianPrice\", color=\"ClusterLabels\")\n",
    "fig.show()\n"
   ]
  },
  {
   "cell_type": "code",
   "execution_count": 139,
   "metadata": {},
   "outputs": [
    {
     "data": {
      "application/vnd.plotly.v1+json": {
       "config": {
        "plotlyServerURL": "https://plot.ly"
       },
       "data": [
        {
         "hovertemplate": "ClusterLabels=0<br>plotDate=%{x}<br>maxPrice=%{y}<extra></extra>",
         "legendgroup": "0",
         "line": {
          "color": "#636efa",
          "dash": "solid"
         },
         "marker": {
          "symbol": "circle"
         },
         "mode": "lines",
         "name": "0",
         "orientation": "v",
         "showlegend": true,
         "type": "scatter",
         "x": [
          2,
          5,
          6,
          7,
          8,
          9,
          10,
          11,
          12,
          13
         ],
         "xaxis": "x",
         "y": [
          35000,
          24300,
          39900,
          27000,
          33600,
          35000,
          30000,
          34000,
          30000,
          35000
         ],
         "yaxis": "y"
        },
        {
         "hovertemplate": "ClusterLabels=1<br>plotDate=%{x}<br>maxPrice=%{y}<extra></extra>",
         "legendgroup": "1",
         "line": {
          "color": "#EF553B",
          "dash": "solid"
         },
         "marker": {
          "symbol": "circle"
         },
         "mode": "lines",
         "name": "1",
         "orientation": "v",
         "showlegend": true,
         "type": "scatter",
         "x": [
          2,
          5,
          6,
          7,
          8,
          9,
          10,
          11,
          12,
          13
         ],
         "xaxis": "x",
         "y": [
          39900,
          30000,
          39900,
          19900,
          25500,
          33000,
          35000,
          38000,
          30000,
          39900
         ],
         "yaxis": "y"
        }
       ],
       "layout": {
        "legend": {
         "title": {
          "text": "ClusterLabels"
         },
         "tracegroupgap": 0
        },
        "margin": {
         "t": 60
        },
        "template": {
         "data": {
          "bar": [
           {
            "error_x": {
             "color": "#2a3f5f"
            },
            "error_y": {
             "color": "#2a3f5f"
            },
            "marker": {
             "line": {
              "color": "#E5ECF6",
              "width": 0.5
             },
             "pattern": {
              "fillmode": "overlay",
              "size": 10,
              "solidity": 0.2
             }
            },
            "type": "bar"
           }
          ],
          "barpolar": [
           {
            "marker": {
             "line": {
              "color": "#E5ECF6",
              "width": 0.5
             },
             "pattern": {
              "fillmode": "overlay",
              "size": 10,
              "solidity": 0.2
             }
            },
            "type": "barpolar"
           }
          ],
          "carpet": [
           {
            "aaxis": {
             "endlinecolor": "#2a3f5f",
             "gridcolor": "white",
             "linecolor": "white",
             "minorgridcolor": "white",
             "startlinecolor": "#2a3f5f"
            },
            "baxis": {
             "endlinecolor": "#2a3f5f",
             "gridcolor": "white",
             "linecolor": "white",
             "minorgridcolor": "white",
             "startlinecolor": "#2a3f5f"
            },
            "type": "carpet"
           }
          ],
          "choropleth": [
           {
            "colorbar": {
             "outlinewidth": 0,
             "ticks": ""
            },
            "type": "choropleth"
           }
          ],
          "contour": [
           {
            "colorbar": {
             "outlinewidth": 0,
             "ticks": ""
            },
            "colorscale": [
             [
              0,
              "#0d0887"
             ],
             [
              0.1111111111111111,
              "#46039f"
             ],
             [
              0.2222222222222222,
              "#7201a8"
             ],
             [
              0.3333333333333333,
              "#9c179e"
             ],
             [
              0.4444444444444444,
              "#bd3786"
             ],
             [
              0.5555555555555556,
              "#d8576b"
             ],
             [
              0.6666666666666666,
              "#ed7953"
             ],
             [
              0.7777777777777778,
              "#fb9f3a"
             ],
             [
              0.8888888888888888,
              "#fdca26"
             ],
             [
              1,
              "#f0f921"
             ]
            ],
            "type": "contour"
           }
          ],
          "contourcarpet": [
           {
            "colorbar": {
             "outlinewidth": 0,
             "ticks": ""
            },
            "type": "contourcarpet"
           }
          ],
          "heatmap": [
           {
            "colorbar": {
             "outlinewidth": 0,
             "ticks": ""
            },
            "colorscale": [
             [
              0,
              "#0d0887"
             ],
             [
              0.1111111111111111,
              "#46039f"
             ],
             [
              0.2222222222222222,
              "#7201a8"
             ],
             [
              0.3333333333333333,
              "#9c179e"
             ],
             [
              0.4444444444444444,
              "#bd3786"
             ],
             [
              0.5555555555555556,
              "#d8576b"
             ],
             [
              0.6666666666666666,
              "#ed7953"
             ],
             [
              0.7777777777777778,
              "#fb9f3a"
             ],
             [
              0.8888888888888888,
              "#fdca26"
             ],
             [
              1,
              "#f0f921"
             ]
            ],
            "type": "heatmap"
           }
          ],
          "heatmapgl": [
           {
            "colorbar": {
             "outlinewidth": 0,
             "ticks": ""
            },
            "colorscale": [
             [
              0,
              "#0d0887"
             ],
             [
              0.1111111111111111,
              "#46039f"
             ],
             [
              0.2222222222222222,
              "#7201a8"
             ],
             [
              0.3333333333333333,
              "#9c179e"
             ],
             [
              0.4444444444444444,
              "#bd3786"
             ],
             [
              0.5555555555555556,
              "#d8576b"
             ],
             [
              0.6666666666666666,
              "#ed7953"
             ],
             [
              0.7777777777777778,
              "#fb9f3a"
             ],
             [
              0.8888888888888888,
              "#fdca26"
             ],
             [
              1,
              "#f0f921"
             ]
            ],
            "type": "heatmapgl"
           }
          ],
          "histogram": [
           {
            "marker": {
             "pattern": {
              "fillmode": "overlay",
              "size": 10,
              "solidity": 0.2
             }
            },
            "type": "histogram"
           }
          ],
          "histogram2d": [
           {
            "colorbar": {
             "outlinewidth": 0,
             "ticks": ""
            },
            "colorscale": [
             [
              0,
              "#0d0887"
             ],
             [
              0.1111111111111111,
              "#46039f"
             ],
             [
              0.2222222222222222,
              "#7201a8"
             ],
             [
              0.3333333333333333,
              "#9c179e"
             ],
             [
              0.4444444444444444,
              "#bd3786"
             ],
             [
              0.5555555555555556,
              "#d8576b"
             ],
             [
              0.6666666666666666,
              "#ed7953"
             ],
             [
              0.7777777777777778,
              "#fb9f3a"
             ],
             [
              0.8888888888888888,
              "#fdca26"
             ],
             [
              1,
              "#f0f921"
             ]
            ],
            "type": "histogram2d"
           }
          ],
          "histogram2dcontour": [
           {
            "colorbar": {
             "outlinewidth": 0,
             "ticks": ""
            },
            "colorscale": [
             [
              0,
              "#0d0887"
             ],
             [
              0.1111111111111111,
              "#46039f"
             ],
             [
              0.2222222222222222,
              "#7201a8"
             ],
             [
              0.3333333333333333,
              "#9c179e"
             ],
             [
              0.4444444444444444,
              "#bd3786"
             ],
             [
              0.5555555555555556,
              "#d8576b"
             ],
             [
              0.6666666666666666,
              "#ed7953"
             ],
             [
              0.7777777777777778,
              "#fb9f3a"
             ],
             [
              0.8888888888888888,
              "#fdca26"
             ],
             [
              1,
              "#f0f921"
             ]
            ],
            "type": "histogram2dcontour"
           }
          ],
          "mesh3d": [
           {
            "colorbar": {
             "outlinewidth": 0,
             "ticks": ""
            },
            "type": "mesh3d"
           }
          ],
          "parcoords": [
           {
            "line": {
             "colorbar": {
              "outlinewidth": 0,
              "ticks": ""
             }
            },
            "type": "parcoords"
           }
          ],
          "pie": [
           {
            "automargin": true,
            "type": "pie"
           }
          ],
          "scatter": [
           {
            "fillpattern": {
             "fillmode": "overlay",
             "size": 10,
             "solidity": 0.2
            },
            "type": "scatter"
           }
          ],
          "scatter3d": [
           {
            "line": {
             "colorbar": {
              "outlinewidth": 0,
              "ticks": ""
             }
            },
            "marker": {
             "colorbar": {
              "outlinewidth": 0,
              "ticks": ""
             }
            },
            "type": "scatter3d"
           }
          ],
          "scattercarpet": [
           {
            "marker": {
             "colorbar": {
              "outlinewidth": 0,
              "ticks": ""
             }
            },
            "type": "scattercarpet"
           }
          ],
          "scattergeo": [
           {
            "marker": {
             "colorbar": {
              "outlinewidth": 0,
              "ticks": ""
             }
            },
            "type": "scattergeo"
           }
          ],
          "scattergl": [
           {
            "marker": {
             "colorbar": {
              "outlinewidth": 0,
              "ticks": ""
             }
            },
            "type": "scattergl"
           }
          ],
          "scattermapbox": [
           {
            "marker": {
             "colorbar": {
              "outlinewidth": 0,
              "ticks": ""
             }
            },
            "type": "scattermapbox"
           }
          ],
          "scatterpolar": [
           {
            "marker": {
             "colorbar": {
              "outlinewidth": 0,
              "ticks": ""
             }
            },
            "type": "scatterpolar"
           }
          ],
          "scatterpolargl": [
           {
            "marker": {
             "colorbar": {
              "outlinewidth": 0,
              "ticks": ""
             }
            },
            "type": "scatterpolargl"
           }
          ],
          "scatterternary": [
           {
            "marker": {
             "colorbar": {
              "outlinewidth": 0,
              "ticks": ""
             }
            },
            "type": "scatterternary"
           }
          ],
          "surface": [
           {
            "colorbar": {
             "outlinewidth": 0,
             "ticks": ""
            },
            "colorscale": [
             [
              0,
              "#0d0887"
             ],
             [
              0.1111111111111111,
              "#46039f"
             ],
             [
              0.2222222222222222,
              "#7201a8"
             ],
             [
              0.3333333333333333,
              "#9c179e"
             ],
             [
              0.4444444444444444,
              "#bd3786"
             ],
             [
              0.5555555555555556,
              "#d8576b"
             ],
             [
              0.6666666666666666,
              "#ed7953"
             ],
             [
              0.7777777777777778,
              "#fb9f3a"
             ],
             [
              0.8888888888888888,
              "#fdca26"
             ],
             [
              1,
              "#f0f921"
             ]
            ],
            "type": "surface"
           }
          ],
          "table": [
           {
            "cells": {
             "fill": {
              "color": "#EBF0F8"
             },
             "line": {
              "color": "white"
             }
            },
            "header": {
             "fill": {
              "color": "#C8D4E3"
             },
             "line": {
              "color": "white"
             }
            },
            "type": "table"
           }
          ]
         },
         "layout": {
          "annotationdefaults": {
           "arrowcolor": "#2a3f5f",
           "arrowhead": 0,
           "arrowwidth": 1
          },
          "autotypenumbers": "strict",
          "coloraxis": {
           "colorbar": {
            "outlinewidth": 0,
            "ticks": ""
           }
          },
          "colorscale": {
           "diverging": [
            [
             0,
             "#8e0152"
            ],
            [
             0.1,
             "#c51b7d"
            ],
            [
             0.2,
             "#de77ae"
            ],
            [
             0.3,
             "#f1b6da"
            ],
            [
             0.4,
             "#fde0ef"
            ],
            [
             0.5,
             "#f7f7f7"
            ],
            [
             0.6,
             "#e6f5d0"
            ],
            [
             0.7,
             "#b8e186"
            ],
            [
             0.8,
             "#7fbc41"
            ],
            [
             0.9,
             "#4d9221"
            ],
            [
             1,
             "#276419"
            ]
           ],
           "sequential": [
            [
             0,
             "#0d0887"
            ],
            [
             0.1111111111111111,
             "#46039f"
            ],
            [
             0.2222222222222222,
             "#7201a8"
            ],
            [
             0.3333333333333333,
             "#9c179e"
            ],
            [
             0.4444444444444444,
             "#bd3786"
            ],
            [
             0.5555555555555556,
             "#d8576b"
            ],
            [
             0.6666666666666666,
             "#ed7953"
            ],
            [
             0.7777777777777778,
             "#fb9f3a"
            ],
            [
             0.8888888888888888,
             "#fdca26"
            ],
            [
             1,
             "#f0f921"
            ]
           ],
           "sequentialminus": [
            [
             0,
             "#0d0887"
            ],
            [
             0.1111111111111111,
             "#46039f"
            ],
            [
             0.2222222222222222,
             "#7201a8"
            ],
            [
             0.3333333333333333,
             "#9c179e"
            ],
            [
             0.4444444444444444,
             "#bd3786"
            ],
            [
             0.5555555555555556,
             "#d8576b"
            ],
            [
             0.6666666666666666,
             "#ed7953"
            ],
            [
             0.7777777777777778,
             "#fb9f3a"
            ],
            [
             0.8888888888888888,
             "#fdca26"
            ],
            [
             1,
             "#f0f921"
            ]
           ]
          },
          "colorway": [
           "#636efa",
           "#EF553B",
           "#00cc96",
           "#ab63fa",
           "#FFA15A",
           "#19d3f3",
           "#FF6692",
           "#B6E880",
           "#FF97FF",
           "#FECB52"
          ],
          "font": {
           "color": "#2a3f5f"
          },
          "geo": {
           "bgcolor": "white",
           "lakecolor": "white",
           "landcolor": "#E5ECF6",
           "showlakes": true,
           "showland": true,
           "subunitcolor": "white"
          },
          "hoverlabel": {
           "align": "left"
          },
          "hovermode": "closest",
          "mapbox": {
           "style": "light"
          },
          "paper_bgcolor": "white",
          "plot_bgcolor": "#E5ECF6",
          "polar": {
           "angularaxis": {
            "gridcolor": "white",
            "linecolor": "white",
            "ticks": ""
           },
           "bgcolor": "#E5ECF6",
           "radialaxis": {
            "gridcolor": "white",
            "linecolor": "white",
            "ticks": ""
           }
          },
          "scene": {
           "xaxis": {
            "backgroundcolor": "#E5ECF6",
            "gridcolor": "white",
            "gridwidth": 2,
            "linecolor": "white",
            "showbackground": true,
            "ticks": "",
            "zerolinecolor": "white"
           },
           "yaxis": {
            "backgroundcolor": "#E5ECF6",
            "gridcolor": "white",
            "gridwidth": 2,
            "linecolor": "white",
            "showbackground": true,
            "ticks": "",
            "zerolinecolor": "white"
           },
           "zaxis": {
            "backgroundcolor": "#E5ECF6",
            "gridcolor": "white",
            "gridwidth": 2,
            "linecolor": "white",
            "showbackground": true,
            "ticks": "",
            "zerolinecolor": "white"
           }
          },
          "shapedefaults": {
           "line": {
            "color": "#2a3f5f"
           }
          },
          "ternary": {
           "aaxis": {
            "gridcolor": "white",
            "linecolor": "white",
            "ticks": ""
           },
           "baxis": {
            "gridcolor": "white",
            "linecolor": "white",
            "ticks": ""
           },
           "bgcolor": "#E5ECF6",
           "caxis": {
            "gridcolor": "white",
            "linecolor": "white",
            "ticks": ""
           }
          },
          "title": {
           "x": 0.05
          },
          "xaxis": {
           "automargin": true,
           "gridcolor": "white",
           "linecolor": "white",
           "ticks": "",
           "title": {
            "standoff": 15
           },
           "zerolinecolor": "white",
           "zerolinewidth": 2
          },
          "yaxis": {
           "automargin": true,
           "gridcolor": "white",
           "linecolor": "white",
           "ticks": "",
           "title": {
            "standoff": 15
           },
           "zerolinecolor": "white",
           "zerolinewidth": 2
          }
         }
        },
        "xaxis": {
         "anchor": "y",
         "domain": [
          0,
          1
         ],
         "title": {
          "text": "plotDate"
         }
        },
        "yaxis": {
         "anchor": "x",
         "domain": [
          0,
          1
         ],
         "title": {
          "text": "maxPrice"
         }
        }
       }
      }
     },
     "metadata": {},
     "output_type": "display_data"
    }
   ],
   "source": [
    "df_agg = df_plot.groupby([\"ClusterLabels\", \"plotDate\"])[\"price\"].agg(\n",
    "    {(\"maxPrice\", lambda x: x.max())}\n",
    ")\n",
    "df_agg.reset_index(inplace=True)\n",
    "fig = px.line(df_agg, x=\"plotDate\", y=\"maxPrice\", color=\"ClusterLabels\")\n",
    "fig.show()\n"
   ]
  },
  {
   "cell_type": "code",
   "execution_count": 140,
   "metadata": {},
   "outputs": [
    {
     "data": {
      "application/vnd.plotly.v1+json": {
       "config": {
        "plotlyServerURL": "https://plot.ly"
       },
       "data": [
        {
         "hovertemplate": "ClusterLabels=0<br>plotDate=%{x}<br>minPrice=%{y}<extra></extra>",
         "legendgroup": "0",
         "line": {
          "color": "#636efa",
          "dash": "solid"
         },
         "marker": {
          "symbol": "circle"
         },
         "mode": "lines",
         "name": "0",
         "orientation": "v",
         "showlegend": true,
         "type": "scatter",
         "x": [
          2,
          5,
          6,
          7,
          8,
          9,
          10,
          11,
          12,
          13
         ],
         "xaxis": "x",
         "y": [
          4250,
          5100,
          250,
          250,
          250,
          250,
          299,
          250,
          250,
          250
         ],
         "yaxis": "y"
        },
        {
         "hovertemplate": "ClusterLabels=1<br>plotDate=%{x}<br>minPrice=%{y}<extra></extra>",
         "legendgroup": "1",
         "line": {
          "color": "#EF553B",
          "dash": "solid"
         },
         "marker": {
          "symbol": "circle"
         },
         "mode": "lines",
         "name": "1",
         "orientation": "v",
         "showlegend": true,
         "type": "scatter",
         "x": [
          2,
          5,
          6,
          7,
          8,
          9,
          10,
          11,
          12,
          13
         ],
         "xaxis": "x",
         "y": [
          1000,
          250,
          1000,
          1600,
          500,
          1000,
          250,
          1500,
          1000,
          500
         ],
         "yaxis": "y"
        }
       ],
       "layout": {
        "legend": {
         "title": {
          "text": "ClusterLabels"
         },
         "tracegroupgap": 0
        },
        "margin": {
         "t": 60
        },
        "template": {
         "data": {
          "bar": [
           {
            "error_x": {
             "color": "#2a3f5f"
            },
            "error_y": {
             "color": "#2a3f5f"
            },
            "marker": {
             "line": {
              "color": "#E5ECF6",
              "width": 0.5
             },
             "pattern": {
              "fillmode": "overlay",
              "size": 10,
              "solidity": 0.2
             }
            },
            "type": "bar"
           }
          ],
          "barpolar": [
           {
            "marker": {
             "line": {
              "color": "#E5ECF6",
              "width": 0.5
             },
             "pattern": {
              "fillmode": "overlay",
              "size": 10,
              "solidity": 0.2
             }
            },
            "type": "barpolar"
           }
          ],
          "carpet": [
           {
            "aaxis": {
             "endlinecolor": "#2a3f5f",
             "gridcolor": "white",
             "linecolor": "white",
             "minorgridcolor": "white",
             "startlinecolor": "#2a3f5f"
            },
            "baxis": {
             "endlinecolor": "#2a3f5f",
             "gridcolor": "white",
             "linecolor": "white",
             "minorgridcolor": "white",
             "startlinecolor": "#2a3f5f"
            },
            "type": "carpet"
           }
          ],
          "choropleth": [
           {
            "colorbar": {
             "outlinewidth": 0,
             "ticks": ""
            },
            "type": "choropleth"
           }
          ],
          "contour": [
           {
            "colorbar": {
             "outlinewidth": 0,
             "ticks": ""
            },
            "colorscale": [
             [
              0,
              "#0d0887"
             ],
             [
              0.1111111111111111,
              "#46039f"
             ],
             [
              0.2222222222222222,
              "#7201a8"
             ],
             [
              0.3333333333333333,
              "#9c179e"
             ],
             [
              0.4444444444444444,
              "#bd3786"
             ],
             [
              0.5555555555555556,
              "#d8576b"
             ],
             [
              0.6666666666666666,
              "#ed7953"
             ],
             [
              0.7777777777777778,
              "#fb9f3a"
             ],
             [
              0.8888888888888888,
              "#fdca26"
             ],
             [
              1,
              "#f0f921"
             ]
            ],
            "type": "contour"
           }
          ],
          "contourcarpet": [
           {
            "colorbar": {
             "outlinewidth": 0,
             "ticks": ""
            },
            "type": "contourcarpet"
           }
          ],
          "heatmap": [
           {
            "colorbar": {
             "outlinewidth": 0,
             "ticks": ""
            },
            "colorscale": [
             [
              0,
              "#0d0887"
             ],
             [
              0.1111111111111111,
              "#46039f"
             ],
             [
              0.2222222222222222,
              "#7201a8"
             ],
             [
              0.3333333333333333,
              "#9c179e"
             ],
             [
              0.4444444444444444,
              "#bd3786"
             ],
             [
              0.5555555555555556,
              "#d8576b"
             ],
             [
              0.6666666666666666,
              "#ed7953"
             ],
             [
              0.7777777777777778,
              "#fb9f3a"
             ],
             [
              0.8888888888888888,
              "#fdca26"
             ],
             [
              1,
              "#f0f921"
             ]
            ],
            "type": "heatmap"
           }
          ],
          "heatmapgl": [
           {
            "colorbar": {
             "outlinewidth": 0,
             "ticks": ""
            },
            "colorscale": [
             [
              0,
              "#0d0887"
             ],
             [
              0.1111111111111111,
              "#46039f"
             ],
             [
              0.2222222222222222,
              "#7201a8"
             ],
             [
              0.3333333333333333,
              "#9c179e"
             ],
             [
              0.4444444444444444,
              "#bd3786"
             ],
             [
              0.5555555555555556,
              "#d8576b"
             ],
             [
              0.6666666666666666,
              "#ed7953"
             ],
             [
              0.7777777777777778,
              "#fb9f3a"
             ],
             [
              0.8888888888888888,
              "#fdca26"
             ],
             [
              1,
              "#f0f921"
             ]
            ],
            "type": "heatmapgl"
           }
          ],
          "histogram": [
           {
            "marker": {
             "pattern": {
              "fillmode": "overlay",
              "size": 10,
              "solidity": 0.2
             }
            },
            "type": "histogram"
           }
          ],
          "histogram2d": [
           {
            "colorbar": {
             "outlinewidth": 0,
             "ticks": ""
            },
            "colorscale": [
             [
              0,
              "#0d0887"
             ],
             [
              0.1111111111111111,
              "#46039f"
             ],
             [
              0.2222222222222222,
              "#7201a8"
             ],
             [
              0.3333333333333333,
              "#9c179e"
             ],
             [
              0.4444444444444444,
              "#bd3786"
             ],
             [
              0.5555555555555556,
              "#d8576b"
             ],
             [
              0.6666666666666666,
              "#ed7953"
             ],
             [
              0.7777777777777778,
              "#fb9f3a"
             ],
             [
              0.8888888888888888,
              "#fdca26"
             ],
             [
              1,
              "#f0f921"
             ]
            ],
            "type": "histogram2d"
           }
          ],
          "histogram2dcontour": [
           {
            "colorbar": {
             "outlinewidth": 0,
             "ticks": ""
            },
            "colorscale": [
             [
              0,
              "#0d0887"
             ],
             [
              0.1111111111111111,
              "#46039f"
             ],
             [
              0.2222222222222222,
              "#7201a8"
             ],
             [
              0.3333333333333333,
              "#9c179e"
             ],
             [
              0.4444444444444444,
              "#bd3786"
             ],
             [
              0.5555555555555556,
              "#d8576b"
             ],
             [
              0.6666666666666666,
              "#ed7953"
             ],
             [
              0.7777777777777778,
              "#fb9f3a"
             ],
             [
              0.8888888888888888,
              "#fdca26"
             ],
             [
              1,
              "#f0f921"
             ]
            ],
            "type": "histogram2dcontour"
           }
          ],
          "mesh3d": [
           {
            "colorbar": {
             "outlinewidth": 0,
             "ticks": ""
            },
            "type": "mesh3d"
           }
          ],
          "parcoords": [
           {
            "line": {
             "colorbar": {
              "outlinewidth": 0,
              "ticks": ""
             }
            },
            "type": "parcoords"
           }
          ],
          "pie": [
           {
            "automargin": true,
            "type": "pie"
           }
          ],
          "scatter": [
           {
            "fillpattern": {
             "fillmode": "overlay",
             "size": 10,
             "solidity": 0.2
            },
            "type": "scatter"
           }
          ],
          "scatter3d": [
           {
            "line": {
             "colorbar": {
              "outlinewidth": 0,
              "ticks": ""
             }
            },
            "marker": {
             "colorbar": {
              "outlinewidth": 0,
              "ticks": ""
             }
            },
            "type": "scatter3d"
           }
          ],
          "scattercarpet": [
           {
            "marker": {
             "colorbar": {
              "outlinewidth": 0,
              "ticks": ""
             }
            },
            "type": "scattercarpet"
           }
          ],
          "scattergeo": [
           {
            "marker": {
             "colorbar": {
              "outlinewidth": 0,
              "ticks": ""
             }
            },
            "type": "scattergeo"
           }
          ],
          "scattergl": [
           {
            "marker": {
             "colorbar": {
              "outlinewidth": 0,
              "ticks": ""
             }
            },
            "type": "scattergl"
           }
          ],
          "scattermapbox": [
           {
            "marker": {
             "colorbar": {
              "outlinewidth": 0,
              "ticks": ""
             }
            },
            "type": "scattermapbox"
           }
          ],
          "scatterpolar": [
           {
            "marker": {
             "colorbar": {
              "outlinewidth": 0,
              "ticks": ""
             }
            },
            "type": "scatterpolar"
           }
          ],
          "scatterpolargl": [
           {
            "marker": {
             "colorbar": {
              "outlinewidth": 0,
              "ticks": ""
             }
            },
            "type": "scatterpolargl"
           }
          ],
          "scatterternary": [
           {
            "marker": {
             "colorbar": {
              "outlinewidth": 0,
              "ticks": ""
             }
            },
            "type": "scatterternary"
           }
          ],
          "surface": [
           {
            "colorbar": {
             "outlinewidth": 0,
             "ticks": ""
            },
            "colorscale": [
             [
              0,
              "#0d0887"
             ],
             [
              0.1111111111111111,
              "#46039f"
             ],
             [
              0.2222222222222222,
              "#7201a8"
             ],
             [
              0.3333333333333333,
              "#9c179e"
             ],
             [
              0.4444444444444444,
              "#bd3786"
             ],
             [
              0.5555555555555556,
              "#d8576b"
             ],
             [
              0.6666666666666666,
              "#ed7953"
             ],
             [
              0.7777777777777778,
              "#fb9f3a"
             ],
             [
              0.8888888888888888,
              "#fdca26"
             ],
             [
              1,
              "#f0f921"
             ]
            ],
            "type": "surface"
           }
          ],
          "table": [
           {
            "cells": {
             "fill": {
              "color": "#EBF0F8"
             },
             "line": {
              "color": "white"
             }
            },
            "header": {
             "fill": {
              "color": "#C8D4E3"
             },
             "line": {
              "color": "white"
             }
            },
            "type": "table"
           }
          ]
         },
         "layout": {
          "annotationdefaults": {
           "arrowcolor": "#2a3f5f",
           "arrowhead": 0,
           "arrowwidth": 1
          },
          "autotypenumbers": "strict",
          "coloraxis": {
           "colorbar": {
            "outlinewidth": 0,
            "ticks": ""
           }
          },
          "colorscale": {
           "diverging": [
            [
             0,
             "#8e0152"
            ],
            [
             0.1,
             "#c51b7d"
            ],
            [
             0.2,
             "#de77ae"
            ],
            [
             0.3,
             "#f1b6da"
            ],
            [
             0.4,
             "#fde0ef"
            ],
            [
             0.5,
             "#f7f7f7"
            ],
            [
             0.6,
             "#e6f5d0"
            ],
            [
             0.7,
             "#b8e186"
            ],
            [
             0.8,
             "#7fbc41"
            ],
            [
             0.9,
             "#4d9221"
            ],
            [
             1,
             "#276419"
            ]
           ],
           "sequential": [
            [
             0,
             "#0d0887"
            ],
            [
             0.1111111111111111,
             "#46039f"
            ],
            [
             0.2222222222222222,
             "#7201a8"
            ],
            [
             0.3333333333333333,
             "#9c179e"
            ],
            [
             0.4444444444444444,
             "#bd3786"
            ],
            [
             0.5555555555555556,
             "#d8576b"
            ],
            [
             0.6666666666666666,
             "#ed7953"
            ],
            [
             0.7777777777777778,
             "#fb9f3a"
            ],
            [
             0.8888888888888888,
             "#fdca26"
            ],
            [
             1,
             "#f0f921"
            ]
           ],
           "sequentialminus": [
            [
             0,
             "#0d0887"
            ],
            [
             0.1111111111111111,
             "#46039f"
            ],
            [
             0.2222222222222222,
             "#7201a8"
            ],
            [
             0.3333333333333333,
             "#9c179e"
            ],
            [
             0.4444444444444444,
             "#bd3786"
            ],
            [
             0.5555555555555556,
             "#d8576b"
            ],
            [
             0.6666666666666666,
             "#ed7953"
            ],
            [
             0.7777777777777778,
             "#fb9f3a"
            ],
            [
             0.8888888888888888,
             "#fdca26"
            ],
            [
             1,
             "#f0f921"
            ]
           ]
          },
          "colorway": [
           "#636efa",
           "#EF553B",
           "#00cc96",
           "#ab63fa",
           "#FFA15A",
           "#19d3f3",
           "#FF6692",
           "#B6E880",
           "#FF97FF",
           "#FECB52"
          ],
          "font": {
           "color": "#2a3f5f"
          },
          "geo": {
           "bgcolor": "white",
           "lakecolor": "white",
           "landcolor": "#E5ECF6",
           "showlakes": true,
           "showland": true,
           "subunitcolor": "white"
          },
          "hoverlabel": {
           "align": "left"
          },
          "hovermode": "closest",
          "mapbox": {
           "style": "light"
          },
          "paper_bgcolor": "white",
          "plot_bgcolor": "#E5ECF6",
          "polar": {
           "angularaxis": {
            "gridcolor": "white",
            "linecolor": "white",
            "ticks": ""
           },
           "bgcolor": "#E5ECF6",
           "radialaxis": {
            "gridcolor": "white",
            "linecolor": "white",
            "ticks": ""
           }
          },
          "scene": {
           "xaxis": {
            "backgroundcolor": "#E5ECF6",
            "gridcolor": "white",
            "gridwidth": 2,
            "linecolor": "white",
            "showbackground": true,
            "ticks": "",
            "zerolinecolor": "white"
           },
           "yaxis": {
            "backgroundcolor": "#E5ECF6",
            "gridcolor": "white",
            "gridwidth": 2,
            "linecolor": "white",
            "showbackground": true,
            "ticks": "",
            "zerolinecolor": "white"
           },
           "zaxis": {
            "backgroundcolor": "#E5ECF6",
            "gridcolor": "white",
            "gridwidth": 2,
            "linecolor": "white",
            "showbackground": true,
            "ticks": "",
            "zerolinecolor": "white"
           }
          },
          "shapedefaults": {
           "line": {
            "color": "#2a3f5f"
           }
          },
          "ternary": {
           "aaxis": {
            "gridcolor": "white",
            "linecolor": "white",
            "ticks": ""
           },
           "baxis": {
            "gridcolor": "white",
            "linecolor": "white",
            "ticks": ""
           },
           "bgcolor": "#E5ECF6",
           "caxis": {
            "gridcolor": "white",
            "linecolor": "white",
            "ticks": ""
           }
          },
          "title": {
           "x": 0.05
          },
          "xaxis": {
           "automargin": true,
           "gridcolor": "white",
           "linecolor": "white",
           "ticks": "",
           "title": {
            "standoff": 15
           },
           "zerolinecolor": "white",
           "zerolinewidth": 2
          },
          "yaxis": {
           "automargin": true,
           "gridcolor": "white",
           "linecolor": "white",
           "ticks": "",
           "title": {
            "standoff": 15
           },
           "zerolinecolor": "white",
           "zerolinewidth": 2
          }
         }
        },
        "xaxis": {
         "anchor": "y",
         "domain": [
          0,
          1
         ],
         "title": {
          "text": "plotDate"
         }
        },
        "yaxis": {
         "anchor": "x",
         "domain": [
          0,
          1
         ],
         "title": {
          "text": "minPrice"
         }
        }
       }
      }
     },
     "metadata": {},
     "output_type": "display_data"
    }
   ],
   "source": [
    "df_agg = df_plot.groupby([\"ClusterLabels\", \"plotDate\"])[\"price\"].agg(\n",
    "    {(\"minPrice\", lambda x: x.min())}\n",
    ")\n",
    "df_agg.reset_index(inplace=True)\n",
    "fig = px.line(df_agg, x=\"plotDate\", y=\"minPrice\", color=\"ClusterLabels\")\n",
    "fig.show()\n"
   ]
  }
 ],
 "metadata": {
  "kernelspec": {
   "display_name": "Python 3.10.5 ('StandardDSEnv')",
   "language": "python",
   "name": "python3"
  },
  "language_info": {
   "codemirror_mode": {
    "name": "ipython",
    "version": 3
   },
   "file_extension": ".py",
   "mimetype": "text/x-python",
   "name": "python",
   "nbconvert_exporter": "python",
   "pygments_lexer": "ipython3",
   "version": "3.10.5"
  },
  "orig_nbformat": 4,
  "vscode": {
   "interpreter": {
    "hash": "74589d62557c52dad5cd4c033543537cfe0956caa9404333803ea8e383a81d06"
   }
  }
 },
 "nbformat": 4,
 "nbformat_minor": 2
}
